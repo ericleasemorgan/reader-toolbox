{
 "cells": [
  {
   "cell_type": "markdown",
   "metadata": {},
   "source": [
    "# Bibliography"
   ]
  },
  {
   "cell_type": "markdown",
   "metadata": {},
   "source": [
    "How to create a simple list of the study carrels availble from the public library."
   ]
  },
  {
   "cell_type": "code",
   "execution_count": 2,
   "metadata": {},
   "outputs": [],
   "source": [
    "# configure\n",
    "CATALOG = 'http://library.distantreader.org/catalog/catalog.json'\n"
   ]
  },
  {
   "cell_type": "code",
   "execution_count": null,
   "metadata": {},
   "outputs": [],
   "source": [
    "# require\n",
    "import requests\n"
   ]
  },
  {
   "cell_type": "code",
   "execution_count": null,
   "metadata": {
    "scrolled": false
   },
   "outputs": [],
   "source": [
    "# get and process each item in the catalog\n",
    "catalog = requests.get( CATALOG ).json()\n",
    "for carrel in catalog :\n",
    "\n",
    "    # parse\n",
    "    name     = carrel[ 'shortname' ]\n",
    "    date     = carrel[ 'date-created' ]\n",
    "    keywords = carrel[ 'keywords' ]\n",
    "    items    = carrel[ 'items' ]\n",
    "    words    = carrel[ 'words' ]\n",
    "    flesch   = carrel[ 'flesch' ]\n",
    "    bytes    = carrel[ 'size' ]\n",
    "    \n",
    "    # output\n",
    "    print( '      name: %s' % name )\n",
    "    print( '      date: %s' % date )\n",
    "    print( '  keywords: %s' % keywords )\n",
    "    print( '     items: %s' % items )\n",
    "    print( '     words: %s' % words )\n",
    "    print( '     bytes: %s' % bytes )\n",
    "    print()\n"
   ]
  }
 ],
 "metadata": {
  "kernelspec": {
   "display_name": "Python 3 (ipykernel)",
   "language": "python",
   "name": "python3"
  },
  "language_info": {
   "codemirror_mode": {
    "name": "ipython",
    "version": 3
   },
   "file_extension": ".py",
   "mimetype": "text/x-python",
   "name": "python",
   "nbconvert_exporter": "python",
   "pygments_lexer": "ipython3",
   "version": "3.9.13"
  }
 },
 "nbformat": 4,
 "nbformat_minor": 4
}
