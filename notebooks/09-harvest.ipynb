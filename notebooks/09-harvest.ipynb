{
 "cells": [
  {
   "cell_type": "code",
   "execution_count": 1,
   "metadata": {},
   "outputs": [],
   "source": [
    "# configure\n",
    "CARREL   = 'subject-lucianOfSamosata-gutenberg'\n",
    "TEMPLATE = 'http://library.distantreader.org/carrels/%s/study-carrel.zip'\n",
    "CARRELS  = './carrels'\n",
    "ZIP      = './tmp/study-carrel.zip'\n"
   ]
  },
  {
   "cell_type": "code",
   "execution_count": 2,
   "metadata": {},
   "outputs": [],
   "source": [
    "# require\n",
    "import requests\n",
    "import sys\n",
    "import zipfile\n"
   ]
  },
  {
   "cell_type": "code",
   "execution_count": 3,
   "metadata": {},
   "outputs": [],
   "source": [
    "# initialize\n",
    "url = ( TEMPLATE % CARREL )\n"
   ]
  },
  {
   "cell_type": "code",
   "execution_count": null,
   "metadata": {
    "scrolled": true
   },
   "outputs": [
    {
     "name": "stdout",
     "output_type": "stream",
     "text": [
      "Downloading http://library.distantreader.org/carrels/subject-lucianOfSamosata-gutenberg/study-carrel.zip\n",
      "[================================================= ]"
     ]
    }
   ],
   "source": [
    "# cache the remote content\n",
    "with open( ZIP, 'wb' ) as handle :\n",
    "    \n",
    "    # debug, initialize request, and get length\n",
    "    sys.stdout.write( \"Downloading %s\\n\" % url )\n",
    "    response = requests.get( url, stream=True )\n",
    "    length   = response.headers.get( 'content-length' )\n",
    "    \n",
    "    # do the work\n",
    "    if length is None : handle.write( response.content )\n",
    "    else :\n",
    "        \n",
    "        # initialize\n",
    "        downloaded = 0\n",
    "        length     = int( length )\n",
    "        \n",
    "        # download\n",
    "        for data in response.iter_content( chunk_size=5120 ) :\n",
    "            \n",
    "            # re-initialize\n",
    "            downloaded += len( data )\n",
    "            percent    =  int( 50 * downloaded / length )\n",
    "            \n",
    "            # debug\n",
    "            sys.stdout.write(\"\\r[%s%s]\" % ( '=' * percent, ' ' * ( 50-percent ) ) )\n",
    "            sys.stdout.flush()\n",
    "            \n",
    "            # save\n",
    "            handle.write( data )\n"
   ]
  },
  {
   "cell_type": "code",
   "execution_count": null,
   "metadata": {},
   "outputs": [],
   "source": [
    "# unzip\n",
    "with zipfile.ZipFile( ZIP, 'r' ) as handle : handle.extractall( CARRELS )\n"
   ]
  },
  {
   "cell_type": "code",
   "execution_count": null,
   "metadata": {},
   "outputs": [],
   "source": []
  }
 ],
 "metadata": {
  "kernelspec": {
   "display_name": "Python 3",
   "language": "python",
   "name": "python3"
  },
  "language_info": {
   "codemirror_mode": {
    "name": "ipython",
    "version": 3
   },
   "file_extension": ".py",
   "mimetype": "text/x-python",
   "name": "python",
   "nbconvert_exporter": "python",
   "pygments_lexer": "ipython3",
   "version": "3.8.5"
  }
 },
 "nbformat": 4,
 "nbformat_minor": 4
}
