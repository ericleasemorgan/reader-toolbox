{
 "cells": [
  {
   "cell_type": "markdown",
   "id": "219b47ac",
   "metadata": {},
   "source": [
    "# URLs"
   ]
  },
  {
   "cell_type": "markdown",
   "id": "5e359775",
   "metadata": {},
   "source": [
    "Use this notebook to count & tabulate the URLs and domains extracted from the content of the study carrel. The output will help you learn what remote content the authors of the study carrel content deemed important."
   ]
  },
  {
   "cell_type": "markdown",
   "id": "2c6a5450",
   "metadata": {},
   "source": [
    "Consider using the output of this notebook as the input to an Internet spider (like `wget`). And then use the resulting content as input for another study carrel. Such is like downloading all the citations in a paper and analyzing them."
   ]
  },
  {
   "cell_type": "code",
   "execution_count": null,
   "id": "84b4a049",
   "metadata": {},
   "outputs": [],
   "source": [
    "# configure\n",
    "ETC      = 'etc'\n",
    "DATABASE = 'reader.db'\n",
    "URLS     = '''SELECT DISTINCT( url ) AS url, COUNT( DISTINCT( url ) ) As count\n",
    "              FROM url\n",
    "              GROUP BY url\n",
    "              ORDER BY count DESC;'''\n",
    "DOMAINS  = '''SELECT LOWER( DISTINCT( domain ) ) AS domain, COUNT( LOWER( DISTINCT( domain ) ) ) AS count\n",
    "              FROM url\n",
    "              GROUP BY domain\n",
    "              ORDER BY count DESC, domain;'''"
   ]
  },
  {
   "cell_type": "code",
   "execution_count": null,
   "id": "f4cf5364",
   "metadata": {},
   "outputs": [],
   "source": [
    "# require\n",
    "from pathlib import Path\n",
    "import sqlite3\n",
    "import sys"
   ]
  },
  {
   "cell_type": "code",
   "execution_count": null,
   "id": "e6303cbf",
   "metadata": {},
   "outputs": [],
   "source": [
    "# initialize\n",
    "carrel                 = Path().absolute().parent\n",
    "database               = carrel/ETC/DATABASE\n",
    "connection             = sqlite3.connect( database  )\n",
    "connection.row_factory = sqlite3.Row"
   ]
  },
  {
   "cell_type": "code",
   "execution_count": null,
   "id": "b24dcd5b",
   "metadata": {},
   "outputs": [],
   "source": [
    "# find all URLs and count the number of results\n",
    "rows  = connection.execute( URLS )\n",
    "rows  = rows.fetchall()\n",
    "total = len( rows )"
   ]
  },
  {
   "cell_type": "code",
   "execution_count": null,
   "id": "a685f7e8",
   "metadata": {},
   "outputs": [],
   "source": [
    "# process each item, conditionally\n",
    "if total > 0 :\n",
    "    \n",
    "    # process each result\n",
    "    for row in rows :\n",
    "    \n",
    "        # output\n",
    "        print( \"\\t\".join( [ row[ 'url' ], str( row[ 'count' ] ) ] ) )\n",
    "\n",
    "# output\n",
    "else : print( \"This carrel contains zero URLs.\" )"
   ]
  },
  {
   "cell_type": "code",
   "execution_count": null,
   "id": "adb40b37",
   "metadata": {},
   "outputs": [],
   "source": [
    "# find all domains and count the number of results\n",
    "rows  = connection.execute( DOMAINS )\n",
    "rows  = rows.fetchall()\n",
    "total = len( rows )"
   ]
  },
  {
   "cell_type": "code",
   "execution_count": null,
   "id": "5ddffb77",
   "metadata": {},
   "outputs": [],
   "source": [
    "# process each item, conditionally\n",
    "if total > 0 :\n",
    "    \n",
    "    # process each result\n",
    "    for row in rows :\n",
    "    \n",
    "        # output\n",
    "        print( \"\\t\".join( [ row[ 'domain' ], str( row[ 'count' ] ) ] ) )\n",
    "\n",
    "# output and done\n",
    "else : print( \"This carrel contains zero domains.\" )"
   ]
  },
  {
   "cell_type": "code",
   "execution_count": null,
   "id": "88986f56",
   "metadata": {},
   "outputs": [],
   "source": [
    "# clean up and done\n",
    "connection.close()\n",
    "exit()"
   ]
  }
 ],
 "metadata": {
  "kernelspec": {
   "display_name": "Python 3 (ipykernel)",
   "language": "python",
   "name": "python3"
  },
  "language_info": {
   "codemirror_mode": {
    "name": "ipython",
    "version": 3
   },
   "file_extension": ".py",
   "mimetype": "text/x-python",
   "name": "python",
   "nbconvert_exporter": "python",
   "pygments_lexer": "ipython3",
   "version": "3.9.7"
  }
 },
 "nbformat": 4,
 "nbformat_minor": 5
}
