{
 "cells": [
  {
   "cell_type": "markdown",
   "id": "1214e86f",
   "metadata": {},
   "source": [
    "# Provenance"
   ]
  },
  {
   "cell_type": "markdown",
   "id": "52759b87",
   "metadata": {},
   "source": [
    "This notebook reads, parses, and outputs the content of a study carrel's provenance file."
   ]
  },
  {
   "cell_type": "code",
   "execution_count": 1,
   "id": "2962deda",
   "metadata": {},
   "outputs": [],
   "source": [
    "# configure\n",
    "PROVENANCE = 'provenance.tsv'\n",
    "MESSAGE    = \"The original name for this carrel was ##NAME##. It was created on ##DATE## at ##TIME## by ##PUBLISHER## using the ##PROCESS## method. The original content was at or from ##INPUT##.\""
   ]
  },
  {
   "cell_type": "code",
   "execution_count": 2,
   "id": "bb6c85f6",
   "metadata": {},
   "outputs": [],
   "source": [
    "# require\n",
    "from pathlib import Path"
   ]
  },
  {
   "cell_type": "code",
   "execution_count": 3,
   "id": "20f63913",
   "metadata": {},
   "outputs": [],
   "source": [
    "# intialize\n",
    "carrel     = Path().absolute().parent\n",
    "provenance = carrel/PROVENANCE"
   ]
  },
  {
   "cell_type": "code",
   "execution_count": 4,
   "id": "662c437f",
   "metadata": {},
   "outputs": [],
   "source": [
    "# open the provenance file, and read it\n",
    "with open ( provenance ) as handle : provanence = handle.read().rstrip( '\\n' )"
   ]
  },
  {
   "cell_type": "code",
   "execution_count": 5,
   "id": "f9c3072b",
   "metadata": {},
   "outputs": [],
   "source": [
    "# parse\n",
    "fields    = provanence.split( '\\t' )\n",
    "process   = fields[ 0 ]\n",
    "name      = fields[ 1 ]\n",
    "date      = fields[ 2 ]\n",
    "time      = fields[ 3 ]\n",
    "publisher = fields[ 4 ]\n",
    "input     = fields[ 5 ]"
   ]
  },
  {
   "cell_type": "code",
   "execution_count": 6,
   "id": "59495b51",
   "metadata": {},
   "outputs": [],
   "source": [
    "# build the output message\n",
    "message = MESSAGE.replace( '##NAME##', name )\n",
    "message = message.replace( '##DATE##', date )\n",
    "message = message.replace( '##TIME##', time )\n",
    "message = message.replace( '##PUBLISHER##', publisher )\n",
    "message = message.replace( '##PROCESS##', process )\n",
    "message = message.replace( '##INPUT##', input )"
   ]
  },
  {
   "cell_type": "code",
   "execution_count": 7,
   "id": "39d01791",
   "metadata": {},
   "outputs": [
    {
     "name": "stdout",
     "output_type": "stream",
     "text": [
      "The original name for this carrel was homer. It was created on 2021-08-16 at 13:59 by emorgan using the zip2carrel method. The original content was at or from homer.zip.\n"
     ]
    }
   ],
   "source": [
    "# output and done\n",
    "print( message )\n",
    "exit()"
   ]
  }
 ],
 "metadata": {
  "kernelspec": {
   "display_name": "Python 3 (ipykernel)",
   "language": "python",
   "name": "python3"
  },
  "language_info": {
   "codemirror_mode": {
    "name": "ipython",
    "version": 3
   },
   "file_extension": ".py",
   "mimetype": "text/x-python",
   "name": "python",
   "nbconvert_exporter": "python",
   "pygments_lexer": "ipython3",
   "version": "3.9.13"
  }
 },
 "nbformat": 4,
 "nbformat_minor": 5
}
