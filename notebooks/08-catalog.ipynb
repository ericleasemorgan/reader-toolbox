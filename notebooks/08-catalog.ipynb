{
 "cells": [
  {
   "cell_type": "code",
   "execution_count": null,
   "metadata": {},
   "outputs": [],
   "source": [
    "# configure\n",
    "CATALOG = 'https://library.distantreader.org/catalog/catalog.json'\n"
   ]
  },
  {
   "cell_type": "code",
   "execution_count": null,
   "metadata": {},
   "outputs": [],
   "source": [
    "# require\n",
    "import requests\n"
   ]
  },
  {
   "cell_type": "code",
   "execution_count": null,
   "metadata": {},
   "outputs": [],
   "source": [
    "# initialize\n",
    "catalog = requests.get( CATALOG ).json()\n"
   ]
  },
  {
   "cell_type": "code",
   "execution_count": null,
   "metadata": {},
   "outputs": [],
   "source": [
    "# process each item in the catalog\n",
    "for carrel in catalog :\n",
    "\n",
    "    # parse\n",
    "    name     = carrel[ 'shortname' ]\n",
    "    date     = carrel[ 'date-created' ]\n",
    "    keywords = carrel[ 'keywords' ]\n",
    "    items    = carrel[ 'items' ]\n",
    "    words    = carrel[ 'words' ]\n",
    "    flesch   = carrel[ 'flesch' ]\n",
    "    bytes    = carrel[ 'size' ]\n",
    "    \n",
    "    # output\n",
    "    print( '      name: %s' % name )\n",
    "    print( '      date: %s' % date )\n",
    "    print( '  keywords: %s' % keywords )\n",
    "    print( '     items: %s' % items )\n",
    "    print( '     words: %s' % words )\n",
    "    print( '     bytes: %s' % bytes )\n",
    "    print()\n"
   ]
  },
  {
   "cell_type": "code",
   "execution_count": null,
   "metadata": {},
   "outputs": [],
   "source": []
  }
 ],
 "metadata": {
  "kernelspec": {
   "display_name": "Python 3",
   "language": "python",
   "name": "python3"
  },
  "language_info": {
   "codemirror_mode": {
    "name": "ipython",
    "version": 3
   },
   "file_extension": ".py",
   "mimetype": "text/x-python",
   "name": "python",
   "nbconvert_exporter": "python",
   "pygments_lexer": "ipython3",
   "version": "3.8.5"
  }
 },
 "nbformat": 4,
 "nbformat_minor": 4
}
