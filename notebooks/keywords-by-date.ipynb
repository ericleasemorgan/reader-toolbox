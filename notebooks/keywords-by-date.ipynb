{
 "cells": [
  {
   "cell_type": "markdown",
   "id": "a5482916",
   "metadata": {},
   "source": [
    "# Keywords by date"
   ]
  },
  {
   "cell_type": "markdown",
   "id": "760e2ea3",
   "metadata": {},
   "source": [
    "Given a few configurations, output a CSV file where each row is a date, and each column is a keyword"
   ]
  },
  {
   "cell_type": "code",
   "execution_count": null,
   "id": "59fdd1f8",
   "metadata": {},
   "outputs": [],
   "source": [
    "# configure\n",
    "DATABASE = '/Users/eric/Documents/reader-library/addresses/etc/reader.db'\n",
    "SQL      = 'select w.keyword, count(w.keyword) as c from bib as b, wrd as w where b.date like \"##DATE##%\" AND b.id = w.id group by w.keyword order by c desc'\n",
    "START    = 1796\n",
    "END      = 2024\n",
    "KEYWORDS = [ 'government', 'people', 'states', 'world', 'america', 'country' ]"
   ]
  },
  {
   "cell_type": "code",
   "execution_count": null,
   "id": "d2e60d58",
   "metadata": {},
   "outputs": [],
   "source": [
    "# require\n",
    "import sqlite3\n",
    "import pandas as pd"
   ]
  },
  {
   "cell_type": "code",
   "execution_count": null,
   "id": "f1857087",
   "metadata": {},
   "outputs": [],
   "source": [
    "# initialize\n",
    "connection             = sqlite3.connect( DATABASE  )\n",
    "connection.row_factory = sqlite3.Row\n",
    "index                  = 0"
   ]
  },
  {
   "cell_type": "code",
   "execution_count": null,
   "id": "658b51f3",
   "metadata": {},
   "outputs": [],
   "source": [
    "# process all dates\n",
    "for date in range( START, END ) : \n",
    "\n",
    "# build and execute sql query\n",
    "    date = str( date )\n",
    "    sql  = SQL.replace( '##DATE##', date )\n",
    "    rows = connection.execute( sql )\n",
    "\n",
    "    # create a simple dataframe from the result; there has got to be a better way!\n",
    "    items = { 'date': date }\n",
    "    for row in rows :\n",
    "\n",
    "        if row[ 'keyword' ] in KEYWORDS : items[ row[ 'keyword' ] ] = row[ 'c' ]\n",
    "\n",
    "    row = pd.DataFrame( items, index=[ 'date' ] )\n",
    "\n",
    "    # increment and update the result\n",
    "    index += 1\n",
    "    if index == 1 : result = row\n",
    "    else          : result = pd.concat( [ result, row ] )"
   ]
  },
  {
   "cell_type": "code",
   "execution_count": null,
   "id": "d790713a",
   "metadata": {},
   "outputs": [],
   "source": [
    "# update null values with zero, output, and done\n",
    "result = result.fillna( 0 )\n",
    "print( result.to_csv( index=False ) )\n",
    "exit()"
   ]
  }
 ],
 "metadata": {
  "kernelspec": {
   "display_name": "Python 3 (ipykernel)",
   "language": "python",
   "name": "python3"
  },
  "language_info": {
   "codemirror_mode": {
    "name": "ipython",
    "version": 3
   },
   "file_extension": ".py",
   "mimetype": "text/x-python",
   "name": "python",
   "nbconvert_exporter": "python",
   "pygments_lexer": "ipython3",
   "version": "3.9.7"
  }
 },
 "nbformat": 4,
 "nbformat_minor": 5
}
