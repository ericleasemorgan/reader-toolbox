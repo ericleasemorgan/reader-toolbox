{
 "cells": [
  {
   "cell_type": "markdown",
   "metadata": {},
   "source": [
    "## Gentle introduction to text mining, revisited"
   ]
  },
  {
   "cell_type": "markdown",
   "metadata": {},
   "source": [
    "In this notebook you will define a file to open, and then the script will count & tabulate the words it contains. By defining different files to open, you will be able to quickly & easily compare & contrast texts. --Eric Lease Morgan"
   ]
  },
  {
   "cell_type": "code",
   "execution_count": null,
   "metadata": {},
   "outputs": [],
   "source": [
    "# configure; define some constants\n",
    "CARREL   = 'CodeOfConduct4Lib-2021-03-10'\n",
    "TEMPLATE = './carrels/%s/etc/reader.txt'\n",
    "LANGUAGE = 'english'\n"
   ]
  },
  {
   "cell_type": "code",
   "execution_count": null,
   "metadata": {},
   "outputs": [],
   "source": [
    "# require; what modules are needed?\n",
    "from nltk import *\n"
   ]
  },
  {
   "cell_type": "code",
   "execution_count": null,
   "metadata": {
    "scrolled": false
   },
   "outputs": [],
   "source": [
    "file = TEMPLATE % CARREL\n",
    "data = open( file ).read()\n"
   ]
  },
  {
   "cell_type": "code",
   "execution_count": null,
   "metadata": {
    "scrolled": true
   },
   "outputs": [],
   "source": [
    "# create a list of all the tokens (words, punctuation, etc) in the data\n",
    "tokens = word_tokenize( data )\n"
   ]
  },
  {
   "cell_type": "code",
   "execution_count": null,
   "metadata": {},
   "outputs": [],
   "source": [
    "# count & tabulate each token, and output the N most frequent tokens\n",
    "N          = 5\n",
    "frequecies = FreqDist( tokens )\n",
    "frequecies.most_common( N ) \n"
   ]
  },
  {
   "cell_type": "code",
   "execution_count": null,
   "metadata": {},
   "outputs": [],
   "source": [
    "# loop through each token and retain only lower-cased \"words\"; very pythonic\n",
    "tokens = [ token.lower() for token in tokens if token.isalpha() ] \n"
   ]
  },
  {
   "cell_type": "code",
   "execution_count": null,
   "metadata": {
    "scrolled": true
   },
   "outputs": [],
   "source": [
    "# count & tabulate again\n",
    "N          = 5\n",
    "frequecies = FreqDist( tokens )\n",
    "frequecies.most_common( N ) \n"
   ]
  },
  {
   "cell_type": "code",
   "execution_count": null,
   "metadata": {},
   "outputs": [],
   "source": [
    "# create a list (\"set\") of stop words from the given language\n",
    "stopwords = set( corpus.stopwords.words( LANGUAGE ) ) \n"
   ]
  },
  {
   "cell_type": "code",
   "execution_count": null,
   "metadata": {},
   "outputs": [],
   "source": [
    "# loop through the tokens (again), and retain only non-stopwords\n",
    "tokens = [ token for token in tokens if token not in stopwords ] \n"
   ]
  },
  {
   "cell_type": "code",
   "execution_count": null,
   "metadata": {},
   "outputs": [],
   "source": [
    "# count & tabulate again\n",
    "N          = 5\n",
    "frequecies = FreqDist( tokens )\n",
    "frequecies.most_common( N ) "
   ]
  },
  {
   "cell_type": "code",
   "execution_count": null,
   "metadata": {
    "scrolled": true
   },
   "outputs": [],
   "source": [
    "# count & tabulate the tokens yet again\n",
    "N          = 50\n",
    "frequecies = FreqDist( tokens )\n",
    "frequecies.most_common( N ) \n"
   ]
  }
 ],
 "metadata": {
  "kernelspec": {
   "display_name": "Python 3 (ipykernel)",
   "language": "python",
   "name": "python3"
  },
  "language_info": {
   "codemirror_mode": {
    "name": "ipython",
    "version": 3
   },
   "file_extension": ".py",
   "mimetype": "text/x-python",
   "name": "python",
   "nbconvert_exporter": "python",
   "pygments_lexer": "ipython3",
   "version": "3.9.7"
  }
 },
 "nbformat": 4,
 "nbformat_minor": 4
}
