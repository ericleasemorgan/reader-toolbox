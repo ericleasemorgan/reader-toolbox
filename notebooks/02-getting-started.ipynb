{
 "cells": [
  {
   "cell_type": "markdown",
   "metadata": {},
   "source": [
    "## Gentle introduction to text mining, revisited"
   ]
  },
  {
   "cell_type": "markdown",
   "metadata": {},
   "source": [
    "In this notebook you will define a file to open, and then the script will count & tabulate the words it contains. By defining different files to open, you will be able to quickly & easily compare & contrast texts. --Eric Lease Morgan"
   ]
  },
  {
   "cell_type": "code",
   "execution_count": 1,
   "metadata": {},
   "outputs": [],
   "source": [
    "# configure; define some constants\n",
    "CARREL   = 'CodeOfConduct4Lib-2021-03-10'\n",
    "TEMPLATE = './carrels/%s/etc/reader.txt'\n",
    "LANGUAGE = 'english'\n"
   ]
  },
  {
   "cell_type": "code",
   "execution_count": 2,
   "metadata": {},
   "outputs": [],
   "source": [
    "# require; what modules are needed?\n",
    "from nltk import *\n"
   ]
  },
  {
   "cell_type": "code",
   "execution_count": 3,
   "metadata": {
    "scrolled": false
   },
   "outputs": [],
   "source": [
    "file = TEMPLATE % CARREL\n",
    "data = open( file ).read()\n"
   ]
  },
  {
   "cell_type": "code",
   "execution_count": 4,
   "metadata": {
    "scrolled": true
   },
   "outputs": [],
   "source": [
    "# create a list of all the tokens (words, punctuation, etc) in the data\n",
    "tokens = word_tokenize( data )\n"
   ]
  },
  {
   "cell_type": "code",
   "execution_count": 5,
   "metadata": {},
   "outputs": [
    {
     "data": {
      "text/plain": [
       "[(',', 82), ('the', 78), ('.', 36), ('to', 34), ('or', 34)]"
      ]
     },
     "execution_count": 5,
     "metadata": {},
     "output_type": "execute_result"
    }
   ],
   "source": [
    "# count & tabulate each token, and output the N most frequent tokens\n",
    "N          = 5\n",
    "frequecies = FreqDist( tokens )\n",
    "frequecies.most_common( N ) \n"
   ]
  },
  {
   "cell_type": "code",
   "execution_count": 6,
   "metadata": {},
   "outputs": [],
   "source": [
    "# loop through each token and retain only lower-cased \"words\"; very pythonic\n",
    "tokens = [ token.lower() for token in tokens if token.isalpha() ] \n"
   ]
  },
  {
   "cell_type": "code",
   "execution_count": 7,
   "metadata": {
    "scrolled": true
   },
   "outputs": [
    {
     "data": {
      "text/plain": [
       "[('the', 78), ('to', 34), ('or', 34), ('a', 26), ('you', 23)]"
      ]
     },
     "execution_count": 7,
     "metadata": {},
     "output_type": "execute_result"
    }
   ],
   "source": [
    "# count & tabulate again\n",
    "N          = 5\n",
    "frequecies = FreqDist( tokens )\n",
    "frequecies.most_common( N ) \n"
   ]
  },
  {
   "cell_type": "code",
   "execution_count": 8,
   "metadata": {},
   "outputs": [],
   "source": [
    "# create a list (\"set\") of stop words from the given language\n",
    "stopwords = set( corpus.stopwords.words( LANGUAGE ) ) \n"
   ]
  },
  {
   "cell_type": "code",
   "execution_count": 9,
   "metadata": {},
   "outputs": [],
   "source": [
    "# loop through the tokens (again), and retain only non-stopwords\n",
    "tokens = [ token for token in tokens if token not in stopwords ] \n"
   ]
  },
  {
   "cell_type": "code",
   "execution_count": 10,
   "metadata": {},
   "outputs": [
    {
     "data": {
      "text/plain": [
       "[('community', 20), ('lib', 17), ('offender', 17), ('code', 16), ('event', 11)]"
      ]
     },
     "execution_count": 10,
     "metadata": {},
     "output_type": "execute_result"
    }
   ],
   "source": [
    "# count & tabulate again\n",
    "N          = 5\n",
    "frequecies = FreqDist( tokens )\n",
    "frequecies.most_common( N ) "
   ]
  },
  {
   "cell_type": "code",
   "execution_count": 11,
   "metadata": {
    "scrolled": true
   },
   "outputs": [
    {
     "data": {
      "text/plain": [
       "[('community', 20),\n",
       " ('lib', 17),\n",
       " ('offender', 17),\n",
       " ('code', 16),\n",
       " ('event', 11),\n",
       " ('support', 11),\n",
       " ('may', 10),\n",
       " ('including', 8),\n",
       " ('conference', 7),\n",
       " ('incident', 7),\n",
       " ('volunteers', 7),\n",
       " ('list', 6),\n",
       " ('volunteer', 6),\n",
       " ('people', 6),\n",
       " ('phone', 6),\n",
       " ('number', 6),\n",
       " ('sexual', 5),\n",
       " ('channel', 5),\n",
       " ('behavior', 5),\n",
       " ('events', 5),\n",
       " ('participants', 5),\n",
       " ('step', 5),\n",
       " ('either', 5),\n",
       " ('help', 5),\n",
       " ('helpers', 5),\n",
       " ('name', 5),\n",
       " ('harassment', 4),\n",
       " ('public', 4),\n",
       " ('online', 4),\n",
       " ('harassing', 4),\n",
       " ('action', 4),\n",
       " ('decision', 4),\n",
       " ('banning', 4),\n",
       " ('coc', 4),\n",
       " ('safe', 3),\n",
       " ('talks', 3),\n",
       " ('gender', 3),\n",
       " ('physical', 3),\n",
       " ('contact', 3),\n",
       " ('feel', 3),\n",
       " ('comfortable', 3),\n",
       " ('speaking', 3),\n",
       " ('time', 3),\n",
       " ('organizer', 3),\n",
       " ('website', 3),\n",
       " ('c', 3),\n",
       " ('know', 3),\n",
       " ('slack', 3),\n",
       " ('role', 3),\n",
       " ('see', 3)]"
      ]
     },
     "execution_count": 11,
     "metadata": {},
     "output_type": "execute_result"
    }
   ],
   "source": [
    "# count & tabulate the tokens yet again\n",
    "N          = 50\n",
    "frequecies = FreqDist( tokens )\n",
    "frequecies.most_common( N ) \n"
   ]
  }
 ],
 "metadata": {
  "kernelspec": {
   "display_name": "Python 3",
   "language": "python",
   "name": "python3"
  },
  "language_info": {
   "codemirror_mode": {
    "name": "ipython",
    "version": 3
   },
   "file_extension": ".py",
   "mimetype": "text/x-python",
   "name": "python",
   "nbconvert_exporter": "python",
   "pygments_lexer": "ipython3",
   "version": "3.8.5"
  }
 },
 "nbformat": 4,
 "nbformat_minor": 4
}
