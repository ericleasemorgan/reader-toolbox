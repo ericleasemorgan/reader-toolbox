{
 "cells": [
  {
   "cell_type": "markdown",
   "metadata": {},
   "source": [
    "# Wordclouds - Rudimentary visualizations"
   ]
  },
  {
   "cell_type": "markdown",
   "metadata": {},
   "source": [
    "How to create simple word clouds."
   ]
  },
  {
   "cell_type": "code",
   "execution_count": 2,
   "metadata": {},
   "outputs": [],
   "source": [
    "# pre-configure\n",
    "LIBRARY = '/Users/eric/Documents/reader-library'\n",
    "CARREL  = 'homer'\n",
    "HEIGHT  = 960\n",
    "WIDTH   = 1280\n",
    "COLOR   = 'white'\n"
   ]
  },
  {
   "cell_type": "code",
   "execution_count": null,
   "metadata": {},
   "outputs": [],
   "source": [
    "# configure\n",
    "ETC       = 'etc'\n",
    "TEXT      = 'reader.txt'\n",
    "STOPWORDS = 'stopwords.txt'\n"
   ]
  },
  {
   "cell_type": "code",
   "execution_count": null,
   "metadata": {},
   "outputs": [],
   "source": [
    "# require\n",
    "from wordcloud import WordCloud\n",
    "import matplotlib.pyplot as plt\n",
    "from nltk import *\n",
    "from pathlib import Path\n"
   ]
  },
  {
   "cell_type": "code",
   "execution_count": null,
   "metadata": {},
   "outputs": [],
   "source": [
    "# initialize\n",
    "library   = Path( LIBRARY )\n",
    "text      = library/CARREL/ETC/TEXT\n",
    "stopwords = library/CARREL/ETC/STOPWORDS\n"
   ]
  },
  {
   "cell_type": "code",
   "execution_count": null,
   "metadata": {},
   "outputs": [],
   "source": [
    "# read text and stopwords\n",
    "with open( text ) as handle : text = handle.read()\n",
    "with open( stopwords ) as handle : stopwords = handle.read().split( '\\n')\n"
   ]
  },
  {
   "cell_type": "code",
   "execution_count": null,
   "metadata": {},
   "outputs": [],
   "source": [
    "# create a list of all the tokens (words, punctuation, etc) in the data\n",
    "tokens      = word_tokenize( text )\n",
    "tokens      = [ token.lower() for token in tokens if token.isalpha() ]\n",
    "tokens      = [ token for token in tokens if token not in stopwords ] \n",
    "frequencies = FreqDist( tokens )\n"
   ]
  },
  {
   "cell_type": "code",
   "execution_count": null,
   "metadata": {},
   "outputs": [],
   "source": [
    "# initialilze a word cloud and redner it\n",
    "wordcloud = WordCloud( width=WIDTH, height=HEIGHT, background_color=COLOR )\n",
    "plt.imshow( wordcloud.generate_from_frequencies( frequencies ) ) \n",
    "plt.axis( \"off\" ) \n",
    "plt.show()\n"
   ]
  },
  {
   "cell_type": "code",
   "execution_count": null,
   "metadata": {},
   "outputs": [],
   "source": [
    "# denote a part-of-speech tag, and output all words with that tag; initialize\n",
    "P      = 'NN'\n",
    "tags   = pos_tag( tokens )\n",
    "tokens = {}\n",
    "\n",
    "# process each tag\n",
    "for tag in tags :\n",
    "    \n",
    "    # check for given part of speech\n",
    "    if ( tag[ 1 ] == P ) :\n",
    "    \n",
    "        # update the list of pos tags\n",
    "        if tag[ 0 ] in tokens : tokens[ tag[ 0 ] ] += 1\n",
    "        else                  : tokens[ tag[ 0 ] ] =  1\n",
    "\n",
    "# initialilze a word cloud, render it, and display it\n",
    "wordcloud = WordCloud( width = WIDTH, height = HEIGHT, background_color = COLOR )\n",
    "plt.imshow( wordcloud.generate_from_frequencies( tokens ) ) \n",
    "plt.axis( \"off\" ) \n",
    "plt.show()\n"
   ]
  },
  {
   "cell_type": "code",
   "execution_count": null,
   "metadata": {},
   "outputs": [],
   "source": [
    "# read the given file, tokenize its words, and normalize them\n",
    "tokens      = word_tokenize( text )\n",
    "tokens      = [ token.lower() for token in tokens if token.isalpha() ]\n",
    "tokens      = [ token for token in tokens if token not in stopwords ] \n",
    "frequencies = FreqDist( tokens ).values()\n"
   ]
  },
  {
   "cell_type": "code",
   "execution_count": null,
   "metadata": {},
   "outputs": [],
   "source": [
    "# calculate mean (average), variance, and standard deviation\n",
    "mean        = sum( frequencies ) / len( frequencies )\n",
    "variance    = sum( ( frequency-mean )**2 for frequency in frequencies ) / len(frequencies)\n",
    "deviation   = variance**0.5\n",
    "print( \"mean: %f; variance: %f; deviation: %f\" % ( mean, variance, deviation ) )"
   ]
  },
  {
   "cell_type": "code",
   "execution_count": null,
   "metadata": {
    "scrolled": true
   },
   "outputs": [],
   "source": [
    "# create a list of second-teir \"interesting\" words\n",
    "\n",
    "# initialize\n",
    "frequencies = FreqDist( tokens )\n",
    "n           = round( mean + deviation )\n",
    "interesting = {}\n",
    "\n",
    "# loop through each token in the frequencies\n",
    "for token in frequencies :\n",
    "\n",
    "        # parse\n",
    "        count = frequencies[ token ]\n",
    "        \n",
    "        # update, optionally\n",
    "        if ( mean <= count <= n ) : interesting[ token ] = count\n",
    "\n",
    "# output\n",
    "print( interesting )"
   ]
  },
  {
   "cell_type": "code",
   "execution_count": null,
   "metadata": {},
   "outputs": [],
   "source": [
    "# initialilze a word cloud,...\n",
    "wordcloud = WordCloud( width = WIDTH, height = HEIGHT, background_color = COLOR )\n",
    "\n",
    "# ...render it, and display it\n",
    "plt.imshow( wordcloud.generate_from_frequencies( interesting ) ) \n",
    "plt.axis( \"off\" ) \n",
    "plt.show()\n"
   ]
  }
 ],
 "metadata": {
  "kernelspec": {
   "display_name": "Python 3 (ipykernel)",
   "language": "python",
   "name": "python3"
  },
  "language_info": {
   "codemirror_mode": {
    "name": "ipython",
    "version": 3
   },
   "file_extension": ".py",
   "mimetype": "text/x-python",
   "name": "python",
   "nbconvert_exporter": "python",
   "pygments_lexer": "ipython3",
   "version": "3.9.7"
  }
 },
 "nbformat": 4,
 "nbformat_minor": 4
}
