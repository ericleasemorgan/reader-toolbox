{
 "cells": [
  {
   "cell_type": "markdown",
   "id": "0f5e4ea7",
   "metadata": {},
   "source": [
    "# Find All"
   ]
  },
  {
   "cell_type": "markdown",
   "id": "a82011a4",
   "metadata": {},
   "source": [
    "Using this notebook you can query a carrel using regular expressions."
   ]
  },
  {
   "cell_type": "code",
   "execution_count": null,
   "id": "4b4fb4ea",
   "metadata": {},
   "outputs": [],
   "source": [
    "# configure\n",
    "CARREL   = 'homer'\n",
    "PATTERNS = [ '<jove><is><.*>', '<jove><was><.*>', '<hector><is><.*>', '<hector><was><.*>' ]"
   ]
  },
  {
   "cell_type": "code",
   "execution_count": null,
   "id": "3f9ca0da",
   "metadata": {},
   "outputs": [],
   "source": [
    "# require\n",
    "import rdr"
   ]
  },
  {
   "cell_type": "code",
   "execution_count": null,
   "id": "01a4c50b",
   "metadata": {},
   "outputs": [],
   "source": [
    "# initialize\n",
    "model = rdr.getNLTKText( CARREL )"
   ]
  },
  {
   "cell_type": "code",
   "execution_count": null,
   "id": "7e054623",
   "metadata": {},
   "outputs": [],
   "source": [
    "# process each pattern\n",
    "for pattern in PATTERNS :\n",
    "    \n",
    "    # do the work and delimit\n",
    "    model.findall( pattern )\n",
    "    print()"
   ]
  }
 ],
 "metadata": {
  "kernelspec": {
   "display_name": "Python 3 (ipykernel)",
   "language": "python",
   "name": "python3"
  },
  "language_info": {
   "codemirror_mode": {
    "name": "ipython",
    "version": 3
   },
   "file_extension": ".py",
   "mimetype": "text/x-python",
   "name": "python",
   "nbconvert_exporter": "python",
   "pygments_lexer": "ipython3",
   "version": "3.9.7"
  }
 },
 "nbformat": 4,
 "nbformat_minor": 5
}
