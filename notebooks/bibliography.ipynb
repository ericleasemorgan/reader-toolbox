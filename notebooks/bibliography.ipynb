{
 "cells": [
  {
   "cell_type": "markdown",
   "id": "219b47ac",
   "metadata": {},
   "source": [
    "# Bibliography"
   ]
  },
  {
   "cell_type": "markdown",
   "id": "5e359775",
   "metadata": {},
   "source": [
    "This notebook outputs a rudimentary bibliography listing the items in the carrel as well as each item's metadata. This notebook is a good introduction to the carrel's underlying database structure."
   ]
  },
  {
   "cell_type": "code",
   "execution_count": null,
   "id": "84b4a049",
   "metadata": {},
   "outputs": [],
   "source": [
    "# configure\n",
    "ETC      = 'etc'\n",
    "CACHE    = 'cache'\n",
    "TXT      = 'txt'\n",
    "DATABASE = 'reader.db'\n",
    "SQL      = '''SELECT b.id, b.words, b.extension, b.flesch,\n",
    "                     b.author, b.title, b.date,\n",
    "                     GROUP_CONCAT( LOWER( w.keyword ), '; ') AS keywords,\n",
    "                     b.summary\n",
    "              FROM bib AS b, wrd AS w\n",
    "              WHERE b.id = w.id\n",
    "              GROUP BY b.id\n",
    "              ORDER BY b.id, LOWER( b.author );'''"
   ]
  },
  {
   "cell_type": "code",
   "execution_count": null,
   "id": "f4cf5364",
   "metadata": {},
   "outputs": [],
   "source": [
    "# require\n",
    "from pathlib import Path\n",
    "import sqlite3 "
   ]
  },
  {
   "cell_type": "code",
   "execution_count": null,
   "id": "e6303cbf",
   "metadata": {},
   "outputs": [],
   "source": [
    "# initialize\n",
    "carrel                 = Path().absolute().parent\n",
    "database               = carrel/ETC/DATABASE\n",
    "connection             = sqlite3.connect( database  )\n",
    "connection.row_factory = sqlite3.Row"
   ]
  },
  {
   "cell_type": "code",
   "execution_count": null,
   "id": "b24dcd5b",
   "metadata": {},
   "outputs": [],
   "source": [
    "# query database and get total number of rows (records)\n",
    "rows  = connection.execute( SQL )\n",
    "rows  = rows.fetchall()\n",
    "total = len( rows )"
   ]
  },
  {
   "cell_type": "code",
   "execution_count": null,
   "id": "1e1812e2",
   "metadata": {},
   "outputs": [],
   "source": [
    "# loop through each row (record)\n",
    "for item, row in enumerate( rows ) :\n",
    "\n",
    "    # parse\n",
    "    id        = str( row[ 'id' ] )\n",
    "    author    = row[ 'author' ]\n",
    "    title     = row[ 'title' ]\n",
    "    date      = row[ 'date' ]\n",
    "    words     = row[ 'words' ]\n",
    "    flesch    = row[ 'flesch' ]\n",
    "    summary   = row[ 'summary' ]\n",
    "    keywords  = row[ 'keywords' ]\n",
    "\n",
    "    # normalize; unescape\n",
    "    if summary : summary = summary.replace( \"''\", \"'\" )\n",
    "\n",
    "    # build cache and plain text\n",
    "    cache = str( carrel/CACHE/id ) + row[ 'extension' ]\n",
    "    text  = str( carrel/TXT/id )   + '.txt'\n",
    "\n",
    "    # output\n",
    "    print( '        item: #%s of %s' % ( str( item + 1 ), total ) )\n",
    "    print( '          id: %s' % id )\n",
    "    print( '      author: %s' % author )\n",
    "    print( '       title: %s' % title )\n",
    "    print( '        date: %s' % date )\n",
    "    print( '       words: %s' % words )\n",
    "    print( '      flesch: %s' % flesch )\n",
    "    print( '     summary: %s' % summary )\n",
    "    print( '    keywords: %s' % keywords )\n",
    "    print( '       cache: %s' % cache )\n",
    "    print( '  plain text: %s' % text )\n",
    "    print()"
   ]
  },
  {
   "cell_type": "code",
   "execution_count": null,
   "id": "88986f56",
   "metadata": {},
   "outputs": [],
   "source": [
    "# clean up and done\n",
    "connection.close()\n",
    "exit()"
   ]
  }
 ],
 "metadata": {
  "kernelspec": {
   "display_name": "Python 3 (ipykernel)",
   "language": "python",
   "name": "python3"
  },
  "language_info": {
   "codemirror_mode": {
    "name": "ipython",
    "version": 3
   },
   "file_extension": ".py",
   "mimetype": "text/x-python",
   "name": "python",
   "nbconvert_exporter": "python",
   "pygments_lexer": "ipython3",
   "version": "3.9.7"
  }
 },
 "nbformat": 4,
 "nbformat_minor": 5
}
