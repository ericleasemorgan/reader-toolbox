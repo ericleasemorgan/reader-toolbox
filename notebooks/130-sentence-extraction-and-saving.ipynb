{
 "cells": [
  {
   "cell_type": "markdown",
   "id": "2d914743",
   "metadata": {},
   "source": [
    "# Grammar Experiments - #1 of E"
   ]
  },
  {
   "cell_type": "markdown",
   "id": "8f7c44f4",
   "metadata": {},
   "source": [
    "In this notebook, the student, researcher, or scholar will simply model a study carrel into a file of line-delimited sentences for later processing"
   ]
  },
  {
   "cell_type": "markdown",
   "id": "c98cfe7c",
   "metadata": {},
   "source": [
    "Language follows patterns because if it didn't then nobody would be able to understand antybody else. We call these patterns \"grammars\". Each grammar is made up words, and each word can be denoted as a certain part-of-speech (noun, verb, adjective, etc.). Given a sentence, parts-of-speach values can be assigned to each word. It is then possible to determine whether or not a setence includes a grammar, and if it does, the do some other sort of processing.\n",
    "\n",
    "To do the sorts of things outlined above, we first need to create a list of sentences, and such is what this notebook does. Given the name of a study carrel, this notebook will create a list of sentences and save the resulting file in a pre-determined location for late processing.\n",
    "\n",
    "On our mark. Get set. Go!?"
   ]
  },
  {
   "cell_type": "code",
   "execution_count": 16,
   "id": "63b6f853",
   "metadata": {},
   "outputs": [],
   "source": [
    "# configure\n",
    "CARREL  = 'emerson-works'\n",
    "PATTERN = '*.txt'\n"
   ]
  },
  {
   "cell_type": "code",
   "execution_count": 17,
   "id": "6e04e2a1",
   "metadata": {},
   "outputs": [],
   "source": [
    "# require\n",
    "import multiprocessing\n",
    "import rdr\n",
    "import sys\n"
   ]
  },
  {
   "cell_type": "code",
   "execution_count": 18,
   "id": "7e526fb3",
   "metadata": {},
   "outputs": [
    {
     "name": "stderr",
     "output_type": "stream",
     "text": [
      "Step #1 of 2: Reading sentences\n",
      "Step #2 of 2: Saving sentences\n",
      "Done.\n"
     ]
    }
   ],
   "source": [
    "# do the work inside a main loop becauses multiprocessing requires it\n",
    "if __name__ == '__main__' : \n",
    "\n",
    "    # configure\n",
    "    localLibrary = rdr.configuration( 'localLibrary' )\n",
    "    filenames    = localLibrary/CARREL/rdr.TXT\n",
    "    sentences    = localLibrary/CARREL/( rdr.ETC )/( rdr.SENTENCES )\n",
    "\n",
    "    # parallel process each plain text file in the given corpus\n",
    "    pool    = multiprocessing.Pool()\n",
    "    sys.stderr.write( 'Step #1 of 2: Reading sentences\\n' )\n",
    "    results = pool.starmap( rdr.extractSentences, [ [ filename ] for filename in filenames.glob( PATTERN ) ] )\n",
    "    pool.close()\n",
    "\n",
    "    # save the result\n",
    "    sys.stderr.write( 'Step #2 of 2: Saving sentences\\n' )\n",
    "    with open( sentences, 'w' ) as handle :\n",
    "\n",
    "        # get all sentences and process each one\n",
    "        for result in results :\n",
    "\n",
    "            # output\n",
    "            for sentence in result : handle.write( '%s\\n' % sentence )\n",
    "\n",
    "    # done\n",
    "    sys.stderr.write( 'Done.\\n' )\n"
   ]
  },
  {
   "cell_type": "markdown",
   "id": "dcdfdec9",
   "metadata": {},
   "source": [
    "Once you get this far, a new file ought to have been saved in the given carrel's etc direcctory, and the file's name is reader.sents. The following lines get the full path newly created sentences file, and dumps the content to the screen. The output may be voluminous. "
   ]
  },
  {
   "cell_type": "code",
   "execution_count": null,
   "id": "865a70b6",
   "metadata": {},
   "outputs": [],
   "source": [
    "# get the full path of the newly created sentences file and dump it to the screen.\n",
    "localLibrary = rdr.configuration( 'localLibrary' )\n",
    "sentences    = localLibrary/CARREL/( rdr.ETC )/( rdr.SENTENCES )\n",
    "with open( sentences ) as handle: print( handle.read() )"
   ]
  },
  {
   "cell_type": "markdown",
   "id": "22c0e5fc",
   "metadata": {},
   "source": [
    "## Next steps"
   ]
  },
  {
   "cell_type": "markdown",
   "id": "24942f0b",
   "metadata": {},
   "source": [
    "Now, given a file of sentences, it is possible to query the sentences for specific grammars in order answer very specific questions. See the additional Grammar Experiments notebooks to learn how."
   ]
  }
 ],
 "metadata": {
  "kernelspec": {
   "display_name": "Python 3 (ipykernel)",
   "language": "python",
   "name": "python3"
  },
  "language_info": {
   "codemirror_mode": {
    "name": "ipython",
    "version": 3
   },
   "file_extension": ".py",
   "mimetype": "text/x-python",
   "name": "python",
   "nbconvert_exporter": "python",
   "pygments_lexer": "ipython3",
   "version": "3.9.13"
  }
 },
 "nbformat": 4,
 "nbformat_minor": 5
}
