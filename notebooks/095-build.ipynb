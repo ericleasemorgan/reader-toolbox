{
 "cells": [
  {
   "cell_type": "markdown",
   "id": "feb7d754",
   "metadata": {},
   "source": [
    "# Build"
   ]
  },
  {
   "cell_type": "markdown",
   "id": "2ea4de5c",
   "metadata": {},
   "source": [
    "This notebook is my sandbox"
   ]
  },
  {
   "cell_type": "code",
   "execution_count": null,
   "id": "1d6e6e14",
   "metadata": {},
   "outputs": [],
   "source": [
    "DIRECTORY = '/Users/eric/Desktop/homer'\n",
    "CARREL    = 'homer'\n",
    "ERASE     = True"
   ]
  },
  {
   "cell_type": "code",
   "execution_count": null,
   "id": "98f56ba3",
   "metadata": {},
   "outputs": [],
   "source": [
    "import rdr"
   ]
  },
  {
   "cell_type": "code",
   "execution_count": null,
   "id": "c4b573f3",
   "metadata": {},
   "outputs": [],
   "source": [
    "if __name__ == '__main__' :\n",
    "    rdr.build( CARREL, DIRECTORY, erase=ERASE )\n",
    "    rdr.cluster( CARREL, save=True )\n",
    "    rdr.summarize( CARREL )\n",
    "    rdr.read( CARREL )"
   ]
  }
 ],
 "metadata": {
  "kernelspec": {
   "display_name": "Python 3 (ipykernel)",
   "language": "python",
   "name": "python3"
  },
  "language_info": {
   "codemirror_mode": {
    "name": "ipython",
    "version": 3
   },
   "file_extension": ".py",
   "mimetype": "text/x-python",
   "name": "python",
   "nbconvert_exporter": "python",
   "pygments_lexer": "ipython3",
   "version": "3.9.13"
  }
 },
 "nbformat": 4,
 "nbformat_minor": 5
}
