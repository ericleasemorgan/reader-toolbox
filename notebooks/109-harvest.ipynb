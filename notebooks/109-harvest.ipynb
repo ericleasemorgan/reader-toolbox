{
 "cells": [
  {
   "cell_type": "markdown",
   "metadata": {},
   "source": [
    "# Harvest"
   ]
  },
  {
   "cell_type": "markdown",
   "metadata": {},
   "source": [
    "How to cache study carrels from the public library"
   ]
  },
  {
   "cell_type": "code",
   "execution_count": null,
   "metadata": {},
   "outputs": [],
   "source": [
    "# pre-configure\n",
    "LIBRARY = '/Users/eric/Documents/reader-library'\n",
    "CARREL  = 'homer'\n"
   ]
  },
  {
   "cell_type": "code",
   "execution_count": null,
   "metadata": {},
   "outputs": [],
   "source": [
    "# configure\n"
   ]
  },
  {
   "cell_type": "code",
   "execution_count": null,
   "metadata": {},
   "outputs": [],
   "source": [
    "# require\n",
    "import requests\n",
    "import sys\n",
    "import zipfile\n"
   ]
  },
  {
   "cell_type": "code",
   "execution_count": null,
   "metadata": {},
   "outputs": [],
   "source": [
    "# initialize\n",
    "url = ( TEMPLATE % CARREL )\n"
   ]
  },
  {
   "cell_type": "code",
   "execution_count": null,
   "metadata": {
    "scrolled": true
   },
   "outputs": [],
   "source": [
    "# cache the remote content\n",
    "with open( ZIP, 'wb' ) as handle :\n",
    "    \n",
    "    # debug, initialize request, and get length\n",
    "    sys.stdout.write( \"Downloading %s\\n\" % url )\n",
    "    response = requests.get( url, stream=True )\n",
    "    length   = response.headers.get( 'content-length' )\n",
    "    \n",
    "    # do the work\n",
    "    if length is None : handle.write( response.content )\n",
    "    else :\n",
    "        \n",
    "        # initialize\n",
    "        downloaded = 0\n",
    "        length     = int( length )\n",
    "        \n",
    "        # download\n",
    "        for data in response.iter_content( chunk_size=5120 ) :\n",
    "            \n",
    "            # re-initialize\n",
    "            downloaded += len( data )\n",
    "            percent    =  int( 50 * downloaded / length )\n",
    "            \n",
    "            # debug\n",
    "            sys.stdout.write(\"\\r[%s%s]\" % ( '=' * percent, ' ' * ( 50-percent ) ) )\n",
    "            sys.stdout.flush()\n",
    "            \n",
    "            # save\n",
    "            handle.write( data )\n"
   ]
  },
  {
   "cell_type": "code",
   "execution_count": null,
   "metadata": {},
   "outputs": [],
   "source": [
    "# unzip\n",
    "with zipfile.ZipFile( ZIP, 'r' ) as handle : handle.extractall( CARRELS )\n"
   ]
  }
 ],
 "metadata": {
  "kernelspec": {
   "display_name": "Python 3 (ipykernel)",
   "language": "python",
   "name": "python3"
  },
  "language_info": {
   "codemirror_mode": {
    "name": "ipython",
    "version": 3
   },
   "file_extension": ".py",
   "mimetype": "text/x-python",
   "name": "python",
   "nbconvert_exporter": "python",
   "pygments_lexer": "ipython3",
   "version": "3.9.13"
  }
 },
 "nbformat": 4,
 "nbformat_minor": 4
}
