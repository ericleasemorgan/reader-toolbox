{
 "cells": [
  {
   "cell_type": "code",
   "execution_count": 1,
   "metadata": {},
   "outputs": [],
   "source": [
    "# configure; define some constants\n",
    "CARREL = './carrels/CodeOfConduct4Lib-2021-03-10/txt'\n",
    "TOPICS = 2\n",
    "SEED   = 42\n"
   ]
  },
  {
   "cell_type": "code",
   "execution_count": 2,
   "metadata": {},
   "outputs": [],
   "source": [
    "# require\n",
    "import os\n",
    "from sklearn.feature_extraction.text import CountVectorizer\n",
    "from sklearn.decomposition import LatentDirichletAllocation\n"
   ]
  },
  {
   "cell_type": "code",
   "execution_count": 3,
   "metadata": {},
   "outputs": [],
   "source": [
    "# create a list of documents\n",
    "documents = []\n",
    "for file in os.scandir( CARREL ):\n",
    "    \n",
    "    if  ( file.path.endswith( \".txt\" ) ) :\n",
    "        \n",
    "        file = file.path\n",
    "        with open( file ) as handle : documents.append( handle.read() )\n"
   ]
  },
  {
   "cell_type": "code",
   "execution_count": 4,
   "metadata": {},
   "outputs": [
    {
     "data": {
      "text/plain": [
       "LatentDirichletAllocation(n_components=2, random_state=42)"
      ]
     },
     "execution_count": 4,
     "metadata": {},
     "output_type": "execute_result"
    }
   ],
   "source": [
    "# model the documents\n",
    "vectorizer = CountVectorizer( stop_words='english', lowercase=True )\n",
    "matrix     = vectorizer.fit_transform( documents )\n",
    "model      = LatentDirichletAllocation( n_components=TOPICS, random_state=SEED )\n",
    "model.fit( matrix )"
   ]
  },
  {
   "cell_type": "code",
   "execution_count": 5,
   "metadata": {},
   "outputs": [
    {
     "data": {
      "text/html": [
       "\n",
       "<link rel=\"stylesheet\" type=\"text/css\" href=\"https://cdn.jsdelivr.net/gh/bmabey/pyLDAvis@3.3.1/pyLDAvis/js/ldavis.v1.0.0.css\">\n",
       "\n",
       "\n",
       "<div id=\"ldavis_el70501402559711784168338401873\"></div>\n",
       "<script type=\"text/javascript\">\n",
       "\n",
       "var ldavis_el70501402559711784168338401873_data = {\"mdsDat\": {\"x\": [0.02148911511668158, -0.02148911511668158], \"y\": [0.0, 0.0], \"topics\": [1, 2], \"cluster\": [1, 1], \"Freq\": [99.9120049198207, 0.08799508017929837]}, \"tinfo\": {\"Term\": [\"including\", \"conference\", \"incident\", \"volunteers\", \"event\", \"support\", \"phone\", \"people\", \"list\", \"volunteer\", \"number\", \"events\", \"channel\", \"sexual\", \"participants\", \"step\", \"behavior\", \"help\", \"helpers\", \"code4lib\", \"offender\", \"harassment\", \"coc\", \"banning\", \"action\", \"online\", \"decision\", \"harassing\", \"public\", \"community\", \"community\", \"offender\", \"code4lib\", \"event\", \"support\", \"conference\", \"including\", \"incident\", \"volunteers\", \"list\", \"number\", \"people\", \"phone\", \"volunteer\", \"behavior\", \"channel\", \"events\", \"help\", \"helpers\", \"participants\", \"sexual\", \"step\", \"action\", \"banning\", \"coc\", \"decision\", \"harassing\", \"harassment\", \"online\", \"public\", \"able\", \"accepted\", \"account\", \"actively\", \"ada\", \"addition\", \"affected\", \"affirmation\", \"aforementioned\", \"age\", \"allowed\", \"anonymity\", \"apologies\", \"appearance\", \"argue\", \"asked\", \"asking\", \"assault\", \"assigned\", \"assist\", \"attention\", \"avoid\", \"away\", \"badges\", \"barring\", \"based\", \"beliefs\", \"bit\", \"body\", \"c4lcommunitysupport\", \"community\", \"offender\", \"code4lib\", \"event\", \"support\", \"conference\", \"including\", \"incident\", \"volunteers\", \"list\", \"number\", \"people\", \"phone\", \"volunteer\", \"behavior\", \"channel\", \"events\", \"help\", \"helpers\", \"participants\", \"sexual\", \"step\", \"action\", \"banning\", \"coc\", \"decision\", \"harassing\", \"harassment\", \"online\", \"public\"], \"Freq\": [6.0, 6.0, 5.0, 5.0, 8.0, 8.0, 5.0, 5.0, 5.0, 5.0, 5.0, 4.0, 4.0, 4.0, 4.0, 4.0, 4.0, 4.0, 4.0, 12.0, 13.0, 3.0, 3.0, 3.0, 3.0, 3.0, 3.0, 3.0, 3.0, 15.0, 15.887624628950658, 13.562585516347566, 12.012559443322054, 8.912507308251936, 8.912507308251936, 6.587468233543218, 6.587468233543218, 5.812455222374752, 5.812455222374752, 5.03744222639148, 5.03744222639148, 5.03744222639148, 5.03744222639148, 5.03744222639148, 4.262429258754778, 4.262429258754778, 4.262429258754778, 4.262429258754778, 4.262429258754778, 4.262429258754778, 4.262429258754778, 4.262429258754778, 3.487416350643262, 3.487416350643262, 3.487416350643262, 3.487416350643262, 3.487416350643262, 3.487416350643262, 3.487416350643262, 3.487416350643262, 0.0015209855883705225, 0.0015209855883705225, 0.0015209855883705225, 0.0015209855883705225, 0.0015209855883705225, 0.0015209855883705225, 0.0015209855883705225, 0.0015209855883705225, 0.0015209855883705225, 0.0015209855883705225, 0.0015209855883705225, 0.0015209855883705225, 0.0015209855883705225, 0.0015209855883705225, 0.0015209855883705225, 0.0015209855883705225, 0.0015209855883705225, 0.0015209855883705225, 0.0015209855883705225, 0.0015209855883705225, 0.0015209855883705225, 0.0015209855883705225, 0.0015209855883705225, 0.0015209855883705225, 0.0015209855883705225, 0.0015209855883705225, 0.0015209855883705225, 0.0015209855883705225, 0.0015209855883705225, 0.0015209855883705225, 0.0015210056157856245, 0.001521005593390493, 0.0015210055704435214, 0.0015210054814642025, 0.0015210054814642025, 0.0015210053103842562, 0.0015210053103842562, 0.0015210051994682602, 0.0015210051994682602, 0.0015210050289706585, 0.0015210050289706585, 0.0015210050289706585, 0.0015210050289706585, 0.0015210050289706585, 0.0015210047472506128, 0.0015210047472506128, 0.0015210047472506128, 0.0015210047472506128, 0.0015210047472506128, 0.0015210047472506128, 0.0015210047472506128, 0.0015210047472506128, 0.001521004231973668, 0.001521004231973668, 0.001521004231973668, 0.001521004231973668, 0.001521004231973668, 0.001521004231973668, 0.001521004231973668, 0.001521004231973668], \"Total\": [6.0, 6.0, 5.0, 5.0, 8.0, 8.0, 5.0, 5.0, 5.0, 5.0, 5.0, 4.0, 4.0, 4.0, 4.0, 4.0, 4.0, 4.0, 4.0, 12.0, 13.0, 3.0, 3.0, 3.0, 3.0, 3.0, 3.0, 3.0, 3.0, 15.0, 15.889145634566443, 13.564106521940957, 12.014080448892498, 8.9140283137334, 8.9140283137334, 6.588989238853602, 6.588989238853602, 5.81397622757422, 5.81397622757422, 5.038963231420451, 5.038963231420451, 5.038963231420451, 5.038963231420451, 5.038963231420451, 4.2639502635020285, 4.2639502635020285, 4.2639502635020285, 4.2639502635020285, 4.2639502635020285, 4.2639502635020285, 4.2639502635020285, 4.2639502635020285, 3.488937354875236, 3.488937354875236, 3.488937354875236, 3.488937354875236, 3.488937354875236, 3.488937354875236, 3.488937354875236, 3.488937354875236, 1.1639029694995067, 1.1639029694995067, 1.1639029694995067, 1.1639029694995067, 1.1639029694995067, 1.1639029694995067, 1.1639029694995067, 1.1639029694995067, 1.1639029694995067, 1.1639029694995067, 1.1639029694995067, 1.1639029694995067, 1.1639029694995067, 1.1639029694995067, 1.1639029694995067, 1.1639029694995067, 1.1639029694995067, 1.1639029694995067, 1.1639029694995067, 1.1639029694995067, 1.1639029694995067, 1.1639029694995067, 1.1639029694995067, 1.1639029694995067, 1.1639029694995067, 1.1639029694995067, 1.1639029694995067, 1.1639029694995067, 1.1639029694995067, 1.1639029694995067, 15.889145634566443, 13.564106521940957, 12.014080448892498, 8.9140283137334, 8.9140283137334, 6.588989238853602, 6.588989238853602, 5.81397622757422, 5.81397622757422, 5.038963231420451, 5.038963231420451, 5.038963231420451, 5.038963231420451, 5.038963231420451, 4.2639502635020285, 4.2639502635020285, 4.2639502635020285, 4.2639502635020285, 4.2639502635020285, 4.2639502635020285, 4.2639502635020285, 4.2639502635020285, 3.488937354875236, 3.488937354875236, 3.488937354875236, 3.488937354875236, 3.488937354875236, 3.488937354875236, 3.488937354875236, 3.488937354875236], \"Category\": [\"Default\", \"Default\", \"Default\", \"Default\", \"Default\", \"Default\", \"Default\", \"Default\", \"Default\", \"Default\", \"Default\", \"Default\", \"Default\", \"Default\", \"Default\", \"Default\", \"Default\", \"Default\", \"Default\", \"Default\", \"Default\", \"Default\", \"Default\", \"Default\", \"Default\", \"Default\", \"Default\", \"Default\", \"Default\", \"Default\", \"Topic1\", \"Topic1\", \"Topic1\", \"Topic1\", \"Topic1\", \"Topic1\", \"Topic1\", \"Topic1\", \"Topic1\", \"Topic1\", \"Topic1\", \"Topic1\", \"Topic1\", \"Topic1\", \"Topic1\", \"Topic1\", \"Topic1\", \"Topic1\", \"Topic1\", \"Topic1\", \"Topic1\", \"Topic1\", \"Topic1\", \"Topic1\", \"Topic1\", \"Topic1\", \"Topic1\", \"Topic1\", \"Topic1\", \"Topic1\", \"Topic2\", \"Topic2\", \"Topic2\", \"Topic2\", \"Topic2\", \"Topic2\", \"Topic2\", \"Topic2\", \"Topic2\", \"Topic2\", \"Topic2\", \"Topic2\", \"Topic2\", \"Topic2\", \"Topic2\", \"Topic2\", \"Topic2\", \"Topic2\", \"Topic2\", \"Topic2\", \"Topic2\", \"Topic2\", \"Topic2\", \"Topic2\", \"Topic2\", \"Topic2\", \"Topic2\", \"Topic2\", \"Topic2\", \"Topic2\", \"Topic2\", \"Topic2\", \"Topic2\", \"Topic2\", \"Topic2\", \"Topic2\", \"Topic2\", \"Topic2\", \"Topic2\", \"Topic2\", \"Topic2\", \"Topic2\", \"Topic2\", \"Topic2\", \"Topic2\", \"Topic2\", \"Topic2\", \"Topic2\", \"Topic2\", \"Topic2\", \"Topic2\", \"Topic2\", \"Topic2\", \"Topic2\", \"Topic2\", \"Topic2\", \"Topic2\", \"Topic2\", \"Topic2\", \"Topic2\"], \"logprob\": [30.0, 29.0, 28.0, 27.0, 26.0, 25.0, 24.0, 23.0, 22.0, 21.0, 20.0, 19.0, 18.0, 17.0, 16.0, 15.0, 14.0, 13.0, 12.0, 11.0, 10.0, 9.0, 8.0, 7.0, 6.0, 5.0, 4.0, 3.0, 2.0, 1.0, -3.6997, -3.8579, -3.9793, -4.2778, -4.2778, -4.5801, -4.5801, -4.7053, -4.7053, -4.8484, -4.8484, -4.8484, -4.8484, -4.8484, -5.0154, -5.0154, -5.0154, -5.0154, -5.0154, -5.0154, -5.0154, -5.0154, -5.2161, -5.2161, -5.2161, -5.2161, -5.2161, -5.2161, -5.2161, -5.2161, -5.9189, -5.9189, -5.9189, -5.9189, -5.9189, -5.9189, -5.9189, -5.9189, -5.9189, -5.9189, -5.9189, -5.9189, -5.9189, -5.9189, -5.9189, -5.9189, -5.9189, -5.9189, -5.9189, -5.9189, -5.9189, -5.9189, -5.9189, -5.9189, -5.9189, -5.9189, -5.9189, -5.9189, -5.9189, -5.9189, -5.9189, -5.9189, -5.9189, -5.9189, -5.9189, -5.9189, -5.9189, -5.9189, -5.9189, -5.9189, -5.9189, -5.9189, -5.9189, -5.9189, -5.9189, -5.9189, -5.9189, -5.9189, -5.9189, -5.9189, -5.9189, -5.9189, -5.9189, -5.9189, -5.9189, -5.9189, -5.9189, -5.9189, -5.9189, -5.9189], \"loglift\": [30.0, 29.0, 28.0, 27.0, 26.0, 25.0, 24.0, 23.0, 22.0, 21.0, 20.0, 19.0, 18.0, 17.0, 16.0, 15.0, 14.0, 13.0, 12.0, 11.0, 10.0, 9.0, 8.0, 7.0, 6.0, 5.0, 4.0, 3.0, 2.0, 1.0, 0.0008, 0.0008, 0.0008, 0.0007, 0.0007, 0.0006, 0.0006, 0.0006, 0.0006, 0.0006, 0.0006, 0.0006, 0.0006, 0.0006, 0.0005, 0.0005, 0.0005, 0.0005, 0.0005, 0.0005, 0.0005, 0.0005, 0.0004, 0.0004, 0.0004, 0.0004, 0.0004, 0.0004, 0.0004, 0.0004, 0.3955, 0.3955, 0.3955, 0.3955, 0.3955, 0.3955, 0.3955, 0.3955, 0.3955, 0.3955, 0.3955, 0.3955, 0.3955, 0.3955, 0.3955, 0.3955, 0.3955, 0.3955, 0.3955, 0.3955, 0.3955, 0.3955, 0.3955, 0.3955, 0.3955, 0.3955, 0.3955, 0.3955, 0.3955, 0.3955, -2.2184, -2.0602, -1.9388, -1.6404, -1.6404, -1.3381, -1.3381, -1.213, -1.213, -1.0699, -1.0699, -1.0699, -1.0699, -1.0699, -0.9029, -0.9029, -0.9029, -0.9029, -0.9029, -0.9029, -0.9029, -0.9029, -0.7023, -0.7023, -0.7023, -0.7023, -0.7023, -0.7023, -0.7023, -0.7023]}, \"token.table\": {\"Topic\": [1, 1, 1, 1, 1, 1, 1, 1, 1, 1, 1, 1, 1, 1, 1, 1, 1, 1, 1, 1, 1, 1, 1, 1, 1, 1, 1, 1, 1, 1, 1, 1, 1, 1, 1, 1, 1, 1, 1, 1, 1, 1, 1, 1, 1, 1, 1, 1, 1, 1, 1, 1, 1, 1, 1, 1, 1, 1, 1, 1], \"Freq\": [0.8591781499019742, 0.8591781499019742, 0.8591781499019742, 0.859860666689236, 0.8591781499019742, 0.8591781499019742, 0.8591781499019742, 0.8591781499019742, 0.8591781499019742, 0.8591781499019742, 0.8591781499019742, 0.8591781499019742, 0.8591781499019742, 0.8591781499019742, 0.8591781499019742, 0.8591781499019742, 0.8591781499019742, 0.8591781499019742, 0.8591781499019742, 0.8591781499019742, 0.8591781499019742, 0.8591781499019742, 0.8591781499019742, 0.8591781499019742, 0.8591781499019742, 0.859860666689236, 0.8591781499019742, 0.8591781499019742, 0.9380972461706804, 0.8591781499019742, 0.8591781499019742, 0.8591781499019742, 0.8591781499019742, 0.9380972461706804, 0.859860666689236, 0.9988280044442522, 1.0069767354383357, 1.0623784234951805, 0.859860666689236, 1.00964453816398, 0.9380972461706804, 0.859860666689236, 0.859860666689236, 0.9380972461706804, 0.9380972461706804, 1.0319959637164522, 1.0623784234951805, 0.9922676095000068, 0.9922676095000068, 1.032135804695573, 0.859860666689236, 0.9380972461706804, 0.9922676095000068, 0.9922676095000068, 0.859860666689236, 0.9380972461706804, 0.9380972461706804, 1.00964453816398, 0.9922676095000068, 1.0319959637164522], \"Term\": [\"able\", \"accepted\", \"account\", \"action\", \"actively\", \"ada\", \"addition\", \"affected\", \"affirmation\", \"aforementioned\", \"age\", \"allowed\", \"anonymity\", \"apologies\", \"appearance\", \"argue\", \"asked\", \"asking\", \"assault\", \"assigned\", \"assist\", \"attention\", \"avoid\", \"away\", \"badges\", \"banning\", \"barring\", \"based\", \"behavior\", \"beliefs\", \"bit\", \"body\", \"c4lcommunitysupport\", \"channel\", \"coc\", \"code4lib\", \"community\", \"conference\", \"decision\", \"event\", \"events\", \"harassing\", \"harassment\", \"help\", \"helpers\", \"incident\", \"including\", \"list\", \"number\", \"offender\", \"online\", \"participants\", \"people\", \"phone\", \"public\", \"sexual\", \"step\", \"support\", \"volunteer\", \"volunteers\"]}, \"R\": 30, \"lambda.step\": 0.01, \"plot.opts\": {\"xlab\": \"PC1\", \"ylab\": \"PC2\"}, \"topic.order\": [1, 2]};\n",
       "\n",
       "function LDAvis_load_lib(url, callback){\n",
       "  var s = document.createElement('script');\n",
       "  s.src = url;\n",
       "  s.async = true;\n",
       "  s.onreadystatechange = s.onload = callback;\n",
       "  s.onerror = function(){console.warn(\"failed to load library \" + url);};\n",
       "  document.getElementsByTagName(\"head\")[0].appendChild(s);\n",
       "}\n",
       "\n",
       "if(typeof(LDAvis) !== \"undefined\"){\n",
       "   // already loaded: just create the visualization\n",
       "   !function(LDAvis){\n",
       "       new LDAvis(\"#\" + \"ldavis_el70501402559711784168338401873\", ldavis_el70501402559711784168338401873_data);\n",
       "   }(LDAvis);\n",
       "}else if(typeof define === \"function\" && define.amd){\n",
       "   // require.js is available: use it to load d3/LDAvis\n",
       "   require.config({paths: {d3: \"https://d3js.org/d3.v5\"}});\n",
       "   require([\"d3\"], function(d3){\n",
       "      window.d3 = d3;\n",
       "      LDAvis_load_lib(\"https://cdn.jsdelivr.net/gh/bmabey/pyLDAvis@3.3.1/pyLDAvis/js/ldavis.v3.0.0.js\", function(){\n",
       "        new LDAvis(\"#\" + \"ldavis_el70501402559711784168338401873\", ldavis_el70501402559711784168338401873_data);\n",
       "      });\n",
       "    });\n",
       "}else{\n",
       "    // require.js not available: dynamically load d3 & LDAvis\n",
       "    LDAvis_load_lib(\"https://d3js.org/d3.v5.js\", function(){\n",
       "         LDAvis_load_lib(\"https://cdn.jsdelivr.net/gh/bmabey/pyLDAvis@3.3.1/pyLDAvis/js/ldavis.v3.0.0.js\", function(){\n",
       "                 new LDAvis(\"#\" + \"ldavis_el70501402559711784168338401873\", ldavis_el70501402559711784168338401873_data);\n",
       "            })\n",
       "         });\n",
       "}\n",
       "</script>"
      ],
      "text/plain": [
       "PreparedData(topic_coordinates=              x    y  topics  cluster       Freq\n",
       "topic                                           \n",
       "0      0.021489  0.0       1        1  99.912005\n",
       "1     -0.021489  0.0       2        1   0.087995, topic_info=           Term      Freq     Total Category  logprob  loglift\n",
       "166   including  6.000000  6.000000  Default  30.0000  30.0000\n",
       "68   conference  6.000000  6.000000  Default  29.0000  29.0000\n",
       "163    incident  5.000000  5.000000  Default  28.0000  28.0000\n",
       "358  volunteers  5.000000  5.000000  Default  27.0000  27.0000\n",
       "112       event  8.000000  8.000000  Default  26.0000  26.0000\n",
       "..          ...       ...       ...      ...      ...      ...\n",
       "77     decision  0.001521  3.488937   Topic2  -5.9189  -0.7023\n",
       "144   harassing  0.001521  3.488937   Topic2  -5.9189  -0.7023\n",
       "145  harassment  0.001521  3.488937   Topic2  -5.9189  -0.7023\n",
       "227      online  0.001521  3.488937   Topic2  -5.9189  -0.7023\n",
       "263      public  0.001521  3.488937   Topic2  -5.9189  -0.7023\n",
       "\n",
       "[120 rows x 6 columns], token_table=      Topic      Freq                 Term\n",
       "term                                      \n",
       "0         1  0.859178                 able\n",
       "1         1  0.859178             accepted\n",
       "3         1  0.859178              account\n",
       "4         1  0.859861               action\n",
       "5         1  0.859178             actively\n",
       "6         1  0.859178                  ada\n",
       "7         1  0.859178             addition\n",
       "9         1  0.859178             affected\n",
       "10        1  0.859178          affirmation\n",
       "11        1  0.859178       aforementioned\n",
       "12        1  0.859178                  age\n",
       "13        1  0.859178              allowed\n",
       "14        1  0.859178            anonymity\n",
       "15        1  0.859178            apologies\n",
       "16        1  0.859178           appearance\n",
       "18        1  0.859178                argue\n",
       "19        1  0.859178                asked\n",
       "20        1  0.859178               asking\n",
       "21        1  0.859178              assault\n",
       "22        1  0.859178             assigned\n",
       "23        1  0.859178               assist\n",
       "24        1  0.859178            attention\n",
       "26        1  0.859178                avoid\n",
       "27        1  0.859178                 away\n",
       "28        1  0.859178               badges\n",
       "29        1  0.859861              banning\n",
       "30        1  0.859178              barring\n",
       "31        1  0.859178                based\n",
       "32        1  0.938097             behavior\n",
       "33        1  0.859178              beliefs\n",
       "34        1  0.859178                  bit\n",
       "35        1  0.859178                 body\n",
       "36        1  0.859178  c4lcommunitysupport\n",
       "44        1  0.938097              channel\n",
       "51        1  0.859861                  coc\n",
       "53        1  0.998828             code4lib\n",
       "63        1  1.006977            community\n",
       "68        1  1.062378           conference\n",
       "77        1  0.859861             decision\n",
       "112       1  1.009645                event\n",
       "113       1  0.938097               events\n",
       "144       1  0.859861            harassing\n",
       "145       1  0.859861           harassment\n",
       "148       1  0.938097                 help\n",
       "150       1  0.938097              helpers\n",
       "163       1  1.031996             incident\n",
       "166       1  1.062378            including\n",
       "197       1  0.992268                 list\n",
       "218       1  0.992268               number\n",
       "221       1  1.032136             offender\n",
       "227       1  0.859861               online\n",
       "236       1  0.938097         participants\n",
       "241       1  0.992268               people\n",
       "245       1  0.992268                phone\n",
       "263       1  0.859861               public\n",
       "304       1  0.938097               sexual\n",
       "325       1  0.938097                 step\n",
       "328       1  1.009645              support\n",
       "357       1  0.992268            volunteer\n",
       "358       1  1.031996           volunteers, R=30, lambda_step=0.01, plot_opts={'xlab': 'PC1', 'ylab': 'PC2'}, topic_order=[1, 2])"
      ]
     },
     "execution_count": 5,
     "metadata": {},
     "output_type": "execute_result"
    }
   ],
   "source": [
    "import pyLDAvis.sklearn\n",
    "pyLDAvis.enable_notebook()\n",
    "pyLDAvis.sklearn.prepare( model, matrix, vectorizer )\n"
   ]
  }
 ],
 "metadata": {
  "kernelspec": {
   "display_name": "Python 3",
   "language": "python",
   "name": "python3"
  },
  "language_info": {
   "codemirror_mode": {
    "name": "ipython",
    "version": 3
   },
   "file_extension": ".py",
   "mimetype": "text/x-python",
   "name": "python",
   "nbconvert_exporter": "python",
   "pygments_lexer": "ipython3",
   "version": "3.8.5"
  }
 },
 "nbformat": 4,
 "nbformat_minor": 4
}
