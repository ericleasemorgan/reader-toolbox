{
 "cells": [
  {
   "cell_type": "markdown",
   "metadata": {},
   "source": [
    "# Broken: pyLDAviz needs maintence"
   ]
  },
  {
   "cell_type": "code",
   "execution_count": null,
   "metadata": {},
   "outputs": [],
   "source": [
    "# pre-configure\n",
    "LIBRARY = '/Users/eric/Documents/reader-library'\n",
    "CARREL  = 'homer'\n",
    "TOPICS  = 7\n"
   ]
  },
  {
   "cell_type": "code",
   "execution_count": null,
   "metadata": {},
   "outputs": [],
   "source": [
    "# configure\n",
    "TXT       = 'txt'\n",
    "ETC       = 'etc'\n",
    "STOPWORDS = 'stopwords.txt'\n"
   ]
  },
  {
   "cell_type": "code",
   "execution_count": null,
   "metadata": {},
   "outputs": [],
   "source": [
    "# require\n",
    "import os\n",
    "from sklearn.feature_extraction.text import CountVectorizer\n",
    "from sklearn.decomposition import LatentDirichletAllocation\n",
    "import pyLDAvis.sklearn\n",
    "from pathlib import Path\n"
   ]
  },
  {
   "cell_type": "code",
   "execution_count": null,
   "metadata": {},
   "outputs": [],
   "source": [
    "# initialize\n",
    "library   = Path( LIBRARY )\n",
    "text      = library/CARREL/TXT\n",
    "stopwords = library/CARREL/ETC/STOPWORDS\n",
    "with open ( stopwords ) as handle : stopwords = handle.read().split( '\\n')\n"
   ]
  },
  {
   "cell_type": "code",
   "execution_count": null,
   "metadata": {},
   "outputs": [],
   "source": [
    "# initialize and then create a list of documents for modeling\n",
    "documents = []\n",
    "for file in os.scandir( text ) :\n",
    "    \n",
    "    # make sure we only get .txt filels\n",
    "    if  ( file.path.endswith( '.txt' ) ) :\n",
    "        \n",
    "        # update the file name and update the list of documents\n",
    "        file = file.path\n",
    "        with open( file ) as handle : documents.append( handle.read() )\n"
   ]
  },
  {
   "cell_type": "code",
   "execution_count": null,
   "metadata": {},
   "outputs": [],
   "source": [
    "# model the found documents; UserWarning can be ignored\n",
    "vectorizer = CountVectorizer( stop_words=stopwords, lowercase=True )\n",
    "matrix     = vectorizer.fit_transform( documents )\n",
    "model      = LatentDirichletAllocation( n_components=TOPICS )\n",
    "model.fit( matrix )\n"
   ]
  },
  {
   "cell_type": "code",
   "execution_count": null,
   "metadata": {},
   "outputs": [],
   "source": [
    "# visualize the model; the magic happens here and/but pyLDAvis needs tlc\n",
    "pyLDAvis.enable_notebook()\n",
    "pyLDAvis.sklearn.prepare( model, matrix, vectorizer )\n"
   ]
  }
 ],
 "metadata": {
  "kernelspec": {
   "display_name": "Python 3 (ipykernel)",
   "language": "python",
   "name": "python3"
  },
  "language_info": {
   "codemirror_mode": {
    "name": "ipython",
    "version": 3
   },
   "file_extension": ".py",
   "mimetype": "text/x-python",
   "name": "python",
   "nbconvert_exporter": "python",
   "pygments_lexer": "ipython3",
   "version": "3.9.7"
  }
 },
 "nbformat": 4,
 "nbformat_minor": 4
}
