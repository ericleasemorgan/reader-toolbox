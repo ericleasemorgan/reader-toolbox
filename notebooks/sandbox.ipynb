{
 "cells": [
  {
   "cell_type": "markdown",
   "id": "feb7d754",
   "metadata": {},
   "source": [
    "# Sandbox"
   ]
  },
  {
   "cell_type": "markdown",
   "id": "2ea4de5c",
   "metadata": {},
   "source": [
    "This notebook is my sandbox"
   ]
  },
  {
   "cell_type": "code",
   "execution_count": null,
   "id": "1d6e6e14",
   "metadata": {},
   "outputs": [],
   "source": [
    "HEADER = [ 'name', 'words', 'items', 'flesch' ]"
   ]
  },
  {
   "cell_type": "code",
   "execution_count": 4,
   "id": "98f56ba3",
   "metadata": {},
   "outputs": [],
   "source": [
    "import rdr"
   ]
  },
  {
   "cell_type": "code",
   "execution_count": 5,
   "id": "c4b573f3",
   "metadata": {},
   "outputs": [],
   "source": [
    "carrels = rdr.catalog().split( '\\n' )"
   ]
  },
  {
   "cell_type": "code",
   "execution_count": 6,
   "id": "5f82dd70",
   "metadata": {},
   "outputs": [
    {
     "name": "stdout",
     "output_type": "stream",
     "text": [
      "Hakluyt\t1795468\t588\t66\n",
      "aesthetics\t8322156\t111\t65\n",
      "american-authors\t5760380\t96\t77\n",
      "art-is\t1632820\t15\t65\n",
      "austen-sense-1811\t120722\t50\t69\n",
      "baum-wizard-1900\t39623\t24\t91\n",
      "bode-world-2018\t82352\t9\t42\n",
      "code4lib-2011\t989969.0\t3087\t77\n",
      "code4lib-2021\t550460.0\t1653\t49\n",
      "code4lib-journal\t2110541\t496\t53\n",
      "decameron\t295171\t11\t53\n",
      "dhq\t3381884\t429\t47\n",
      "dsh\t40341\t4\t49\n",
      "email-2021\t52043\t126\t71\n",
      "emerson\t1323452\t23\t74\n",
      "fraser-speeches-2022\t19366923\t4872\t44\n",
      "greenspan\t1522220\t505\t13\n",
      "henty\t2785611\t23\t83\n",
      "homer\t271708\t48\t79\n",
      "issue-053\t45218\t10\t52\n",
      "ital\t3413132\t765\t-124\n",
      "lead-pipe\t1624174\t293\t55\n",
      "librarylab\t110550\t378\t59\n",
      "melville-moby-1851\t217965\t138\t78\n",
      "moby\t217965\t138\t75\n",
      "mukhopadhyay\t490149\t2172\t36\n",
      "oz\t39658\t1\t92\n",
      "pipe\t1624174\t293\t55\n",
      "plague\t86750\t802\t67\n",
      "plague-literature\t840490\t7\t70\n",
      "pride\t122638\t61\t72\n",
      "reading\t1425425\t111\t42\n",
      "shakespeare\t940379\t38\t92\n",
      "shakespeare-works\t940379\t38\t92\n",
      "sonnets\t19222\t154\t95\n",
      "test\t102667\t16\t75\n",
      "typee\t95766\t32\t61\n",
      "victorian\t1685786\t459\t78\n",
      "whats-eric-reading\t1403092\t102\t43\n",
      "wooley\t374921\t18\t79\n",
      "writing\t757752\t451\t54\n"
     ]
    }
   ],
   "source": [
    "for carrel in carrels :\n",
    "    words  = rdr.extents( carrel, type='words')\n",
    "    items  = rdr.extents( carrel, type='items')\n",
    "    flesch = rdr.extents( carrel, type='flesch')\n",
    "    print( '\\t'.join( [ carrel, str( words), str( items ), str( flesch ) ] ) )"
   ]
  },
  {
   "cell_type": "code",
   "execution_count": null,
   "id": "aa1a0a0b",
   "metadata": {},
   "outputs": [],
   "source": []
  }
 ],
 "metadata": {
  "kernelspec": {
   "display_name": "Python 3 (ipykernel)",
   "language": "python",
   "name": "python3"
  },
  "language_info": {
   "codemirror_mode": {
    "name": "ipython",
    "version": 3
   },
   "file_extension": ".py",
   "mimetype": "text/x-python",
   "name": "python",
   "nbconvert_exporter": "python",
   "pygments_lexer": "ipython3",
   "version": "3.9.7"
  }
 },
 "nbformat": 4,
 "nbformat_minor": 5
}
