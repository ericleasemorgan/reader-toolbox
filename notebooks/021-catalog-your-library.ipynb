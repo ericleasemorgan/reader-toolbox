{
 "cells": [
  {
   "cell_type": "markdown",
   "id": "112dce12",
   "metadata": {},
   "source": [
    "# Catalog"
   ]
  },
  {
   "cell_type": "markdown",
   "id": "4e4ff325",
   "metadata": {},
   "source": [
    "List and filter your collection of study carrels -- your personal library.\n",
    "\n",
    "It is quite possible you will download and/or create many study carrels. The collection of these things can be seen as a sort of library. This notebook demonstrates how you can peruse and browse your library."
   ]
  },
  {
   "cell_type": "code",
   "execution_count": 1,
   "id": "e5443a07",
   "metadata": {},
   "outputs": [],
   "source": [
    "# configure\n",
    "CARRELS = [ 'austen-emma-1815', 'austen-pride-1813', 'austen-sense-1811' ]"
   ]
  },
  {
   "cell_type": "code",
   "execution_count": 2,
   "id": "a5e08a40",
   "metadata": {},
   "outputs": [],
   "source": [
    "# require\n",
    "import rdr"
   ]
  },
  {
   "cell_type": "code",
   "execution_count": 3,
   "id": "15684dab",
   "metadata": {},
   "outputs": [
    {
     "name": "stdout",
     "output_type": "stream",
     "text": [
      "/Users/eric/reader-library\n"
     ]
    }
   ],
   "source": [
    "# get and output where your study carrels are saved\n",
    "library = rdr.configuration( 'localLibrary' )\n",
    "print( library )"
   ]
  },
  {
   "cell_type": "code",
   "execution_count": 4,
   "id": "dd22e4c5",
   "metadata": {},
   "outputs": [
    {
     "name": "stdout",
     "output_type": "stream",
     "text": [
      "homer\n"
     ]
    }
   ],
   "source": [
    "# get and output the carrels in your library; if you are just starting out, then the result ought to be short\n",
    "carrels = rdr.catalog()\n",
    "print( carrels )"
   ]
  },
  {
   "cell_type": "code",
   "execution_count": 5,
   "id": "740c388a",
   "metadata": {},
   "outputs": [
    {
     "name": "stderr",
     "output_type": "stream",
     "text": [
      "\n",
      "  INFO: Downloading remote study carrel...\n",
      "  INFO: Saving study carrel...\n",
      "  INFO: Unziping study carrel...\n",
      "  INFO: Done.\n",
      "\n",
      "  INFO: Downloading remote study carrel...\n",
      "  INFO: Saving study carrel...\n",
      "  INFO: Unziping study carrel...\n",
      "  INFO: Done.\n",
      "\n",
      "  INFO: Downloading remote study carrel...\n",
      "  INFO: Saving study carrel...\n",
      "  INFO: Unziping study carrel...\n",
      "  INFO: Done.\n"
     ]
    }
   ],
   "source": [
    "# add a few more carrels to your collection\n",
    "for carrel in CARRELS : rdr.download( carrel )"
   ]
  },
  {
   "cell_type": "code",
   "execution_count": 6,
   "id": "d6a4558d",
   "metadata": {},
   "outputs": [
    {
     "name": "stdout",
     "output_type": "stream",
     "text": [
      "austen-emma-1815\n",
      "austen-pride-1813\n",
      "austen-sense-1811\n",
      "homer\n"
     ]
    }
   ],
   "source": [
    "# get and output the carrels in your library, again\n",
    "carrels = rdr.catalog()\n",
    "print( carrels )"
   ]
  }
 ],
 "metadata": {
  "kernelspec": {
   "display_name": "Python 3 (ipykernel)",
   "language": "python",
   "name": "python3"
  },
  "language_info": {
   "codemirror_mode": {
    "name": "ipython",
    "version": 3
   },
   "file_extension": ".py",
   "mimetype": "text/x-python",
   "name": "python",
   "nbconvert_exporter": "python",
   "pygments_lexer": "ipython3",
   "version": "3.9.13"
  }
 },
 "nbformat": 4,
 "nbformat_minor": 5
}
