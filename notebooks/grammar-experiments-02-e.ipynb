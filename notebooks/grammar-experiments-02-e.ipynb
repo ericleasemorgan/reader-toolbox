{
 "cells": [
  {
   "cell_type": "markdown",
   "id": "2d914743",
   "metadata": {},
   "source": [
    "# Grammar Experiments - #2 of E"
   ]
  },
  {
   "cell_type": "markdown",
   "id": "8f7c44f4",
   "metadata": {},
   "source": [
    "Given a previously created file of sentences, this notebook outlines how to output sentence fragments in the form  of subject-verb-object."
   ]
  },
  {
   "cell_type": "markdown",
   "id": "c98cfe7c",
   "metadata": {},
   "source": [
    "Now that a carrel has been modeled into a list of sentences, we can exploit the model to answer different questions. For example, \"What sentences take the form of subject-verb-object, and what are the resulting subjects, verbs, and objects?\" If the result of this question takes the form of tab-delimited list of values, then it is easy to group, sort, and filter the list discover patterns. Sometimes the results can be quite interesting."
   ]
  },
  {
   "cell_type": "code",
   "execution_count": null,
   "id": "63b6f853",
   "metadata": {},
   "outputs": [],
   "source": [
    "# configure\n",
    "CARREL  = 'homer'\n"
   ]
  },
  {
   "cell_type": "code",
   "execution_count": null,
   "id": "2f8dc971",
   "metadata": {},
   "outputs": [],
   "source": [
    "# sub-configure; you probably don't want to change these\n",
    "COLUMNS = [ 'subject', 'verb', 'object' ]\n",
    "SVO     = '''\n",
    "  NOUNPHRASE: {<DT>?<JJ.*>*<NN.?>+}\n",
    "   PREDICATE: {<VB.*>?}\n",
    "     GRAMMAR: {<NOUNPHRASE><PREDICATE><NOUNPHRASE>}\n",
    "'''\n"
   ]
  },
  {
   "cell_type": "code",
   "execution_count": null,
   "id": "6e04e2a1",
   "metadata": {},
   "outputs": [],
   "source": [
    "# require\n",
    "import rdr\n",
    "import multiprocessing\n",
    "import pandas as pd\n",
    "import nltk\n"
   ]
  },
  {
   "cell_type": "code",
   "execution_count": null,
   "id": "c2ca1255",
   "metadata": {},
   "outputs": [],
   "source": [
    "# do the work\n",
    "if __name__ == '__main__' : \n",
    "\n",
    "    # initialize\n",
    "    parser       = nltk.RegexpParser( SVO )\n",
    "    localLibrary = rdr.configuration( 'localLibrary' )\n",
    "    sentences    = localLibrary/CARREL/( rdr.ETC )/( rdr.SENTENCES )\n",
    "\n",
    "    # get and parallel process each sentence\n",
    "    sentences = rdr.Sentences( sentences )\n",
    "    pool      = multiprocessing.Pool()\n",
    "    results   = pool.starmap( rdr.matchSVO, [ [ sentence, parser ] for sentence in sentences ] )\n",
    "    pool.close()\n",
    "\n",
    "    # process each result; create a list of lists containing the results\n",
    "    svo = []\n",
    "    for result in results :\n",
    "\n",
    "        # update, conditionally\n",
    "        if result : svo.append( result )\n"
   ]
  },
  {
   "cell_type": "markdown",
   "id": "fc49e8a7",
   "metadata": {},
   "source": [
    "Once you get this far, all of the subject-verb-object values ought to be saved in a list of lists called `svo`. We can then simply dump them to screen..."
   ]
  },
  {
   "cell_type": "code",
   "execution_count": null,
   "id": "44f56812",
   "metadata": {},
   "outputs": [],
   "source": [
    "# merely dump the result to the screen\n",
    "print( svo )"
   ]
  },
  {
   "cell_type": "markdown",
   "id": "bbfe3a8c",
   "metadata": {},
   "source": [
    "Alternatively, we can stuff the subject-verb-object values into a Pandas dataframe. The printed result is more readable."
   ]
  },
  {
   "cell_type": "code",
   "execution_count": null,
   "id": "64eb57f6",
   "metadata": {},
   "outputs": [],
   "source": [
    "# create a dataframe from the result, and ouput the result\n",
    "dataframe = pd.DataFrame( svo, columns=COLUMNS )\n",
    "print( dataframe )"
   ]
  },
  {
   "cell_type": "markdown",
   "id": "1fd36f88",
   "metadata": {},
   "source": [
    "Finally, we can exploit the dataframe for the purposes of filtering, grouping, sorting, etc..."
   ]
  },
  {
   "cell_type": "code",
   "execution_count": null,
   "id": "9eb2312e",
   "metadata": {},
   "outputs": [],
   "source": [
    "# denote/update a values for column (subject, verb, or object) and filter, and then ouput only the matching lines\n",
    "column = 'subject'\n",
    "filter = 'ulysses'\n",
    "print( dataframe[ dataframe[ column ] == filter ] )\n"
   ]
  },
  {
   "cell_type": "code",
   "execution_count": null,
   "id": "fa150f60",
   "metadata": {},
   "outputs": [],
   "source": []
  }
 ],
 "metadata": {
  "kernelspec": {
   "display_name": "Python 3 (ipykernel)",
   "language": "python",
   "name": "python3"
  },
  "language_info": {
   "codemirror_mode": {
    "name": "ipython",
    "version": 3
   },
   "file_extension": ".py",
   "mimetype": "text/x-python",
   "name": "python",
   "nbconvert_exporter": "python",
   "pygments_lexer": "ipython3",
   "version": "3.9.12"
  }
 },
 "nbformat": 4,
 "nbformat_minor": 5
}
