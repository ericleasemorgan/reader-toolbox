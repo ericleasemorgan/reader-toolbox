{
 "cells": [
  {
   "cell_type": "markdown",
   "id": "2d914743",
   "metadata": {},
   "source": [
    "# Grammar Experiments - #2 of E"
   ]
  },
  {
   "cell_type": "markdown",
   "id": "8f7c44f4",
   "metadata": {},
   "source": [
    "Given a previously created file of sentences, this notebook outlines how to output sentence fragments in the form  of subject-verb-object."
   ]
  },
  {
   "cell_type": "markdown",
   "id": "c98cfe7c",
   "metadata": {},
   "source": [
    "Now that a carrel has been modeled into a list of sentences, we can exploit the model to answer different questions. For example, \"What sentences take the form of subject-verb-object, and what are the resulting subjects, verbs, and objects?\" If the result of this question takes the form of tab-delimited list of values, then it is easy to group, sort, and filter the list discover patterns. Sometimes the results can be quite interesting."
   ]
  },
  {
   "cell_type": "code",
   "execution_count": 1,
   "id": "63b6f853",
   "metadata": {},
   "outputs": [],
   "source": [
    "# configure\n",
    "CARREL  = 'homer'\n"
   ]
  },
  {
   "cell_type": "code",
   "execution_count": 2,
   "id": "2f8dc971",
   "metadata": {},
   "outputs": [],
   "source": [
    "# sub-configure; you probably don't want to change these\n",
    "COLUMNS = [ 'subject', 'verb', 'object' ]\n",
    "SVO     = '''\n",
    "  NOUNPHRASE: {<DT>?<JJ.*>*<NN.?>+}\n",
    "   PREDICATE: {<VB.*>?}\n",
    "     GRAMMAR: {<NOUNPHRASE><PREDICATE><NOUNPHRASE>}\n",
    "'''\n"
   ]
  },
  {
   "cell_type": "code",
   "execution_count": 3,
   "id": "6e04e2a1",
   "metadata": {},
   "outputs": [],
   "source": [
    "# require\n",
    "import rdr\n",
    "import multiprocessing\n",
    "import pandas as pd\n",
    "import nltk\n"
   ]
  },
  {
   "cell_type": "code",
   "execution_count": 4,
   "id": "c2ca1255",
   "metadata": {},
   "outputs": [],
   "source": [
    "# do the work\n",
    "if __name__ == '__main__' : \n",
    "\n",
    "    # initialize\n",
    "    parser       = nltk.RegexpParser( SVO )\n",
    "    localLibrary = rdr.configuration( 'localLibrary' )\n",
    "    sentences    = localLibrary/CARREL/( rdr.ETC )/( rdr.SENTENCES )\n",
    "\n",
    "    # get and parallel process each sentence\n",
    "    sentences = rdr.Sentences( sentences )\n",
    "    pool      = multiprocessing.Pool()\n",
    "    results   = pool.starmap( rdr.matchSVO, [ [ sentence, parser ] for sentence in sentences ] )\n",
    "    pool.close()\n",
    "\n",
    "    # process each result; create a list of lists containing the results\n",
    "    svo = []\n",
    "    for result in results :\n",
    "\n",
    "        # update, conditionally\n",
    "        if result : svo.append( result )\n"
   ]
  },
  {
   "cell_type": "markdown",
   "id": "fc49e8a7",
   "metadata": {},
   "source": [
    "Once you get this far, all of the subject-verb-object values ought to be saved in a list of lists called `svo`. We can then simply dump them to screen..."
   ]
  },
  {
   "cell_type": "code",
   "execution_count": 5,
   "id": "44f56812",
   "metadata": {},
   "outputs": [
    {
     "name": "stdout",
     "output_type": "stream",
     "text": [
      "[['i', 'fear', 'the brave son'], ['achilles', 'gave', 'a loud cry'], ['the waves', 'opened', 'a path'], ['close order', 'round', 'the tents'], ['fight', 'have', 'no peer'], ['dardanian women', 'wring', 'tears'], ['body', 'suffer', 'any kind'], ['i', 'know', 'no man'], ['the achaeans', 'gain', 'some brief breathingtime'], ['thrice', 'did', 'achilles'], ['juno', 'sent', 'the busy sun'], ['the plain', 'whereon', 'the trojans'], ['a time', 'stay', 'the son'], ['vain', 'were', 'the words'], ['the myrmidons', 'gather', 'round achilles'], ['work', 'silverfooted', 'thetis'], ['the goddess', 'led', 'the way'], ['i', 'was', 'lame'], ['the trojans', 'hemmed', 'the achaeans'], ['loud', 'rose', 'the cry'], ['the people', 'took', 'sides'], ['turn', 'gave', 'judgement'], ['the others', 'sallied', 'forth'], ['men', 'gave', 'chase'], ['the maidens', 'wore', 'robes'], ['the young men', 'had', 'daggers'], ['cyllene', 'summoned', 'the ghosts'], ['the sea', 'stood', 'round'], ['the argives', 'built', 'a noble tomb'], ['mother', 'begged', 'prizes'], ['agamemnon', 'recognised', 'amphimedon son'], ['enemies', 'make', 'an end'], ['some malicious god', 'conveyed', 'ulysses'], ['a leanto', 'running', 'all round'], ['master', 'takes', 'such poor care'], ['old men', 'have', 'a right'], ['i', 'met', 'a man'], ['father', 'was', 'laertes'], ['father', 'shed', 'tears'], ['i', 'have', 'a fine house'], ['i', 'am', 'son'], ['the old sicel woman', 'took', 'laertes'], ['i', 'were', 'the man i'], ['dolius', 'gathered', 'round'], ['an immortal god', 'take', 'the form'], ['this pale fear', 'laid', 'hold'], ['half', 'raised', 'a loud shout'], ['armour rang', 'rattling', 'round'], ['ulysses', 'gave', 'a great cry'], ['saturn', 'sent', 'a thunderbolt'], ['minerva', 'assumed', 'the form'], ['priam', 'ransoms', 'the body'], ['chariot', 'round', 'the tomb'], ['whereas achilles', 'is', 'the offspring'], ['fleet iris', 'leading', 'the way'], ['saturn', 'sent', 'iris'], ['i', 'bring', 'no evil tidings'], ['mine eyes', 'behold', 'the sacking'], ['the old man', 'bade', 'the servingwoman pour pure water'], ['i', 'go', 'forth'], ['hearts', 'took', 'comfort'], ['the old man', 'made', 'haste'], ['the mules', 'drawing', 'the fourwheeled waggon'], ['idaeus', 'saw', 'mercury'], ['i', 'see', 'a man'], ['i', 'am', 'a myrmidon'], ['mercury', 'opened', 'the gate'], ['dear son', 'come', 'home'], ['the immortals', 'know', 'no care'], ['the myrmidons', 'excelling', 'all men'], ['apollo', 'killed', 'the sons'], ['saturn', 'turned', 'the people'], ['hands', 'took', 'the life'], ['the mules', 'drew', 'the body'], ['the people', 'stood', 'asunder'], ['i', 'am', 'wife'], ['this man', 'had', 'no strength'], ['i', 'have', 'a good mind'], ['i', 'am', 'host'], ['irus', 'hit', 'ulysses'], ['man', 'is', 'the vainest'], ['god almighty', 'gives', 'men'], ['i', 'was', 'a rich man'], ['the goddess', 'shed', 'grace'], ['the bearingposts', 'supporting', 'the roof'], ['i', 'have', 'no one'], ['the argives', 'set', 'sail'], ['nothing', 'decides', 'the issue'], ['son', 'growing', 'a beard'], ['maids', 'brought', 'the presents'], ['the people—', 'brooding', 'the while'], ['ulysses', 'sought', 'protection'], ['the stool', 'hit', 'the cupbearer'], ['the cupbearer', 'go', 'round'], ['ulysses', 'remove', 'the armour—ulysses'], ['i', 'take', 'the armour'], ['son', 'made', 'all haste'], ['i', 'had', 'any number'], ['head', 'waiting', 'woman eurynome'], ['fame', 'reaches', 'the firmament'], ['the argives', 'set', 'sail'], ['mid ocean', 'called', 'crete'], ['years', 'had', 'a conference'], ['i', 'saw', 'ulysses'], ['i', 'had', 'abundance'], ['i', 'suppose', 'some unfriendly god'], ['a plausible tale', 'did', 'ulysses'], ['the rivers', 'run', 'bank'], ['ulysses', 'wore', 'a mantle'], ['a dog', 'holding', 'a spotted fawn'], ['name', 'was', 'eurybates'], ['the king', 'said', 'ulysses'], ['day', 'break', 'wash'], ['i', 'left', 'the snowy ranges'], ['i', 'have', 'no doubt'], ['the old woman', 'took', 'the cauldron'], ['the old woman', 'had', 'hold'], ['supper euryclea', 'set', 'the infant'], ['sons', 'shook', 'hands'], ['the boar', 'heard', 'the noise'], ['this euryclea', 'left', 'the cloister'], ['heart', 'becomes', 'a prey'], ['the geese', 'are', 'the suitors'], ['thetis', 'reached', 'the ships'], ['the achaeans', 'arm', 'forthwith'], ['juno', 'brought', 'the child'], ['the lightning— i', 'have', 'a word'], ['a fine child', 'born', 'this day'], ['the time i', 'kept', 'thinking'], ['i', 'am', 'calmer'], ['fighting', 'is', 'a thing'], ['day men', 'fall', 'thick'], ['that hour', 'let', 'no man'], ['the young achaeans', 'brought', 'the rest'], ['atreus', 'drew', 'the knife'], ['the stablemen', 'drove', 'the horses'], ['i', 'went', 'hence i'], ['the achaeans', 'gathered', 'round achilles'], ['i', 'have', 'meat'], ['son', 'is', 'no more—'], ['the ashen', 'spears', 'stream'], ['the sheen', 'pierced', 'the sky'], ['achilles', 'made', 'trial'], ['achilles', 'had', 'strength'], ['mane', 'touched', 'the ground'], ['the trojans', 'stripped', 'patroclus'], ['a chariot race', 'strains', 'every nerve'], ['men', 'call', 'orion'], ['priam', 'raised', 'a cry'], ['richly', 'dowered', 'wife'], ['ground', 'awaiting', 'huge achilles'], ['the achaeans', 'divide', 'the half'], ['i', 'were', 'a woman'], ['some cowering', 'dove—', 'the dove flies'], ['good', 'was', 'the man'], ['a chariot race speed', 'round', 'the turningposts'], ['eyes', 'behold', 'a man'], ['a hound', 'chasing', 'a fawn'], ['achilles', 'made', 'signs'], ['full speed', 'round', 'the city'], ['i', 'make', 'straight towards'], ['son', 'apollo', 'the fardarter'], ['the helmet', 'floated', 'round'], ['the ships', 'taking', 'this man'], ['father', 'made', 'piteous moan'], ['day', 'did', 'i glory'], ['brothers', 'crowded', 'round'], ['every man', 'looked', 'round'], ['ulysses', 'told', 'philoetius'], ['i', 'left', 'the store room door'], ['the other side', 'raised', 'an uproar'], ['ulysses', 'killed', 'demoptolemus'], ['men', 'let', 'drive'], ['the stockman', 'hit', 'ctesippus'], ['telemachus', 'hit', 'leocritus son'], ['i', 'was', 'a boy'], ['medon', 'caught', 'these words'], ['the sun', 'makes', 'an end'], ['i', 'have', 'something'], ['euryclea', 'left', 'the cloister'], ['these women', 'die', 'a clean death'], ['philoetius', 'leave', 'the town'], ['i', 'have', 'trouble'], ['i', 'found', 'ulysses'], ['i', 'suppose', 'the queen'], ['the hair', 'grow', 'thick'], ['this woman', 'has', 'a heart'], ['i', 'made', 'the doors'], ['i', 'worked', 'till i'], ['sorrow till', 'rosyfingered', 'morn'], ['i', 'have', 'an unknown amount'], ['mourning', 'was', 'the son'], ['the achaeans', 'took', 'the son'], ['men', 'bring', 'wood'], ['head', 'making', 'piteous moan'], ['agamemnon', 'sent', 'men'], ['i', 'returned', 'home'], ['achilles', 'took', 'fat'], ['twelve', 'brave', 'sons'], ['twelve', 'brave', 'sons'], ['the chariot', 'races—', 'a woman'], ['others', 'set', 'yourselves'], ['horses', 'round', 'the post'], ['achilles', 'shook', 'the helmet'], ['the horses', 'scoured', 'the plain'], ['own horses', 'lost', 'ground'], ['minerva', 'saw', 'the trick'], ['minerva', 'put', 'fresh strength'], ['a short space', 'went', 'quicker'], ['the road', 'had', 'sunk'], ['the horses', 'feared', 'the rebuke'], ['the driver', 'was', 'a long way'], ['the chariot', 'holding', 'the reins'], ['grit', 'rained', 'thick'], ['tin', 'running', 'all round'], ['comrade automedon', 'bring', 'the breastplate'], ['the argives', 'keep', 'silence'], ['heart', 'made', 'glad'], ['sons', 'offered', 'prizes'], ['iphiclus', 'was', 'a good runner'], ['the cup', 'come', 'hither'], ['i', 'am', 'the best boxer'], ['no man', 'rose', 'save euryalus son'], ['boreas', 'furs', 'the top'], ['noble epeus', 'caught', 'hold'], ['turn', 'lifted', 'ajax'], ['oileus', 'took', 'the lead'], ['mighty', 'diomed', 'son'], ['comrades', 'carried', 'the prize'], ['archery— ten', 'doubleedged', 'axes'], ['the arrow', 'cut', 'the string'], ['all ten', 'doubleedged', 'axes'], ['themselves—achilles', 'drives', 'the trojans'], ['a grass', 'fire—', 'the flame'], ['achilles', 'caught', 'sight'], ['such words', 'did', 'the princely son'], ['i', 'am', 'son'], ['periboea', 'eldest', 'daughter'], ['right arm', 'drawing', 'dark blood'], ['aeacus', 'was', 'the son'], ['anger', 'taken', 'human form'], ['the river', 'raised', 'a high wave'], ['garden', 'leads', 'a stream'], ['i', 'were', 'some swineherd'], ['achilles', 'drive', 'the trojans'], ['shields', 'opened', 'the battle'], ['strong hand', 'seized', 'a stone'], ['daughter venus', 'took', 'mars'], ['have', 'ended', 'the war'], ['i', 'built', 'the trojans'], ['phoebus apollo', 'entered', 'the strong city'], ['achilles', 'bring', 'toil'], ['the achaeans', 'taken', 'the lofty gates'], ['agenor', 'saw', 'achilles'], ['achilles', 'drive', 'the others'], ['this day', 'sack', 'the city'], ['turn', 'attacked', 'noble agenor'], ['a whole people', 'make', 'merry'], ['i', 'am', 'ulysses son'], ['a high mountain', 'called', 'neritum'], ['eyes', 'know', 'none'], ['i', 'sacked', 'the town'], ['i', 'told', 'the rest'], ['the cyclopes', 'have', 'no ships'], ['poplars', 'growing', 'all round'], ['daughters', 'roused', 'the wild goats'], ['next morning i', 'called', 'a council'], ['i', 'filled', 'a large skin'], ['excellency', 'fear', 'the wrath'], ['the cyclops', 'had', 'a great club'], ['soil', 'grows', 'grapes'], ['a blacksmith', 'plunges', 'an axe'], ['jove', 'makes', 'people'], ['pain', 'felt', 'the backs'], ['polyphemus', 'laid', 'hold'], ['i', 'made', 'signs'], ['morning', 'rosyfingered', 'dawn'], ['lacedaemon—', 'iphitus', 'the son'], ['these ulysses', 'took', 'a long journey'], ['these mares', 'were', 'the death'], ['iphitus', 'met', 'ulysses'], ['son hercules', 'killed', 'iphitus'], ['the bearingposts', 'supporting', 'the roof'], ['own house—', 'egging', 'the others'], ['ulysses', 'made', 'a sign'], ['this bow', 'take', 'the life'], ['melanthius', 'lit', 'the fire'], ['the suitors', 'warmed', 'the bow'], ['the stockman', 'left', 'the cloisters'], ['i', 'have', 'something'], ['this moreover', 'be', 'the token'], ['today', 'is', 'the feast'], ['the cupbearer', 'go', 'round'], ['thereon men servants', 'poured', 'water'], ['these suitors', 'are', 'a feeble folk'], ['i', 'am', 'the only man'], ['this bow', 'is', 'a man'], ['i', 'am', 'the better man'], ['such workmanlike style', 'does', 'the old vagabond handle'], ['a skilled bard', 'strings', 'a new peg'], ['dismay', 'bade', 'the heralds'], ['the loud battlecry', 'made', 'answer'], ['i', 'was', 'a coward'], ['the achaeans', 'shouted', 'applause'], ['civil discord', 'is', 'a clanless'], ['menservants', 'poured', 'water'], ['in— ulysses', 'leading', 'the way—'], ['menoetius', 'made', 'the fire burn'], ['seat', 'facing', 'ulysses'], ['i', 'have', 'no thanks'], ['the argives needs', 'fight', 'the trojans'], ['atreus', 'gather', 'the host'], ['i', 'fought', 'the achaeans'], ['tomorrow', 'offer', 'sacrifice'], ['a man', 'buy', 'both tripods'], ['displeasure', 'lasts', 'the one'], ['the arts', 'whereby', 'men'], ['i', 'took', 'counsel'], ['a father', 'treats', 'an only son'], ['i', 'was', 'chief ruler'], ['i', 'had', 'infinite trouble'], ['i', 'say', 'battle'], ['the prayers', 'come', 'hobbling'], ['i', 'have', 'an old story'], ['another round', 'calydon—', 'the aetolians'], ['displeasure', 'sent', 'a prodigious creature'], ['oeneus', 'got', 'huntsmen'], ['the goddess', 'set', 'the curetes'], ['wife', 'detailed', 'the horrors'], ['i', 'have', 'no need'], ['i', 'say', 'further—'], ['i', 'were', 'some vile tramp'], ['ulysses', 'leading', 'the way'], ['the envoys', 'reached', 'the tents'], ['venus', 'took', 'care'], ['i', 'threw', 'a cloak'], ['euryclea', 'called', 'the maids'], ['ulysses', 'made', 'no answer'], ['the gods', 'give', 'sorrow'], ['i', 'saw', 'this man'], ['the swineherd', 'gave', 'every man'], ['a shabby', 'looking', 'seat'], ['name', 'was', 'ctesippus'], ['man', 'is', 'no match'], ['men', 'dragging', 'the women servants'], ['day', 'come', 'home'], ['roofbeams', 'drip', 'blood'], ['i', 'have', 'eyes'], ['jove', 'forbids', 'the gods'], ['jove', 'called', 'the gods'], ['the other gods', 'gave', 'ear.'], ['foot', 'sallied', 'forth'], ['mighty', 'was', 'the din'], ['the trojans', 'rose', 'heavenwards'], ['struggles', 'threw', 'others'], ['a loud cry', 'called', 'ulysses'], ['nestor', 'took', 'the reins'], ['squire', 'eniopeus', 'son'], ['queen juno', 'made', 'high olympus quake'], ['tents', 'carrying', 'a great purple cloak'], ['the eagle', 'dropped', 'the fawn'], ['armour rang', 'rattling', 'round'], ['the arrow', 'hit', 'priam'], ['a great stone', 'made', 'straight'], ['the collarbone', 'divides', 'the neck'], ['a hound', 'grips', 'a wild boar'], ['olympus', 'reeled', 'beneath'], ['minerva', 'sat', 'silent'], ['saturn', 'destroying', 'large numbers'], ['hector', 'led', 'the trojans'], ['the ring', 'round', 'the spearhead'], ['brave', 'diomed', 'the son'], ['the trojans', 'shouted', 'applause'], ['the wind', 'carried', 'the sweet savour'], ['the gods', 'hold', 'a council'], ['i', 'take', 'thought'], ['achilles', 'fights', 'the trojans'], ['helmet', 'joined', 'the trojans'], ['beneath neptune', 'shook', 'the vast earth'], ['minerva', 'took', 'hers'], ['anchises', 'escape', 'the notice'], ['the darkhaired god', 'led', 'the way'], ['the other side', 'sprang', 'forth'], ['i', 'were', 'a child'], ['mother', 'is', 'thetis'], ['i', 'have', 'noble anchises'], ['the beginning dardanus', 'was', 'the son'], ['dardanus', 'had', 'a son'], ['i', 'am', 'fain'], ['i', 'am', 'sorry'], ['all times', 'offered', 'acceptable sacrifice'], ['jove', 'hated', 'the blood'], ['darkness', 'closed', 'the eyes'], ['i', 'were', 'a child'], ['thrice', 'did', 'achilles spring towards'], ['tros', 'laid', 'hold'], ['stern fate', 'closed', 'the eyes'], ['spear', 'wounded', 'deucalion'], ['the wind', 'carries', 'great tongues'], ['minerva', 'took', 'the form'], ['the fiftytwo', 'picked', 'oarsmen'], ['the muse', 'inspired', 'demodocus'], ['the phaeacians', 'pressed', 'demodocus'], ['son laodamas', 'was', 'the best boxer'], ['i', 'had', 'youth'], ['i', 'am', 'a good hand'], ['i', 'am', 'an excellent archer'], ['philoctetes', 'was', 'the only man'], ['running', 'is', 'the only point'], ['mars', 'made', 'venus'], ['the world', 'was', 'the one'], ['mars', 'kept', 'no blind look'], ['the vestibule', 'making', 'a dreadful noise'], ['i', 'am', 'lame'], ['i', 'am', 'a cripple—'], ['bond', 'is', 'bad security'], ['the immortal gods', 'make', 'use'], ['people', 'were', 'the nimblest dancers'], ['towards', 'sundown', 'the presents'], ['the bearingposts', 'supporting', 'the roof'], ['the bearingposts', 'supporting', 'the cloister'], ['the servant', 'carried', 'the pork'], ['the argives', 'set', 'fire'], ['the phaeacians', 'have', 'no pilots'], ['i', 'made', 'a drinkoffering'], ['ship', 'reaches', 'the thrinacian island'], ['the first i saw', 'was', 'tyro'], ['pelias', 'was', 'a great breeder'], ['i', 'saw', 'antiope'], ['the gods', 'proclaimed', 'the whole story'], ['i', 'saw', 'iphimedeia wife'], ['cubits', 'round', 'the chest'], ['enemies', 'make', 'an end'], ['wicked wife', 'were', 'the death'], ['i', 'were', 'a fat beast'], ['i', 'thought', 'i'], ['clytemnestra', 'hatched', 'mischief'], ['the horse—', 'grasping', 'the handle'], ['mars', 'is', 'a matter'], ['minerva', 'were', 'the judges'], ['destruction—', 'come', 'hither'], ['asphodel', 'driving', 'the ghosts'], ['the wind', 'tossed', 'the branches'], ['birds', 'flying', 'all whithers'], ['i', 'was', 'son'], ['i', 'was', 'panic stricken lest proserpine'], ['calypso—ulysses', 'reaches', 'scheria'], ['calypso', 'gave', 'mercury'], ['rosyfingered dawn', 'made', 'love'], ['i', 'have', 'a man'], ['i', 'found', 'the poor creature'], ['i', 'got', 'fond'], ['a well', 'found', 'ship'], ['ulysses', 'took', 'the seat'], ['calypso', 'set', 'meat'], ['i', 'am', 'no whit'], ['wife penelope', 'is', 'nothing'], ['morning', 'rosyfingered', 'dawn'], ['a skilled shipwright', 'makes', 'the beam'], ['i', 'am', 'afraid calypso'], ['thrice blest', 'were', 'those danaans'], ['the sea', 'took', 'the raft'], ['the waters', 'till', 'ulysses'], ['i', 'leave', 'the water—'], ['the rocks', 'tear', 'the skin'], ['i', 'climb', 'the hill side'], ['mother dione—mars', 'encourages', 'the trojans'], ['name', 'was', 'dares'], ['phegeus', 'took', 'aim'], ['the danaans', 'drove', 'the trojans'], ['armour rang', 'rattling', 'round'], ['idomeneus', 'killed', 'phaesus'], ['moreover i', 'have', 'neither horse'], ['sire', 'is', 'anchises'], ['pallas', 'minerva', 'bids'], ['anchises', 'stole', 'the blood'], ['armour rang', 'rattling', 'round'], ['the silver bow', 'fashioned', 'a wraith'], ['light', 'hidecovered', 'targets'], ['i', 'have', 'nothing'], ['the chaffheaps', 'grow', 'whiter'], ['pallas minerva', 'leave', 'the fray'], ['the danaans', 'stand', 'firm'], ['armour rang', 'rattling', 'round'], ['father', 'was', 'a rich man'], ['a loud cry', 'rushed', 'towards'], ['mars', 'wielded', 'a monstrous spear'], ['a man', 'crossing', 'a wide plain'], ['that hector', 'wields', 'the spear'], ['the spear', 'pierced', 'the lower part'], ['the trojans', 'rained', 'spears'], ['fate', 'impelled', 'tlepolemus'], ['the goddess juno', 'saw', 'the argives'], ['a double toprail', 'running', 'all round'], ['juno', 'lashed', 'the horses'], ['simois', 'made', 'ambrosia spring'], ['shield', 'irritated', 'the hurt'], ['tydeus', 'was', 'a little man'], ['the goddess', 'mounted', 'the car'], ['minerva', 'donned', 'the helmet'], ['tydeus', 'see', 'mars'], ['valour—machaon', 'is', 'wounded—nestor drives'], ['jove', 'sent', 'fierce discord'], ['hand', 'towards', 'the tents'], ['bronze', 'running', 'all round'], ['head agamemnon', 'set', 'a helmet'], ['saturn', 'sent', 'a portent'], ['the sheaves', 'fall', 'thick'], ['father antimachus', 'has', 'great store'], ['foot soldiers', 'drove', 'the foot soldiers'], ['gusts', 'whirl', 'fire'], ['atreus', 'sped', 'onwards'], ['the others', 'bear', 'the brunt'], ['the others', 'bear', 'the brunt'], ['horses', 'towards', 'the ships'], ['the achaeans', 'did', 'hector slay'], ['the west wind', 'hustles', 'the clouds'], ['hector', 'takes', 'the ships'], ['ulysses', 'killed', 'molion'], ['ulysses', 'killed', 'hippodamus'], ['lovely helen', 'aimed', 'an arrow'], ['goats', 'fear', 'a lion'], ['bow', 'are', 'nothing'], ['i', 'wound', 'a man'], ['cowards', 'quit', 'the field'], ['the trojans', 'attack', 'ulysses'], ['the blood', 'welled', 'forth'], ['ravenous mountain jackals', 'round', 'the carcase'], ['menelaus', 'took', 'ulysses'], ['spread', 'healing', 'herbs'], ['cebriones', 'seeing', 'the trojans'], ['the rail', 'round', 'the car'], ['presence', 'threw', 'the danaans'], ['high throne', 'struck', 'fear'], ['hounds', 'chase', 'a lion'], ['allies', 'pursue', 'great ajax'], ['ship', 'watching', 'the hard stress'], ['i', 'have', 'no strength'], ['the heralds', 'went', 'round crying'], ['the epeans', 'owed', 'chattels'], ['father', 'chose', 'a herd'], ['men', 'bit', 'the dust'], ['thereon jove', 'vouchsafed', 'the pylians'], ['eurypylus', 'made', 'answer'], ['the snowflakes', 'whiten', 'the ground'], ['birth jove', 'laid', 'this heavy burden'], ['comrades', 'sleeping', 'round'], ['gerene', 'made', 'answer'], ['i', 'have', 'good sons'], ['forest towards', 'them—', 'forthwith'], ['night', 'fell', 'hector'], ['thereon', 'agamemnon', 'king'], ['delicacy', 'reject', 'the better man'], ['thrasymedes', 'provided', 'the son'], ['meriones', 'found', 'a bow'], ['the city', 'bearing', 'a message'], ['hector', 'let', 'the trojans'], ['a certain man', 'named', 'dolon'], ['dolon', 'suspected', 'nothing'], ['the others', 'gave', 'chase'], ['minerva', 'infused', 'fresh strength'], ['mother', 'was', 'an immortal'], ['the seaward', 'lie', 'the carians'], ['thereon minerva', 'put', 'courage'], ['meanwhile ulysses', 'untied', 'the horses'], ['the others', 'shook', 'hands'], ['an arrow—agamemnon', 'makes', 'a speech'], ['this matter', 'become', 'a bone'], ['i', 'am', 'saturn'], ['minerva', 'took', 'the form'], ['horns', 'were', 'sixteen palms'], ['a mother', 'whisks', 'a fly'], ['comrades', 'made', 'moan'], ['the trojans', 'reach', 'the sterns'], ['i', 'do', 'any others'], ['pitch', 'is', 'the offing'], ['old men', 'have', 'a right'], ['achaeans', 'engage', 'the enemy'], ['i', 'have', 'neither fault'], ['the achaeans', 'sent', 'tydeus'], ['the chiefs', 'gave', 'orders'], ['bronze', 'pierced', 'the bone'], ['armour rang', 'rattling', 'round'], ['the argives', 'raised', 'a shout'], ['i', 'have', 'no pleasure'], ['crying', 'is', 'cold comfort'], ['a gold band', 'round', 'the top'], ['violet', 'coloured', 'wool'], ['i', 'see', 'the likeness'], ['i', 'had', 'a brother'], ['the whole country', 'is', 'a skilled physician'], ['no one', 'said', 'anything'], ['the trojan women', 'made', 'lamentation'], ['this helen', 'told', 'the maid servants'], ['an island', 'called', 'pharos—'], ['the gods', 'know', 'everything'], ['morning', 'rosyfingered', 'dawn'], ['gods', 'know', 'everything'], ['the gods', 'backed', 'the wind'], ['this i', 'took', 'comfort'], ['men', 'lead', 'an easier life'], ['i', 'raised', 'a barrow'], ['islands', 'have', 'much level ground'], ['day', 'telemachus', 'returns'], ['i', 'saw', 'mentor'], ['i', 'saw', 'mentor'], ['eyes', 'flashed', 'fire'], ['the gods', 'hate', 'the race'], ['the ship', 'fast', 'a little way'], ['the sons', 'marry', 'the daughters'], ['all day', 'long', 'the atmosphere'], ['i', 'said', 'i'], ['dinner i', 'took', 'a herald'], ['shore', 'followed', 'a level road'], ['antiphates', 'raised', 'a hueandcry'], ['a high lookout i', 'espied', 'the smoke'], ['some god', 'took', 'pity'], ['i', 'called', 'the men'], ['i', 'called', 'a council'], ['i', 'see', 'no way'], ['the sea', 'reaching', 'all round'], ['lions', 'prowling', 'all round'], ['this i', 'left', 'the ship'], ['a richly', 'decorated', 'seat inlaid'], ['i', 'had', 'drunk'], ['drugs', 'have', 'no power'], ['the men', 'saw', 'each other face'], ['hades', 'is', 'a port'], ['the third place water—', 'sprinkling', 'white barley meal'], ['a certain youth', 'named', 'elpenor'], ['circe', 'brought', 'the ram'], ['minerva', 'took', 'the form'], ['the washingcisterns', 'are', 'some way'], ['the girl', 'brought', 'the clothes'], ['daughter', 'stand', 'a full head taller'], ['minerva', 'put', 'courage'], ['yesterday', 'made', 'the twentieth day'], ['i', 'know', 'no one'], ['the hair', 'grow', 'thick'], ['i', 'believe', 'the gods'], ['a high wall', 'running', 'all round'], ['i', 'am', 'afraid'], ['any other girl', 'do', 'the like'], ['father', 'has', 'a field'], ['the whole town', 'has', 'anything'], ['gods', 'call', 'these rocks'], ['the same time', 'keeping', 'scylla'], ['the men', 'furled', 'the sails'], ['i', 'kneaded', 'the wax'], ['i', 'stopped', 'the ears'], ['i', 'made', 'signs'], ['men', 'took', 'the wax'], ['the island i', 'saw', 'a great wave'], ['i', 'said', 'nothing'], ['hand', 'was', 'scylla'], ['the spray', 'reached', 'the top'], ['some jutting rock', 'throws', 'bait'], ['the [', 'wandering', '] rocks'], ['jove', 'raised', 'a great gale'], ['a cave', 'wherein', 'the seanymphs'], ['saturn', 'raised', 'a black cloud'], ['the ship', 'went', 'round'], ['the water', 'round', 'the ship'], ['the ship', 'till', 'the sea'], ['the roots', 'were', 'a long way'], ['i hate', 'saying', 'the same thing'], ['allies', 'break', 'the wall'], ['the achaeans', 'stood', 'firm'], ['phoebus apollo', 'turned', 'the mouths'], ['sarpedon', 'was', 'captain'], ['men', 'await', 'the onset'], ['thunder', 'sent', 'the blast'], ['the shepherds', 'keeping', 'watch'], ['cups', 'kept', 'brimming'], ['telamon', 'heeded', 'the message'], ['telamon', 'killed', 'brave epicles'], ['the danaans', 'drive', 'the lycians'], ['woman', 'weighs', 'wool'], ['hector', 'laid', 'hold'], ['bucolion', 'was', 'eldest son'], ['leitus', 'killed', 'phylacus'], ['spring', 'returns', 'the forest'], ['a son', 'named', 'glaucus'], ['bellerophon', 'was', 'an honourable man'], ['oeneus', 'gave', 'a belt'], ['saturn', 'made', 'glaucus'], ['hector', 'reached', 'the scaean gates'], ['wine', 'gives', 'a man'], ['theano', 'took', 'the robe'], ['hector', 'made', 'no answer'], ['wife', 'came', 'running towards'], ['i', 'know', 'nothing save'], ['hector', 'took', 'the helmet'], ['war', 'is', 'man'], ['hector', 'threw', 'a spear'], ['hard handtohand fight', 'smote', 'iphinous son'], ['minerva', 'saw', 'these men'], ['better thus—', 'stay', 'the combat'], ['priam', 'divined', 'the counsel'], ['west wind', 'furs', 'the face'], ['this same armour', 'challenged', 'the foremost men'], ['i', 'was', 'the youngest man'], ['gerene', 'shook', 'the helmet'], ['i', 'were', 'some puny boy'], ['this i', 'deem', 'the main thing'], ['brawny hand', 'seized', 'a stone'], ['a rock', 'broke', 'hector'], ['this day', 'cease', 'fighting'], ['some slices', 'cut', 'lengthways'], ['the trojans', 'held', 'a council'], ['the achaeans', 'shouted', 'applause'], ['neptune', 'helps', 'the achaeans—the feats'], ['fleet', 'brazenfooted', 'steeds'], ['gladness', 'opened', 'a path'], ['the trojans', 'followed', 'hector son'], ['moreover i', 'feel', 'the lust'], ['the earthencircler', 'roused', 'the achaeans'], ['atreus', 'is', 'the cause'], ['i', 'blame', 'no man'], ['meriones', 'took', 'aim'], ['hector', 'took', 'aim'], ['armour rang', 'rattling', 'round'], ['a moment ajax', 'threw', 'a spear'], ['impetuous ajaxes', 'did', 'the like'], ['lions', 'snatch', 'a goat'], ['oileus', 'severed', 'the head'], ['the earthquake', 'made', 'answer'], ['cowards', 'gain', 'courage'], ['i', 'want', 'no fetching'], ['i', 'have', 'spears'], ['saturn', 'fling', 'a firebrand'], ['dazzling', 'was', 'the sheen'], ['jove', 'was', 'elder born'], ['idomeneus', 'aimed', 'a spear'], ['limbs', 'failed', 'beneath'], ['dread mars', 'put', 'an end'], ['jovebegotten man', 'am', 'i'], ['turn', 'begot', 'a son'], ['eyes', 'flash', 'fire'], ['comrades', 'looking', 'towards'], ['sheep', 'follow', 'the ram'], ['aeneas', 'took', 'aim'], ['deiphobus', 'aimed', 'a spear'], ['deiphobus', 'tore', 'the helmet'], ['the achaean side', 'took', 'charge'], ['priam', 'hit', 'the breastplate'], ['turn', 'wounded', 'the hand'], ['the shield', 'stayed', 'the spear'], ['pisander', 'struck', 'the peak'], ['trojans', 'leave', 'the ships'], ['meriones', 'aimed', 'a bronzetipped arrow'], ['a certain man', 'named', 'euchenor'], ['dracius', 'commanded', 'the epeans'], ['a moment', 'left', 'the side'], ['comrades', 'followed', 'the son'], ['heavy armour', 'bore', 'the brunt'], ['men', 'reap', 'fruit'], ['words', 'pleased', 'hector well'], ['mighty', 'are', 'the great waves'], ['achaeans', 'are', 'excellent soldiers'], ['part', 'raised', 'a shout likewise'], ['ulysses', 'leaves', 'scheria'], ['house', 'i', 'doubt'], ['all day', 'ploughing', 'a fallow field'], ['own seat', 'made', 'a drinkoffering'], ['the crew', 'took', 'these things'], ['the crew', 'took', 'every man'], ['the horses', 'feel', 'the whip'], ['i', 'said', 'i'], ['day', 'wreck', 'a phaeacian ship'], ['twelve', 'picked', 'bulls'], ['the treasure i', 'made', 'the phaeacians'], ['i', 'reached', 'the city'], ['the goddess', 'dispersed', 'the mist'], ['minerva', 'set', 'a stone'], ['a little girl', 'carrying', 'a pitcher'], ['i', 'am', 'an unfortunate foreigner'], ['periboea', 'was', 'the youngest daughter'], ['any women', 'are', 'friends'], ['minerva', 'left', 'scheria'], ['shuttles', 'go', 'backwards'], ['the phaeacians', 'are', 'the best sailors'], ['people', 'draw', 'water'], ['servants', 'mix', 'some wine'], ['i', 'have', 'nothing'], ['the eighteenth i', 'caught', 'sight'], ['i', 'was', 'i slept'], ['ships', 'excel', 'all others'], ['boasting', 'is', 'an ill thing'], ['armour rang', 'rattling', 'round'], ['white blossoms', 'till', 'the blasts'], ['shepherds', 'raise', 'a hue'], ['the cicons', 'incited', 'hector'], ['the trojans', 'take', 'the armour'], ['sake i', 'fight', 'hector'], ['no danaan', 'think', 'ill'], ['these words', 'stirred', 'the heart'], ['side', 'stood', 'menelaus son'], ['i', 'am', 'afraid'], ['i', 'killed', 'patroclus'], ['this hector', 'left', 'the fight'], ['hector', 'standing', 'aloof'], ['hector', 'fitted', 'the armour'], ['a roar', 'did', 'the trojans'], ['the trojans', 'drove', 'the achaeans'], ['armour rang', 'rattling', 'round'], ['turn', 'struck', 'noble phorcys son'], ['the argives', 'raised', 'a loud cry'], ['tug', 'till', 'the moisture'], ['the trojans', 'have', 'the triumph'], ['noble manes', 'drooped', 'all wet'], ['haemon', 'caught', 'sight'], ['i', 'see', 'the steeds'], ['dogs', 'tear', 'the noble comrade'], ['a man', 'named', 'podes'], ['bright', 'tasselled', 'aegis'], ['close combat', 'struck', 'leitus son'], ['the trojans', 'cheered', 'aloud'], ['this idomeneus', 'lashed', 'the horses'], ['regards', 'rescuing', 'the body'], ['chariots', 'are', 'alike hidden'], ['meriones', 'took', 'the dead man'], ['the trojan host', 'raised', 'a hue'], ['no man', 'dared', 'press'], ['heroes', 'strain', 'every nerve'], ['ajaxes', 'face', 'the trojans'], ['the achaean youth', 'raise', 'a babel'], ['the south wind', 'spreads', 'a curtain'], ['eyes', 'caught', 'sight'], ['the trojans', 'are', 'a weakkneed people'], ['the better man', 'take', 'the woman'], ['the better man', 'take', 'the woman'], ['agamemnon', 'told', 'talthybius'], ['phrygia i', 'saw', 'much horsemen'], ['followers', 'yoke', 'the horses'], ['atreus', 'drew', 'the dagger'], ['wives', 'become', 'the slaves'], ['ulysses', 'measured', 'the ground'], ['i', 'made', 'sure'], ['the trojan women', 'crowding', 'round'], ['i', 'have', 'trouble'], ['the laughterloving goddess', 'took', 'a seat'], ['minerva', 'led', 'the way'], ['the carvers', 'gave', 'every man'], ['i', 'seek', 'news'], ['atreus', 'called', 'a meeting'], ['the field', 'got', 'safe home'], ['the achaeans', 'applaud', 'orestes'], ['the gods', 'have', 'no such happiness'], ['mother', 'has', 'many suitors'], ['heaven', 'has', 'a long arm'], ['jove', 'counselled', 'evil'], ['a place', 'called', 'gortyn'], ['menelaus', 'gathered', 'much gold'], ['men servants', 'poured', 'water'], ['i', 'am', 'the only older person'], ['i', 'have', 'a large sum'], ['the housekeeper', 'took', 'the lid'], ['the others', 'went', 'home'], ['morning', 'rosyfingered', 'dawn'], ['rooms', 'gathered', 'round'], ['the goldsmith', 'brought', 'the anvil'], ['the smith', 'gilded', 'the horns'], ['necks', 'till', 'the sun'], ['pisistratus', 'lashed', 'the horses'], ['i', 'have', 'trouble enough'], ['the city', 'is', 'some way'], ['i', 'made', 'sure i'], ['the suitors', 'gathered', 'round'], ['i', 'were', 'a son'], ['the greeks', 'cheered', 'him—'], ['i', 'saw', 'an omen'], ['the swineherd', 'led', 'the way'], ['i', 'am', 'that ulysses'], ['an upper woman servant', 'set', 'bread'], ['the outer court', 'has', 'a wall'], ['the stable doors', 'till', 'the men'], ['ulysses', 'saw', 'the dog'], ['the women', 'take', 'no care'], ['the suitors', 'applauded', 'the bard'], ['i', 'know', 'nothing'], ['i', 'had', 'any number'], ['ulysses', 'stood', 'firm'], ['well', 'filled', 'wallet'], ['the man', 'is', 'no fool'], ['i', 'made', 'sure i'], ['eumaeus', 'strewed', 'some green brushwood'], ['i', 'were', 'son'], ['me— i', 'being', 'singlehanded— i'], ['laertes', 'was', 'the only son'], ['i', 'am', 'sorry'], ['i', 'am', 'no god'], ['the next i', 'am', 'a young man'], ['i', 'was', 'fast asleep'], ['the bearingposts', 'supporting', 'the roof'], ['a time', 'has', 'ulysses'], ['husband till', 'minerva', 'shed sleep'], ['i', 'met', 'a man'], ['the people', 'gathered', 'thereon'], ['the oldest councillors', 'made', 'way'], ['i', 'had', 'power'], ['brave father ulysses', 'did', 'some wrong'], ['the suitors', 'flaying', 'goats'], ['i', 'have', 'neither ship'], ['the men', 'loosed', 'the hawsers'], ['jove', 'sends', 'a lying dream'], ['woe', 'betides', 'the trojans'], ['woe', 'betides', 'the trojans'], ['the people', 'gathered', 'thereon'], ['figure', 'resembled', 'none'], ['i', 'am', 'a messenger'], ['woe', 'betides', 'the trojans'], ['the mighty', 'multitude', 'pour'], ['feet', 'rose', 'heavenward'], ['the argives', 'fly', 'home'], ['ulysses', 'knew', 'the voice'], ['the golden sceptre', 'raised', 'a bloody weal'], ['a herald', 'bade', 'the people'], ['jove', 'sent', 'a fearful serpent'], ['the serpent', 'ate', 'the poor cheeping things'], ['the argives', 'raised', 'a shout'], ['none', 'make', 'haste'], ['any man', 'shirking', 'the fight'], ['the achaeans', 'roared', 'applause'], ['the heralds', 'summon', 'the people'], ['the people', 'gathered', 'thereon'], ['clonius', 'were', 'captains'], ['mighty', 'iphitus', 'the son'], ['chieftains', 'came', 'forty ships'], ['midst', 'was', 'the king'], ['the muses', 'met', 'thamyris'], ['ancaeus', 'was', 'commander'], ['others', 'were', 'diores'], ['ulysses', 'led', 'the brave cephallenians'], ['the famous spearsman idomeneus', 'led', 'the cretans'], ['polypoetes', 'was', 'leader'], ['the titaresius', 'is', 'a branch'], ['tenthredon', 'was', 'commander'], ['the earth', 'groan', 'beneath'], ['pyraechmes', 'led', 'the paeonian archers'], ['epistrophus', 'were', 'captains'], ['noble ascanius', 'led', 'the phrygians'], ['nastes', 'led', 'the carians'], ['glaucus', 'led', 'the lycians'], ['achilles—he', 'drives', 'the trojans'], ['brave', 'diomed', 'son'], ['i', 'know', 'no prophesyings'], ['i', 'were', 'some common vagrant'], ['bygones', 'be', 'bygones'], ['the bronze point', 'flew', 'some way'], ['the trojans', 'flung', 'fire'], ['fifty ships', 'had', 'noble achilles'], ['actor', 'took', 'the mother'], ['the old knight phoenix', 'was', 'captain'], ['squire', 'is', 'man'], ['courage', 'did', 'the myrmidons'], ['the trojans', 'saw', 'the brave son'], ['meriones', 'gave', 'chase'], ['idomeneus', 'speared', 'erymas'], ['such panic stricken rout', 'did', 'the trojans'], ['horses', 'snapped', 'the pole'], ['patroclus', 'gave', 'chase'], ['another patroclus', 'struck', 'thrasydemus'], ['i', 'have', 'a grievous wound'], ['mighty', 'was', 'the din'], ['the trojans', 'made', 'some headway'], ['men', 'gave', 'ground'], ['glaucus', 'turned', 'round'], ['buzz', 'round', 'the full milkpails'], ['the brave lycians', 'stand', 'firm'], ['thrice', 'did', 'patroclus charge'], ['drive', 'straight', 'towards patroclus'], ['hector', 'let', 'the other danaans'], ['the stone', 'struck', 'cebriones'], ['eyes', 'turned', 'dizzy'], ['priam', 'take', 'the life'], ['i', 'am', 'foremost'], ['the third', 'was', 'the knight oeneus'], ['i', 'were', 'a coward'], ['agamemnon', 'leading', 'the way'], ['the scent', 'pervaded', 'the universe'], ['jove', 'imprisoned', 'great saturn'], ['thereon', 'laughterloving', 'venus'], ['mighty son hercules', 'set', 'sail'], ['dear parents', 'knowing', 'anything'], ['bright', 'piercing', 'beams'], ['priam', 'have', 'the triumph'], ['the other side', 'set', 'the trojans'], ['hector', 'waged', 'fierce war'], ['mighty', 'was', 'the uproar'], ['the argives', 'saw', 'hector'], ['nostrils', 'reached', 'the ground'], ['taunts', 'infuriated', 'the argives'], ['noble ilioneus', 'make', 'moan'], ['every man', 'looked', 'round'], ['meriones', 'slew', 'morys'], ['the hounds', 'saw', 'ulysses'], ['the swineherd', 'led', 'the way'], ['the shaggy chamois', 'skin—', 'a great thick one—'], ['a liberal master', 'allows', 'a servant'], ['the swineherd', 'took', 'the bowl'], ['father', 'was', 'a well'], ['house', 'grew', 'apace'], ['jove', 'devised', 'evil'], ['men', 'made', 'feast'], ['the sea', 'grew', 'dark beneath'], ['the ship', 'went', 'round'], ['the water', 'round', 'the ship'], ['days', 'did', 'i drift'], ['the king', 'said', 'ulysses'], ['these men', 'hatched', 'a plot'], ['master', 'comes', 'home'], ['others', 'reap', 'the fruit'], ['some slices', 'cut', 'lengthways'], ['ulysses', 'were', 'the leaders'], ['the night', 'was', 'twothirds'], ['i', 'have', 'no cloak'], ['whereon i', 'took', 'the cloak'], ['men', 'lay', 'blame'], ['i', 'sent', 'mercury'], ['forthwith men servants', 'poured', 'water'], ['i', 'am', 'mentes'], ['fathers', 'were', 'friends'], ['i', 'am', 'no prophet'], ['ulysses', 'is', 'the man'], ['hearers', 'sat', 'rapt'], ['speech', 'is', 'man'], ['i', 'hope', 'nothing valuable'], ['megapenthes', 'brought', 'the beautiful'], ['pisistratus', 'put', 'the presents'], ['pisistratus', 'yoked', 'the horses'], ['hearts', 'took', 'comfort'], ['fathers', 'were', 'old friends'], ['horses', 'towards', 'the ship'], ['antiphates', 'became', 'father'], ['the vessel', 'made', 'a quick passage'], ['servants', 'are', 'all young men'], ['telemachus', 'comes', 'home'], ['an island', 'called', 'syra'], ['the phoenicians', 'are', 'great mariners'], ['these scoundrels', 'got', 'hold'], ['the phoenicians', 'stayed', 'a whole year till'], ['house', 'bringing', 'a necklace'], ['waves', 'took', 'the ship'], ['crew', 'were', 'nearing land'], ['the marriage', 'takes', 'place'], ['the trojans', 'made', 'a halt'], ['comrades', 'gathered', 'round'], ['men', 'had', 'pity'], ['i', 'want', 'them— iris'], ['the danaans', 'till', 'i'], ['apollo', 'made', 'all haste'], ['hades', 'took', 'the darkness'], ['i', 'were', 'nobody'], ['the achaeans', 'have', 'the great triumph'], ['either side', 'took', 'effect'], ['hector', 'killed', 'stichius'], ['aeneas', 'killed', 'medon'], ['polydamas', 'killed', 'mecisteus'], ['redoubtable aegis', 'led', 'the way'], ['the achaeans', 'stood', 'firm'], ['line', 'gives', 'a true edge'], ['hector', 'made', 'straight'], ['horses', 'shook', 'the empty car'], ['swarm', 'round', 'the ships'], ['polydamas', 'killed', 'otus'], ['the valiant soldier', 'dolops', 'son'], ['armour rang', 'rattling', 'round'], ['a savage lion', 'attacking', 'a herd'], ['minerva', 'lifted', 'the thick veil'], ['hands', 'twelve', 'cubits'], ['hector', 'seized', 'the stern'], ['all day', 'long', 'the pyres'], ['assembly—', 'moved', 'thereto'], ['eyes', 'flashed', 'fire'], ['i', 'have', 'no quarrel'], ['the achaeans', 'sack', 'any rich city'], ['i', 'have', 'others'], ['men', 'fall', 'dying'], ['battle', 'is', 'a tower'], ['agamemnon', 'drew', 'a vessel'], ['atreus', 'bade', 'the people'], ['achilles', 'drew', 'a deep sigh'], ['the god', 'sent', 'a deadly dart'], ['the immortals', 'saved', 'the son'], ['gods', 'call', 'briareus'], ['jove', 'went', 'yesterday'], ['meanwhile ulysses', 'reached', 'chryse'], ['pages', 'filled', 'the mixingbowl'], ['all day', 'long', 'the young men'], ['jove', 'led', 'the way'], ['the goddess', 'quitted', 'the splendour'], ['i', 'have', 'a strong misgiving']]\n"
     ]
    }
   ],
   "source": [
    "# merely dump the result to the screen\n",
    "print( svo )"
   ]
  },
  {
   "cell_type": "markdown",
   "id": "bbfe3a8c",
   "metadata": {},
   "source": [
    "Alternatively, we can stuff the subject-verb-object values into a Pandas dataframe. The printed result is more readable."
   ]
  },
  {
   "cell_type": "code",
   "execution_count": 6,
   "id": "64eb57f6",
   "metadata": {},
   "outputs": [
    {
     "name": "stdout",
     "output_type": "stream",
     "text": [
      "          subject     verb              object\n",
      "0               i     fear       the brave son\n",
      "1        achilles     gave          a loud cry\n",
      "2       the waves   opened              a path\n",
      "3     close order    round           the tents\n",
      "4           fight     have             no peer\n",
      "...           ...      ...                 ...\n",
      "1088        pages   filled      the mixingbowl\n",
      "1089      all day     long       the young men\n",
      "1090         jove      led             the way\n",
      "1091  the goddess  quitted       the splendour\n",
      "1092            i     have  a strong misgiving\n",
      "\n",
      "[1093 rows x 3 columns]\n"
     ]
    }
   ],
   "source": [
    "# create a dataframe from the result, and ouput the result\n",
    "dataframe = pd.DataFrame( svo, columns=COLUMNS )\n",
    "print( dataframe )"
   ]
  },
  {
   "cell_type": "markdown",
   "id": "1fd36f88",
   "metadata": {},
   "source": [
    "Finally, we can exploit the dataframe for the purposes of filtering, grouping, sorting, etc..."
   ]
  },
  {
   "cell_type": "code",
   "execution_count": 7,
   "id": "9eb2312e",
   "metadata": {},
   "outputs": [
    {
     "name": "stdout",
     "output_type": "stream",
     "text": [
      "      subject      verb                   object\n",
      "48    ulysses      gave              a great cry\n",
      "91    ulysses    sought               protection\n",
      "94    ulysses    remove       the armour—ulysses\n",
      "108   ulysses      wore                 a mantle\n",
      "168   ulysses      told               philoetius\n",
      "171   ulysses    killed             demoptolemus\n",
      "284   ulysses      made                   a sign\n",
      "332   ulysses   leading                  the way\n",
      "337   ulysses      made                no answer\n",
      "453   ulysses      took                 the seat\n",
      "518   ulysses    killed                   molion\n",
      "519   ulysses    killed               hippodamus\n",
      "761   ulysses    leaves                  scheria\n",
      "837   ulysses  measured               the ground\n",
      "877   ulysses       saw                  the dog\n",
      "882   ulysses     stood                     firm\n",
      "915   ulysses      knew                the voice\n",
      "933   ulysses       led  the brave cephallenians\n",
      "1014  ulysses      were              the leaders\n",
      "1024  ulysses        is                  the man\n"
     ]
    }
   ],
   "source": [
    "# denote/update a values for column (subject, verb, or object) and filter, and then ouput only the matching lines\n",
    "column = 'subject'\n",
    "filter = 'ulysses'\n",
    "print( dataframe[ dataframe[ column ] == filter ] )\n"
   ]
  },
  {
   "cell_type": "code",
   "execution_count": null,
   "id": "fa150f60",
   "metadata": {},
   "outputs": [],
   "source": []
  }
 ],
 "metadata": {
  "kernelspec": {
   "display_name": "Python 3 (ipykernel)",
   "language": "python",
   "name": "python3"
  },
  "language_info": {
   "codemirror_mode": {
    "name": "ipython",
    "version": 3
   },
   "file_extension": ".py",
   "mimetype": "text/x-python",
   "name": "python",
   "nbconvert_exporter": "python",
   "pygments_lexer": "ipython3",
   "version": "3.9.12"
  }
 },
 "nbformat": 4,
 "nbformat_minor": 5
}
