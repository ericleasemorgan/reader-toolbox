{
 "cells": [
  {
   "cell_type": "markdown",
   "id": "2d914743",
   "metadata": {},
   "source": [
    "# Grammar Experiments - #3 of E"
   ]
  },
  {
   "cell_type": "markdown",
   "id": "8f7c44f4",
   "metadata": {},
   "source": [
    "Given a previously created file of sentences, this notebook outlines how to output sentences whose noun phrase contains a given word and whose predicate is a modal."
   ]
  },
  {
   "cell_type": "markdown",
   "id": "c98cfe7c",
   "metadata": {},
   "source": [
    "Some sentences are describes as \"modal sentences\" because their predicates include modal verbs like \"should\", \"ought\", \"can\", etc. Such sentences posit assertions or some sort of truth. This notebook outlines how to extraxt such truths."
   ]
  },
  {
   "cell_type": "code",
   "execution_count": null,
   "id": "a7029f5e",
   "metadata": {},
   "outputs": [],
   "source": [
    "# configure\n",
    "CARREL  = 'homer'\n",
    "LEXICON = [ 'god', 'gods', 'ulysses' ]\n"
   ]
  },
  {
   "cell_type": "code",
   "execution_count": null,
   "id": "63b6f853",
   "metadata": {},
   "outputs": [],
   "source": [
    "# post-configure\n",
    "COLUMNS = [ 'sentences' ]\n",
    "MODAL   = '''\n",
    "  NOUNPRASE: {<DT>?<JJ.*>*<NN.?>+}\n",
    "  PREDICATE: {<MD><VB.*>}\n",
    "    GRAMMAR: {<NOUNPRASE><PREDICATE><NOUNPRASE>}\n",
    "'''\n"
   ]
  },
  {
   "cell_type": "code",
   "execution_count": null,
   "id": "6e04e2a1",
   "metadata": {},
   "outputs": [],
   "source": [
    "# require\n",
    "import rdr\n",
    "import sys\n",
    "import nltk\n",
    "from multiprocessing import Pool\n",
    "import pandas as pd\n"
   ]
  },
  {
   "cell_type": "code",
   "execution_count": null,
   "id": "c2ca1255",
   "metadata": {},
   "outputs": [],
   "source": [
    "# do the work\n",
    "if __name__ == '__main__' : \n",
    "\n",
    "    # initialize\n",
    "    parser       = nltk.RegexpParser( MODAL )\n",
    "    localLibrary = rdr.configuration( 'localLibrary' )\n",
    "    sentences    = localLibrary/CARREL/( rdr.ETC )/( rdr.SENTENCES )\n",
    "    lexicon = set( LEXICON )\n",
    "\n",
    "    # iterate\n",
    "    \n",
    "    # get and parallel process each sentence\n",
    "    sentences = rdr.Sentences( sentences )\t\n",
    "    pool    = Pool()\n",
    "    results = pool.starmap( rdr.matchModal, [ [ sentence, parser, lexicon ] for sentence in sentences ] )\n",
    "    pool.close()\n",
    "\n",
    "    # process each result\n",
    "    modals = []\n",
    "    for result in results :\n",
    "\n",
    "        # output, conditionally\n",
    "        if result : modals.append( result )\n",
    "\n"
   ]
  },
  {
   "cell_type": "code",
   "execution_count": null,
   "id": "44f56812",
   "metadata": {},
   "outputs": [],
   "source": [
    "# merely dump the result to the screen\n",
    "print( modals )"
   ]
  },
  {
   "cell_type": "code",
   "execution_count": null,
   "id": "a590b275",
   "metadata": {},
   "outputs": [],
   "source": [
    "dataframe = pd.DataFrame( modals, columns=COLUMNS )\n",
    "print( dataframe )"
   ]
  }
 ],
 "metadata": {
  "kernelspec": {
   "display_name": "Python 3 (ipykernel)",
   "language": "python",
   "name": "python3"
  },
  "language_info": {
   "codemirror_mode": {
    "name": "ipython",
    "version": 3
   },
   "file_extension": ".py",
   "mimetype": "text/x-python",
   "name": "python",
   "nbconvert_exporter": "python",
   "pygments_lexer": "ipython3",
   "version": "3.9.13"
  }
 },
 "nbformat": 4,
 "nbformat_minor": 5
}
