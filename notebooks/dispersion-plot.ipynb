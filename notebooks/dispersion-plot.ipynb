{
 "cells": [
  {
   "cell_type": "markdown",
   "id": "7a24b8c9",
   "metadata": {},
   "source": [
    "# Dispersion Plot"
   ]
  },
  {
   "cell_type": "markdown",
   "id": "df03a707",
   "metadata": {},
   "source": [
    "This notebook demonstrates how to illustrate the co-occourance of words in a corpus."
   ]
  },
  {
   "cell_type": "code",
   "execution_count": null,
   "id": "30a4744b",
   "metadata": {},
   "outputs": [],
   "source": [
    "# configure; what carrel do you want to query, and with what words\n",
    "CARREL  = 'homer'\n",
    "LEXICON = [ 'love', 'war', 'truth', 'justice', 'son', 'jove', 'honor', 'justice' ]"
   ]
  },
  {
   "cell_type": "code",
   "execution_count": null,
   "id": "fcd3df62",
   "metadata": {},
   "outputs": [],
   "source": [
    "# require\n",
    "import rdr"
   ]
  },
  {
   "cell_type": "code",
   "execution_count": null,
   "id": "3b7f152e",
   "metadata": {},
   "outputs": [],
   "source": [
    "# initialize; create and/or get an NLTK Text object (model) of the given carrel\n",
    "model = rdr.getNLTKText( CARREL )"
   ]
  },
  {
   "cell_type": "code",
   "execution_count": null,
   "id": "47089a87",
   "metadata": {},
   "outputs": [],
   "source": [
    "# do the work and done; identify and visualize the location of each word in the object\n",
    "model.dispersion_plot( LEXICON )"
   ]
  }
 ],
 "metadata": {
  "kernelspec": {
   "display_name": "Python 3 (ipykernel)",
   "language": "python",
   "name": "python3"
  },
  "language_info": {
   "codemirror_mode": {
    "name": "ipython",
    "version": 3
   },
   "file_extension": ".py",
   "mimetype": "text/x-python",
   "name": "python",
   "nbconvert_exporter": "python",
   "pygments_lexer": "ipython3",
   "version": "3.9.7"
  }
 },
 "nbformat": 4,
 "nbformat_minor": 5
}
