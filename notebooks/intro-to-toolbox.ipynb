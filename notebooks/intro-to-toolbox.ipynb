{
 "cells": [
  {
   "cell_type": "markdown",
   "id": "8fdcaabb",
   "metadata": {},
   "source": [
    "# Introduction to the Reader Toolbox module"
   ]
  },
  {
   "cell_type": "markdown",
   "id": "fedfb4cc",
   "metadata": {},
   "source": [
    "Given a Distant Reader data set (\"study carrel\"), the Reader Toolbox module is an interface to the dataset. This module is an introduction to such functionality"
   ]
  },
  {
   "cell_type": "code",
   "execution_count": null,
   "id": "11ffc67d",
   "metadata": {},
   "outputs": [],
   "source": [
    "# configure\n",
    "CARREL = 'homer'\n"
   ]
  },
  {
   "cell_type": "code",
   "execution_count": null,
   "id": "7905c1c3",
   "metadata": {},
   "outputs": [],
   "source": [
    "# require\n",
    "import rdr\n"
   ]
  },
  {
   "cell_type": "code",
   "execution_count": null,
   "id": "32fb2bed",
   "metadata": {},
   "outputs": [],
   "source": [
    "# initialize\n",
    "etc        = rdr.ETC\n",
    "corpus     = rdr.CORPUS\n",
    "provenance = rdr.PROVENANCE\n"
   ]
  },
  {
   "cell_type": "code",
   "execution_count": null,
   "id": "7bd67756",
   "metadata": {},
   "outputs": [],
   "source": [
    "# get and output the location of the local collection of study carrels\n",
    "localLibrary = rdr.configuration( 'localLibrary' )\n",
    "print( localLibrary )\n"
   ]
  },
  {
   "cell_type": "code",
   "execution_count": null,
   "id": "e9e43398",
   "metadata": {},
   "outputs": [],
   "source": [
    "# dump the given carrel's corpus; may be VERY large\n",
    "file = localLibrary/CARREL/etc/corpus\n",
    "with open( file ) as handle : corpus = handle.read()\n",
    "print( corpus )\n"
   ]
  },
  {
   "cell_type": "code",
   "execution_count": null,
   "id": "d55791b9",
   "metadata": {},
   "outputs": [],
   "source": [
    "# read, parse, and output the given carrel's provenance file; whence did this carrel come\n",
    "file = localLibrary/CARREL/provenance\n",
    "with open( file ) as handle : provenance = handle.read().split( '\\t' )\n",
    "print( \"                        process (How was this file created?): %s\" % provenance[ 0 ] )\n",
    "print( \"  original identifier (What was this carrel's initial name?): %s\" % provenance[ 1 ] )\n",
    "print( \"         date created (On what day was this carrel created?): %s\" % provenance[ 2 ] )\n",
    "print( \"          time created (At what time as this carrel created): %s\" % provenance[ 3 ] )\n",
    "print( \"                          creator (Who created this carrel?): %s\" % provenance[ 4 ] )\n",
    "print( \"                     input (Where was the original content?): %s\" % provenance[ 5 ][ :-1 ] )\n"
   ]
  },
  {
   "cell_type": "code",
   "execution_count": null,
   "id": "a2423cea",
   "metadata": {},
   "outputs": [],
   "source": [
    "# exents\n",
    "print( str( rdr.extents( CARREL, 'items') ) )"
   ]
  },
  {
   "cell_type": "code",
   "execution_count": null,
   "id": "db6db525",
   "metadata": {},
   "outputs": [],
   "source": []
  }
 ],
 "metadata": {
  "kernelspec": {
   "display_name": "Python 3 (ipykernel)",
   "language": "python",
   "name": "python3"
  },
  "language_info": {
   "codemirror_mode": {
    "name": "ipython",
    "version": 3
   },
   "file_extension": ".py",
   "mimetype": "text/x-python",
   "name": "python",
   "nbconvert_exporter": "python",
   "pygments_lexer": "ipython3",
   "version": "3.9.7"
  }
 },
 "nbformat": 4,
 "nbformat_minor": 5
}
