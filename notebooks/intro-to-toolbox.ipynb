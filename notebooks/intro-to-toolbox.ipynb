{
 "cells": [
  {
   "cell_type": "markdown",
   "id": "8fdcaabb",
   "metadata": {},
   "source": [
    "# Introduction to the Reader Toolbox module"
   ]
  },
  {
   "cell_type": "markdown",
   "id": "fedfb4cc",
   "metadata": {},
   "source": [
    "Given a Distant Reader data set (\"study carrel\"), the Reader Toolbox module is an interface to the dataset. This module is an introduction to such functionality"
   ]
  },
  {
   "cell_type": "code",
   "execution_count": null,
   "id": "11ffc67d",
   "metadata": {},
   "outputs": [],
   "source": [
    "# configure\n",
    "CARREL = 'homer'"
   ]
  },
  {
   "cell_type": "code",
   "execution_count": null,
   "id": "7905c1c3",
   "metadata": {},
   "outputs": [],
   "source": [
    "# require\n",
    "import rdr"
   ]
  },
  {
   "cell_type": "code",
   "execution_count": null,
   "id": "db6db525",
   "metadata": {},
   "outputs": [],
   "source": [
    "# output a count and tabulation of the given carrel's computed keywords\n",
    "print( rdr.ngramss( CARREL, count=True ) )"
   ]
  }
 ],
 "metadata": {
  "kernelspec": {
   "display_name": "Python 3 (ipykernel)",
   "language": "python",
   "name": "python3"
  },
  "language_info": {
   "codemirror_mode": {
    "name": "ipython",
    "version": 3
   },
   "file_extension": ".py",
   "mimetype": "text/x-python",
   "name": "python",
   "nbconvert_exporter": "python",
   "pygments_lexer": "ipython3",
   "version": "3.9.7"
  }
 },
 "nbformat": 4,
 "nbformat_minor": 5
}
