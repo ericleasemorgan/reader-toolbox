{
 "cells": [
  {
   "cell_type": "markdown",
   "id": "8fdcaabb",
   "metadata": {},
   "source": [
    "# Introduction to the Reader Toolbox module"
   ]
  },
  {
   "cell_type": "markdown",
   "id": "fedfb4cc",
   "metadata": {},
   "source": [
    "Given a Distant Reader data set (\"study carrel\"), the Reader Toolbox module is an interface to the dataset. This module is an introduction to such functionality"
   ]
  },
  {
   "cell_type": "code",
   "execution_count": null,
   "id": "11ffc67d",
   "metadata": {},
   "outputs": [],
   "source": [
    "# configure; what carrel do you want to read and what do you find interesting?\n",
    "CARREL = 'homer'\n",
    "QUERY  = 'love'\n"
   ]
  },
  {
   "cell_type": "code",
   "execution_count": null,
   "id": "7905c1c3",
   "metadata": {},
   "outputs": [],
   "source": [
    "# require; import the Reader Toolbox's functionality\n",
    "import rdr\n"
   ]
  },
  {
   "cell_type": "code",
   "execution_count": null,
   "id": "db6db525",
   "metadata": {},
   "outputs": [],
   "source": [
    "# get and output rudimentary provenance information; from whence did this carrel come?\n",
    "creator     = rdr.provenance( CARREL, 'creator' )\n",
    "dateCreated = rdr.provenance( CARREL, 'dateCreated' )\n",
    "print( \"       Creator: %s\" % creator )\n",
    "print( \"  Date created: %s\" % dateCreated )\n"
   ]
  },
  {
   "cell_type": "code",
   "execution_count": null,
   "id": "99a6d37f",
   "metadata": {},
   "outputs": [],
   "source": [
    "# get and output rudimentary extent information; how big is the carrel?\n",
    "items  = rdr.extents( CARREL, 'items' )\n",
    "words  = rdr.extents( CARREL, 'words' )\n",
    "flesch = rdr.extents( CARREL, 'flesch' )\n",
    "print( \"      Total number of items: %s\" % str( items ) )\n",
    "print( \"      Total number of words: %s\" % str( words ) )\n",
    "print( \"  Average readability score: %s\" % str( flesch ) )\n"
   ]
  },
  {
   "cell_type": "code",
   "execution_count": null,
   "id": "68713096",
   "metadata": {},
   "outputs": [],
   "source": [
    "# bibliography; what items are in this carrel?\n",
    "bibliography = rdr.bibliography( CARREL )\n",
    "print( bibliography )\n"
   ]
  },
  {
   "cell_type": "code",
   "execution_count": null,
   "id": "243ecb9a",
   "metadata": {},
   "outputs": [],
   "source": [
    "# cluster; use feature reduction (PCA) to determine how holistic the carrel may be\n",
    "rdr.clusters( CARREL )\n"
   ]
  },
  {
   "cell_type": "code",
   "execution_count": null,
   "id": "abefda5a",
   "metadata": {},
   "outputs": [],
   "source": [
    "# ngrams; sans stop words, count & tabulate unigrams\n",
    "unigrams = rdr.ngramss( CARREL, count=True )\n",
    "print( unigrams )\n"
   ]
  },
  {
   "cell_type": "code",
   "execution_count": null,
   "id": "94740bde",
   "metadata": {},
   "outputs": [],
   "source": [
    "# visualize ngrams; output a word cloud of unigram counts & tabulations\n",
    "rdr.ngramss( CARREL, count=True, wordcloud=True )\n"
   ]
  },
  {
   "cell_type": "code",
   "execution_count": null,
   "id": "72b57df2",
   "metadata": {},
   "outputs": [],
   "source": [
    "# concordance; perform a rudimentary key-word-in-context search against carrel\n",
    "print( rdr.concordancing( CARREL, query=QUERY ) )\n"
   ]
  },
  {
   "cell_type": "code",
   "execution_count": null,
   "id": "6ba1e524",
   "metadata": {},
   "outputs": [],
   "source": [
    "# semantic indexing; an additional way to knowing a word by the company it keeps\n",
    "print( rdr.word2vec( CARREL, query=QUERY ) )\n"
   ]
  },
  {
   "cell_type": "code",
   "execution_count": null,
   "id": "cc9e580c",
   "metadata": {},
   "outputs": [],
   "source": [
    "# full text indexing; \"Librarians like to search. Everybody else likes to find.\"\n",
    "print( rdr.searching( CARREL, query=QUERY ) ) \n"
   ]
  }
 ],
 "metadata": {
  "kernelspec": {
   "display_name": "Python 3 (ipykernel)",
   "language": "python",
   "name": "python3"
  },
  "language_info": {
   "codemirror_mode": {
    "name": "ipython",
    "version": 3
   },
   "file_extension": ".py",
   "mimetype": "text/x-python",
   "name": "python",
   "nbconvert_exporter": "python",
   "pygments_lexer": "ipython3",
   "version": "3.9.7"
  }
 },
 "nbformat": 4,
 "nbformat_minor": 5
}
