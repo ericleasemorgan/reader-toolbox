{
 "cells": [
  {
   "cell_type": "markdown",
   "metadata": {},
   "source": [
    "# Rudimentary analysis: Using the NLTK to do some simple \"reading\""
   ]
  },
  {
   "cell_type": "markdown",
   "metadata": {},
   "source": [
    "In this notebook, you will define a file for analysis, and the script will output interesting features & characteristics of the text. --Eric Lease Morgan"
   ]
  },
  {
   "cell_type": "code",
   "execution_count": 1,
   "metadata": {},
   "outputs": [],
   "source": [
    "# configure; define some constants\n",
    "CARREL   = 'CodeOfConduct4Lib-2021-03-10'\n",
    "TEMPLATE = './carrels/%s/etc/reader.txt'\n",
    "LANGUAGE = 'english'\n",
    "KEYWORD  = 'community'\n",
    "KEYWORDS = [ 'community', 'support', 'squad']\n"
   ]
  },
  {
   "cell_type": "code",
   "execution_count": 2,
   "metadata": {},
   "outputs": [],
   "source": [
    "# require\n",
    "from nltk import *\n"
   ]
  },
  {
   "cell_type": "code",
   "execution_count": 3,
   "metadata": {},
   "outputs": [],
   "source": [
    "# read the given file, tokenize it, normalize it, and create an NLTK \"Text object\" from the result\n",
    "file   = TEMPLATE % CARREL\n",
    "data   = open( file ).read()\n",
    "tokens = word_tokenize( data )\n",
    "tokens = [ token.lower() for token in tokens ] \n",
    "text   = Text( tokens )\n"
   ]
  },
  {
   "cell_type": "code",
   "execution_count": 4,
   "metadata": {},
   "outputs": [
    {
     "name": "stdout",
     "output_type": "stream",
     "text": [
      "code lib; phone number; community support; support volunteers;\n",
      "publicly-accessible website; speaking directly; specified time; time\n",
      "period; corrective action; either indefinitely; comfortable speaking;\n",
      "feel comfortable; mailing list; support volunteer; support squad;\n",
      "harassing behavior; lib irc; lib event\n"
     ]
    }
   ],
   "source": [
    "text.collocations()"
   ]
  },
  {
   "cell_type": "code",
   "execution_count": 5,
   "metadata": {},
   "outputs": [
    {
     "data": {
      "text/plain": [
       "20"
      ]
     },
     "execution_count": 5,
     "metadata": {},
     "output_type": "execute_result"
    }
   ],
   "source": [
    "# count\n",
    "text.count( KEYWORD )"
   ]
  },
  {
   "cell_type": "code",
   "execution_count": 6,
   "metadata": {},
   "outputs": [
    {
     "name": "stdout",
     "output_type": "stream",
     "text": [
      "1.3995801259622114\n"
     ]
    }
   ],
   "source": [
    "# compute relative weight percentage of a word (count/total words); to what degree is this word \"significant\"?\n",
    "count      = text.count( KEYWORD )\n",
    "total      = len( tokens )\n",
    "percentage = 100 * count / total\n",
    "print( percentage )"
   ]
  },
  {
   "cell_type": "code",
   "execution_count": 7,
   "metadata": {},
   "outputs": [
    {
     "name": "stdout",
     "output_type": "stream",
     "text": [
      "keyword\tpercentage\n",
      "community\t1.3995801259622114\n",
      "support\t0.7697690692792163\n",
      "squad\t0.13995801259622112\n"
     ]
    }
   ],
   "source": [
    "# compare the relative weights (percentages) of many words; begin by (re-)initializing\n",
    "total       = len( tokens )\n",
    "percentages = {}\n",
    "\n",
    "# process each of the given keywords\n",
    "for keyword in KEYWORDS :\n",
    "    \n",
    "    # calculate\n",
    "    count      = text.count( keyword )\n",
    "    percentage = 100 * count / total\n",
    "    \n",
    "    # update the list of weights\n",
    "    percentages[ keyword ] = percentage\n",
    "\n",
    "# sort the weights by value; very Pythonic\n",
    "percentages = { key:value for key, value in sorted( percentages.items(), key=lambda item:item[ 1 ], reverse=True ) }\n",
    "\n",
    "# output\n",
    "print( \"\\t\".join( ( 'keyword', 'percentage') ) )\n",
    "for keyword in percentages :\n",
    "    percentage = str( percentages[ keyword ] )\n",
    "    print( \"\\t\".join( ( keyword, percentage ) ) )\n"
   ]
  },
  {
   "cell_type": "code",
   "execution_count": 8,
   "metadata": {},
   "outputs": [
    {
     "name": "stdout",
     "output_type": "stream",
     "text": [
      "Displaying 20 of 20 matches:\n",
      " and safe conference ( and ongoing community ) experience for everyone . we do \n",
      "t venue , including talks , or any community channel such as the chatroom or ma\n",
      "f you are at a conference or other community event , find the on-call community\n",
      "community event , find the on-call community support volunteer or the event org\n",
      "as the conference website , in the community support squad volunteers list , or\n",
      "ction . the primary way to reach a community support volunteer online is to ema\n",
      "to the csv list are visible to all community support volunteers and are kept pr\n",
      "at most times . helpers may not be community support volunteers but know how to\n",
      "vate message a known member of the community support squad ; their names and sl\n",
      "or , you will know if someone is a community support volunteer by clicking on t\n",
      "e morgan . in addition , there are community support volunteers whom you are we\n",
      "you are welcome to involve . wider community response to incident : if the inci\n",
      "ered and accepted , public note or community is informed of resolution ) , then\n",
      "ion ) , then there 's not much the community can do at this point since the inc\n",
      "results in corrective action , the community should support the decision made b\n",
      ", then the help should come to the community with these issues and the communit\n",
      "ommunity with these issues and the community should revise the coc as they see \n",
      " company name ] : [ phone number ] community support volunteers : including the\n",
      "conference-related social events , community gatherings , and online communicat\n",
      "e 's participation in the code lib community , and will all work to keep code l\n"
     ]
    }
   ],
   "source": [
    "# concordance\n",
    "text.concordance( KEYWORD )"
   ]
  },
  {
   "cell_type": "code",
   "execution_count": 9,
   "metadata": {},
   "outputs": [
    {
     "name": "stdout",
     "output_type": "stream",
     "text": [
      "community is informed\n",
      "\n",
      "\n",
      "\n",
      "\n",
      "\n"
     ]
    }
   ],
   "source": [
    "for keyword in sorted( KEYWORDS ) :\n",
    "    pattern = ( '<%s> <is> <.*>' % ( keyword ) )\n",
    "    text.findall( pattern )\n",
    "    print()"
   ]
  },
  {
   "cell_type": "code",
   "execution_count": 10,
   "metadata": {},
   "outputs": [
    {
     "data": {
      "image/png": "[encoded data removed]",
      "text/plain": [
       "<Figure size 432x288 with 1 Axes>"
      ]
     },
     "metadata": {
      "needs_background": "light"
     },
     "output_type": "display_data"
    }
   ],
   "source": [
    "# dispersion plot; where do the keyword appear\n",
    "text.dispersion_plot( KEYWORDS )\n"
   ]
  },
  {
   "cell_type": "code",
   "execution_count": 11,
   "metadata": {
    "scrolled": true
   },
   "outputs": [
    {
     "name": "stdout",
     "output_type": "stream",
     "text": [
      "community\n",
      "event help\n",
      "\n",
      "squad\n",
      "\n",
      "\n",
      "support\n",
      "revise\n",
      "\n"
     ]
    }
   ],
   "source": [
    "# similar words\n",
    "for keyword in sorted( KEYWORDS ) :\n",
    "    print( \"%s\" % ( keyword ) )\n",
    "    text.similar( keyword )\n",
    "    print()\n"
   ]
  }
 ],
 "metadata": {
  "kernelspec": {
   "display_name": "Python 3",
   "language": "python",
   "name": "python3"
  },
  "language_info": {
   "codemirror_mode": {
    "name": "ipython",
    "version": 3
   },
   "file_extension": ".py",
   "mimetype": "text/x-python",
   "name": "python",
   "nbconvert_exporter": "python",
   "pygments_lexer": "ipython3",
   "version": "3.8.5"
  }
 },
 "nbformat": 4,
 "nbformat_minor": 4
}
