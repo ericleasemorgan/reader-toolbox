{
 "cells": [
  {
   "cell_type": "markdown",
   "metadata": {},
   "source": [
    "# Rudimentary analysis: Using the NLTK to do some simple \"reading\""
   ]
  },
  {
   "cell_type": "markdown",
   "metadata": {},
   "source": [
    "In this notebook, you will define a file for analysis, and the script will output interesting features & characteristics of the text. --Eric Lease Morgan"
   ]
  },
  {
   "cell_type": "code",
   "execution_count": null,
   "metadata": {},
   "outputs": [],
   "source": [
    "# configure; define some constants\n",
    "CARREL   = 'CodeOfConduct4Lib-2021-03-10'\n",
    "TEMPLATE = './carrels/%s/etc/reader.txt'\n",
    "LANGUAGE = 'english'\n",
    "KEYWORD  = 'community'\n",
    "KEYWORDS = [ 'community', 'support', 'squad']\n"
   ]
  },
  {
   "cell_type": "code",
   "execution_count": null,
   "metadata": {},
   "outputs": [],
   "source": [
    "# require\n",
    "from nltk import *\n"
   ]
  },
  {
   "cell_type": "code",
   "execution_count": null,
   "metadata": {},
   "outputs": [],
   "source": [
    "# read the given file, tokenize it, normalize it, and create an NLTK \"Text object\" from the result\n",
    "file   = TEMPLATE % CARREL\n",
    "data   = open( file ).read()\n",
    "tokens = word_tokenize( data )\n",
    "tokens = [ token.lower() for token in tokens ] \n",
    "text   = Text( tokens )\n"
   ]
  },
  {
   "cell_type": "code",
   "execution_count": null,
   "metadata": {},
   "outputs": [],
   "source": [
    "text.collocations()"
   ]
  },
  {
   "cell_type": "code",
   "execution_count": null,
   "metadata": {},
   "outputs": [],
   "source": [
    "# count\n",
    "text.count( KEYWORD )"
   ]
  },
  {
   "cell_type": "code",
   "execution_count": null,
   "metadata": {},
   "outputs": [],
   "source": [
    "# compute relative weight percentage of a word (count/total words); to what degree is this word \"significant\"?\n",
    "count      = text.count( KEYWORD )\n",
    "total      = len( tokens )\n",
    "percentage = 100 * count / total\n",
    "print( percentage )"
   ]
  },
  {
   "cell_type": "code",
   "execution_count": null,
   "metadata": {},
   "outputs": [],
   "source": [
    "# compare the relative weights (percentages) of many words; begin by (re-)initializing\n",
    "total       = len( tokens )\n",
    "percentages = {}\n",
    "\n",
    "# process each of the given keywords\n",
    "for keyword in KEYWORDS :\n",
    "    \n",
    "    # calculate\n",
    "    count      = text.count( keyword )\n",
    "    percentage = 100 * count / total\n",
    "    \n",
    "    # update the list of weights\n",
    "    percentages[ keyword ] = percentage\n",
    "\n",
    "# sort the weights by value; very Pythonic\n",
    "percentages = { key:value for key, value in sorted( percentages.items(), key=lambda item:item[ 1 ], reverse=True ) }\n",
    "\n",
    "# output\n",
    "print( \"\\t\".join( ( 'keyword', 'percentage') ) )\n",
    "for keyword in percentages :\n",
    "    percentage = str( percentages[ keyword ] )\n",
    "    print( \"\\t\".join( ( keyword, percentage ) ) )\n"
   ]
  },
  {
   "cell_type": "code",
   "execution_count": null,
   "metadata": {},
   "outputs": [],
   "source": [
    "# concordance\n",
    "text.concordance( KEYWORD )"
   ]
  },
  {
   "cell_type": "code",
   "execution_count": null,
   "metadata": {},
   "outputs": [],
   "source": [
    "for keyword in sorted( KEYWORDS ) :\n",
    "    pattern = ( '<%s> <is> <.*>' % ( keyword ) )\n",
    "    text.findall( pattern )\n",
    "    print()"
   ]
  },
  {
   "cell_type": "code",
   "execution_count": null,
   "metadata": {},
   "outputs": [],
   "source": [
    "# dispersion plot; where do the keyword appear\n",
    "text.dispersion_plot( KEYWORDS )\n"
   ]
  },
  {
   "cell_type": "code",
   "execution_count": null,
   "metadata": {
    "scrolled": true
   },
   "outputs": [],
   "source": [
    "# similar words\n",
    "for keyword in sorted( KEYWORDS ) :\n",
    "    print( \"%s\" % ( keyword ) )\n",
    "    text.similar( keyword )\n",
    "    print()\n"
   ]
  }
 ],
 "metadata": {
  "kernelspec": {
   "display_name": "Python 3 (ipykernel)",
   "language": "python",
   "name": "python3"
  },
  "language_info": {
   "codemirror_mode": {
    "name": "ipython",
    "version": 3
   },
   "file_extension": ".py",
   "mimetype": "text/x-python",
   "name": "python",
   "nbconvert_exporter": "python",
   "pygments_lexer": "ipython3",
   "version": "3.9.7"
  }
 },
 "nbformat": 4,
 "nbformat_minor": 4
}
