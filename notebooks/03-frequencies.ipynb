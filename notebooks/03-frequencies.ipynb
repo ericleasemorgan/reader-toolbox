{
 "cells": [
  {
   "cell_type": "markdown",
   "metadata": {},
   "source": [
    "# Fun with frequencies: More counting & tabulating"
   ]
  },
  {
   "cell_type": "code",
   "execution_count": null,
   "metadata": {},
   "outputs": [],
   "source": [
    "# pre-configure\n",
    "LIBRARY  = '/Users/eric/Documents/reader-library'\n",
    "CARREL   = 'homer'\n",
    "KEYWORDS = [ 'love', 'war', 'man', 'son' ]\n"
   ]
  },
  {
   "cell_type": "code",
   "execution_count": null,
   "metadata": {},
   "outputs": [],
   "source": [
    "# configure\n",
    "ETC = 'etc'\n",
    "STOPWORDS = 'stopwords.txt'\n",
    "TEXT = 'reader.txt'\n"
   ]
  },
  {
   "cell_type": "code",
   "execution_count": null,
   "metadata": {},
   "outputs": [],
   "source": [
    "# require\n",
    "from nltk import *\n",
    "import matplotlib.pyplot as plt\n",
    "from wordcloud import WordCloud\n",
    "from pathlib import Path\n"
   ]
  },
  {
   "cell_type": "code",
   "execution_count": null,
   "metadata": {},
   "outputs": [],
   "source": [
    "# initilize\n",
    "library   = Path( LIBRARY )\n",
    "text      = library/CARREL/ETC/TEXT\n",
    "stopwords = library/CARREL/ETC/STOPWORDS\n"
   ]
  },
  {
   "cell_type": "code",
   "execution_count": null,
   "metadata": {},
   "outputs": [],
   "source": [
    "# read the given file, tokenize its words, and normalize them\n",
    "with open( text ) as handle : text = handle.read()\n",
    "with open( stopwords ) as handle : stopwords = handle.read().split( '\\n')\n",
    "\n",
    "tokens = word_tokenize( text )\n",
    "tokens = [ token.lower() for token in tokens if token.isalpha() ]\n",
    "tokens = [ token for token in tokens if token not in stopwords ] "
   ]
  },
  {
   "cell_type": "code",
   "execution_count": null,
   "metadata": {},
   "outputs": [],
   "source": [
    "# count & tabulate each token\n",
    "frequencies = FreqDist( tokens )"
   ]
  },
  {
   "cell_type": "code",
   "execution_count": null,
   "metadata": {},
   "outputs": [],
   "source": [
    "# output the most frequent N tokens\n",
    "N = 5\n",
    "frequencies.most_common( N )"
   ]
  },
  {
   "cell_type": "code",
   "execution_count": null,
   "metadata": {
    "scrolled": true
   },
   "outputs": [],
   "source": [
    "# output an alphabetical list of words appearing only once\n",
    "sorted( frequencies.hapaxes() )\n"
   ]
  },
  {
   "cell_type": "code",
   "execution_count": null,
   "metadata": {},
   "outputs": [],
   "source": [
    "# plot the frequency of N most frequent words\n",
    "N = 10\n",
    "frequencies.plot( N )\n"
   ]
  },
  {
   "cell_type": "code",
   "execution_count": null,
   "metadata": {
    "scrolled": true
   },
   "outputs": [],
   "source": [
    "# re-create the list of tokens to include only the keywords, count them, and plot them\n",
    "tokens = [ token for token in tokens if token in KEYWORDS ] \n",
    "frequencies = FreqDist( tokens )\n",
    "frequencies.plot()\n"
   ]
  },
  {
   "cell_type": "code",
   "execution_count": null,
   "metadata": {},
   "outputs": [],
   "source": [
    "# read the given file, tokenize its words, and normalize them\n",
    "tokens      = word_tokenize( text )\n",
    "tokens      = [ token.lower() for token in tokens if token.isalpha() ]\n",
    "tokens      = [ token for token in tokens if token not in stopwords ] \n",
    "frequencies = FreqDist( tokens ).values()\n"
   ]
  },
  {
   "cell_type": "code",
   "execution_count": null,
   "metadata": {},
   "outputs": [],
   "source": [
    "# calculate mean (average), variance, and standard deviation\n",
    "mean        = sum( frequencies ) / len( frequencies )\n",
    "variance    = sum( ( frequency-mean )**2 for frequency in frequencies ) / len(frequencies)\n",
    "deviation   = variance**0.5\n",
    "print( \"mean: %f; variance: %f; deviation: %f\" % ( mean, variance, deviation ) )\n"
   ]
  },
  {
   "cell_type": "code",
   "execution_count": null,
   "metadata": {
    "scrolled": true
   },
   "outputs": [],
   "source": [
    "# create a list of second-teir \"interesting\" words\n",
    "\n",
    "# initialize\n",
    "frequencies = FreqDist( tokens )\n",
    "n           = round( mean + deviation )\n",
    "interesting = {}\n",
    "\n",
    "# loop through each token in the frequencies\n",
    "for token in frequencies :\n",
    "\n",
    "        # parse\n",
    "        count = frequencies[ token ]\n",
    "        \n",
    "        # update, optionally\n",
    "        if ( mean <= count <= n ) : interesting[ token ] = count\n",
    "\n",
    "# output\n",
    "print( interesting )\n"
   ]
  }
 ],
 "metadata": {
  "kernelspec": {
   "display_name": "Python 3 (ipykernel)",
   "language": "python",
   "name": "python3"
  },
  "language_info": {
   "codemirror_mode": {
    "name": "ipython",
    "version": 3
   },
   "file_extension": ".py",
   "mimetype": "text/x-python",
   "name": "python",
   "nbconvert_exporter": "python",
   "pygments_lexer": "ipython3",
   "version": "3.9.7"
  }
 },
 "nbformat": 4,
 "nbformat_minor": 4
}
