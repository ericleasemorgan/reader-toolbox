{
 "cells": [
  {
   "cell_type": "markdown",
   "metadata": {},
   "source": [
    "# Fun with frequencies: More counting & tabulating"
   ]
  },
  {
   "cell_type": "code",
   "execution_count": null,
   "metadata": {},
   "outputs": [],
   "source": [
    "# configure; define some constants\n",
    "CARREL   = 'author-charlesIiKingOfEngland-from-freebo'\n",
    "TEMPLATE = './carrels/%s/etc/reader.txt'\n",
    "LANGUAGE = 'english'\n",
    "KEYWORDS = [ 'community', 'support', 'offender', 'report' ]\n"
   ]
  },
  {
   "cell_type": "code",
   "execution_count": null,
   "metadata": {},
   "outputs": [],
   "source": [
    "# require\n",
    "from nltk import *\n",
    "import matplotlib.pyplot as plt\n",
    "from wordcloud import WordCloud\n"
   ]
  },
  {
   "cell_type": "code",
   "execution_count": null,
   "metadata": {},
   "outputs": [],
   "source": [
    "# initilize\n",
    "stopwords = set( corpus.stopwords.words( LANGUAGE ) ) "
   ]
  },
  {
   "cell_type": "code",
   "execution_count": null,
   "metadata": {},
   "outputs": [],
   "source": [
    "# read the given file, tokenize its words, and normalize them\n",
    "file   = TEMPLATE % CARREL\n",
    "data   = open( file ).read()\n",
    "tokens = word_tokenize( data )\n",
    "tokens = [ token.lower() for token in tokens if token.isalpha() ]\n",
    "tokens = [ token for token in tokens if token not in stopwords ] "
   ]
  },
  {
   "cell_type": "code",
   "execution_count": null,
   "metadata": {},
   "outputs": [],
   "source": [
    "# count & tabulate each token\n",
    "frequencies = FreqDist( tokens )"
   ]
  },
  {
   "cell_type": "code",
   "execution_count": null,
   "metadata": {},
   "outputs": [],
   "source": [
    "# output the most frequent N tokens\n",
    "N = 5\n",
    "frequencies.most_common( N )"
   ]
  },
  {
   "cell_type": "code",
   "execution_count": null,
   "metadata": {
    "scrolled": true
   },
   "outputs": [],
   "source": [
    "# output an alphabetical list of words appearing only once\n",
    "sorted( frequencies.hapaxes() )"
   ]
  },
  {
   "cell_type": "code",
   "execution_count": null,
   "metadata": {},
   "outputs": [],
   "source": [
    "# plot the frequency of N most frequent words\n",
    "N = 10\n",
    "frequencies.plot( N )"
   ]
  },
  {
   "cell_type": "code",
   "execution_count": null,
   "metadata": {
    "scrolled": true
   },
   "outputs": [],
   "source": [
    "# re-create the list of tokens to include only the keywords, count them, and plot them\n",
    "tokens = [ token for token in tokens if token in KEYWORDS ] \n",
    "frequencies = FreqDist( tokens )\n",
    "frequencies.plot()"
   ]
  },
  {
   "cell_type": "code",
   "execution_count": null,
   "metadata": {},
   "outputs": [],
   "source": [
    "# read the given file, tokenize its words, and normalize them\n",
    "data        = open( file ).read()\n",
    "tokens      = word_tokenize( data )\n",
    "tokens      = [ token.lower() for token in tokens if token.isalpha() ]\n",
    "tokens      = [ token for token in tokens if token not in stopwords ] \n",
    "frequencies = FreqDist( tokens ).values()\n"
   ]
  },
  {
   "cell_type": "code",
   "execution_count": null,
   "metadata": {},
   "outputs": [],
   "source": [
    "# calculate mean (average), variance, and standard deviation\n",
    "mean        = sum( frequencies ) / len( frequencies )\n",
    "variance    = sum( ( frequency-mean )**2 for frequency in frequencies ) / len(frequencies)\n",
    "deviation   = variance**0.5\n",
    "print( \"mean: %f; variance: %f; deviation: %f\" % ( mean, variance, deviation ) )"
   ]
  },
  {
   "cell_type": "code",
   "execution_count": null,
   "metadata": {
    "scrolled": true
   },
   "outputs": [],
   "source": [
    "# create a list of second-teir \"interesting\" words\n",
    "\n",
    "# initialize\n",
    "frequencies = FreqDist( tokens )\n",
    "n           = round( mean + deviation )\n",
    "interesting = {}\n",
    "\n",
    "# loop through each token in the frequencies\n",
    "for token in frequencies :\n",
    "\n",
    "        # parse\n",
    "        count = frequencies[ token ]\n",
    "        \n",
    "        # update, optionally\n",
    "        if ( mean <= count <= n ) : interesting[ token ] = count\n",
    "\n",
    "# output\n",
    "print( interesting )"
   ]
  }
 ],
 "metadata": {
  "kernelspec": {
   "display_name": "Python 3 (ipykernel)",
   "language": "python",
   "name": "python3"
  },
  "language_info": {
   "codemirror_mode": {
    "name": "ipython",
    "version": 3
   },
   "file_extension": ".py",
   "mimetype": "text/x-python",
   "name": "python",
   "nbconvert_exporter": "python",
   "pygments_lexer": "ipython3",
   "version": "3.9.7"
  }
 },
 "nbformat": 4,
 "nbformat_minor": 4
}
