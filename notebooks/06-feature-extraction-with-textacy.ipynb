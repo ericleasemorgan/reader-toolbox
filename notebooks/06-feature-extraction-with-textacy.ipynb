{
 "cells": [
  {
   "cell_type": "markdown",
   "metadata": {},
   "source": [
    "# More feature extraction: Textacy"
   ]
  },
  {
   "cell_type": "markdown",
   "metadata": {},
   "source": [
    "The Natural Language Toolkit is the grand daddy of text mining libraries/modules for Python, but since its inception, other tools have made themeselves available. One of those tools is called \"Textacy\". Textacy does many of the things done by the NLTK, and it does more. This extra functionality is both more complicated and more expressive than the 'Toolkit. "
   ]
  },
  {
   "cell_type": "code",
   "execution_count": null,
   "metadata": {},
   "outputs": [],
   "source": [
    "# pre-configure\n",
    "LIBRARY = '/Users/eric/Documents/reader-library'\n",
    "CARREL  = 'homer'\n",
    "KEYWORD = 'love'\n"
   ]
  },
  {
   "cell_type": "code",
   "execution_count": null,
   "metadata": {},
   "outputs": [],
   "source": [
    "# configure\n",
    "ETC   = 'etc'\n",
    "TEXT  = 'reader.txt'\n",
    "MODEL = 'en_core_web_sm'\n"
   ]
  },
  {
   "cell_type": "code",
   "execution_count": null,
   "metadata": {},
   "outputs": [],
   "source": [
    "# require\n",
    "import textacy\n",
    "import os\n",
    "import spacy\n",
    "from  textacy.extract.keyterms.yake import yake\n",
    "from pathlib import Path\n"
   ]
  },
  {
   "cell_type": "code",
   "execution_count": null,
   "metadata": {},
   "outputs": [],
   "source": [
    "# initialize\n",
    "library = Path( LIBRARY )\n",
    "text    = library/CARREL/ETC/TEXT\n"
   ]
  },
  {
   "cell_type": "code",
   "execution_count": null,
   "metadata": {},
   "outputs": [],
   "source": [
    "# slurp up and normalize the text\n",
    "with open( text ) as handle : text = handle.read()\n",
    "text = text.replace( '\\n', ' ' ).replace( '\\t', ' ').replace( '  ', ' ')\n"
   ]
  },
  {
   "cell_type": "code",
   "execution_count": null,
   "metadata": {
    "scrolled": false
   },
   "outputs": [],
   "source": [
    "# perform a keyword in context (KWIC) query against the data; concordance\n",
    "lines = list( textacy.extract.kwic.keyword_in_context( text, KEYWORD, window_width=24 ) )\n",
    "for line in lines : print( line )\n"
   ]
  },
  {
   "cell_type": "code",
   "execution_count": null,
   "metadata": {},
   "outputs": [],
   "source": [
    "# create a spaCy \"doc object\"; depending on the size of the input, this may take a few minutes to process\n",
    "size           = len(text)\n",
    "nlp            = spacy.load( MODEL  )\n",
    "nlp.max_length = size\n",
    "doc            = nlp( text )\n"
   ]
  },
  {
   "cell_type": "code",
   "execution_count": null,
   "metadata": {
    "scrolled": true
   },
   "outputs": [],
   "source": [
    "print( doc._.preview )"
   ]
  },
  {
   "cell_type": "code",
   "execution_count": null,
   "metadata": {},
   "outputs": [],
   "source": [
    "print( textacy.TextStats( doc ).flesch_reading_ease )"
   ]
  },
  {
   "cell_type": "code",
   "execution_count": null,
   "metadata": {},
   "outputs": [],
   "source": [
    "list(textacy.extract.ngrams( doc, 2, filter_stops=True, filter_punct=True, filter_nums=False) )"
   ]
  },
  {
   "cell_type": "code",
   "execution_count": null,
   "metadata": {
    "scrolled": true
   },
   "outputs": [],
   "source": [
    "yake( doc )"
   ]
  },
  {
   "cell_type": "code",
   "execution_count": null,
   "metadata": {
    "scrolled": true
   },
   "outputs": [],
   "source": [
    "list( textacy.extract.entities( doc ) )"
   ]
  },
  {
   "cell_type": "code",
   "execution_count": null,
   "metadata": {
    "scrolled": false
   },
   "outputs": [],
   "source": [
    "list( textacy.extract.subject_verb_object_triples( doc ) )"
   ]
  },
  {
   "cell_type": "code",
   "execution_count": null,
   "metadata": {},
   "outputs": [],
   "source": [
    "list( textacy.extract.noun_chunks( doc ) )"
   ]
  },
  {
   "cell_type": "code",
   "execution_count": null,
   "metadata": {},
   "outputs": [],
   "source": [
    "list( textacy.extract.semistructured_statements( doc, entity='you', cue='be' ) ) "
   ]
  },
  {
   "cell_type": "code",
   "execution_count": null,
   "metadata": {},
   "outputs": [],
   "source": []
  }
 ],
 "metadata": {
  "kernelspec": {
   "display_name": "Python 3 (ipykernel)",
   "language": "python",
   "name": "python3"
  },
  "language_info": {
   "codemirror_mode": {
    "name": "ipython",
    "version": 3
   },
   "file_extension": ".py",
   "mimetype": "text/x-python",
   "name": "python",
   "nbconvert_exporter": "python",
   "pygments_lexer": "ipython3",
   "version": "3.9.7"
  }
 },
 "nbformat": 4,
 "nbformat_minor": 4
}
