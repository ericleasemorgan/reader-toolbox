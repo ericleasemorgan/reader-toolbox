{
 "cells": [
  {
   "cell_type": "markdown",
   "id": "41ca0b12",
   "metadata": {},
   "source": [
    "# Make Subcarrel"
   ]
  },
  {
   "cell_type": "markdown",
   "id": "bd716765",
   "metadata": {},
   "source": [
    "Use this notebook to query a given carrel, and copy matching files to a given directory for the purposes of creating an additional, smaller study carrel."
   ]
  },
  {
   "cell_type": "code",
   "execution_count": null,
   "id": "404969ae",
   "metadata": {},
   "outputs": [],
   "source": [
    "# configure\n",
    "CARREL    = 'keough'\n",
    "QUERY     = 'keyword:peace'\n",
    "DIRECTORY = '/Users/eric/Desktop/peace'"
   ]
  },
  {
   "cell_type": "code",
   "execution_count": null,
   "id": "6f12d783",
   "metadata": {},
   "outputs": [],
   "source": [
    "# require\n",
    "from json    import loads\n",
    "from pathlib import Path\n",
    "from shutil  import copy\n",
    "import rdr"
   ]
  },
  {
   "cell_type": "code",
   "execution_count": null,
   "id": "6b5f0242",
   "metadata": {},
   "outputs": [],
   "source": [
    "# initialize\n",
    "directory = Path( DIRECTORY )"
   ]
  },
  {
   "cell_type": "code",
   "execution_count": null,
   "id": "6fa9992e",
   "metadata": {},
   "outputs": [],
   "source": [
    "# get and process each record from the result of a query\n",
    "records = loads( rdr.search( CARREL, query=QUERY, output='json' ) )\n",
    "for record in records :\n",
    "    \n",
    "    # parse, configure, and do the work\n",
    "    source      = Path( record[ 'cache' ] )\n",
    "    destination = directory/source.name\n",
    "    copy( source, destination )"
   ]
  },
  {
   "cell_type": "code",
   "execution_count": null,
   "id": "a339ddf7",
   "metadata": {},
   "outputs": [],
   "source": [
    "# initialize some more\n",
    "library  = rdr.configuration( 'localLibrary' )\n",
    "metadata = library/CARREL/( rdr.METADATA )"
   ]
  },
  {
   "cell_type": "code",
   "execution_count": null,
   "id": "62f194ed",
   "metadata": {},
   "outputs": [],
   "source": [
    "# copy the metadata file, conditionally\n",
    "if metadata.exists : copy( metadata, directory/( metadata.name ) )"
   ]
  },
  {
   "cell_type": "code",
   "execution_count": null,
   "id": "982c190d",
   "metadata": {},
   "outputs": [],
   "source": [
    "# done; echo instructions\n",
    "print( \"\\nDone? You will now probably want to run the 'rdr build' command, and the command will look something like this: rdr build mycarrel %s -s -e\\n\" % DIRECTORY )"
   ]
  }
 ],
 "metadata": {
  "kernelspec": {
   "display_name": "Python 3 (ipykernel)",
   "language": "python",
   "name": "python3"
  },
  "language_info": {
   "codemirror_mode": {
    "name": "ipython",
    "version": 3
   },
   "file_extension": ".py",
   "mimetype": "text/x-python",
   "name": "python",
   "nbconvert_exporter": "python",
   "pygments_lexer": "ipython3",
   "version": "3.9.7"
  }
 },
 "nbformat": 4,
 "nbformat_minor": 5
}
