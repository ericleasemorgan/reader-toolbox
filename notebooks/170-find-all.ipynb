{
 "cells": [
  {
   "cell_type": "markdown",
   "id": "0f5e4ea7",
   "metadata": {},
   "source": [
    "# Find All"
   ]
  },
  {
   "cell_type": "markdown",
   "id": "a82011a4",
   "metadata": {},
   "source": [
    "Using this notebook you can query a carrel using regular expressions."
   ]
  },
  {
   "cell_type": "code",
   "execution_count": 1,
   "id": "4b4fb4ea",
   "metadata": {},
   "outputs": [],
   "source": [
    "# configure\n",
    "CARREL   = 'emerson-works'\n",
    "PATTERNS = [ '<man><is><.*>', '<man><is><a><.*>', '<men><were><a><.*>', '<men><are><a><.*>' ]"
   ]
  },
  {
   "cell_type": "code",
   "execution_count": 2,
   "id": "3f9ca0da",
   "metadata": {},
   "outputs": [],
   "source": [
    "# require\n",
    "import rdr"
   ]
  },
  {
   "cell_type": "code",
   "execution_count": 3,
   "id": "01a4c50b",
   "metadata": {},
   "outputs": [],
   "source": [
    "# initialize\n",
    "model = rdr.getNLTKText( CARREL )"
   ]
  },
  {
   "cell_type": "code",
   "execution_count": 4,
   "id": "7e054623",
   "metadata": {},
   "outputs": [
    {
     "name": "stdout",
     "output_type": "stream",
     "text": [
      "man is at; man is gone; man is imprisoned; man is dazzled; man is\n",
      "cramped; man is made; man is answer; man is a; man is capable; man is\n",
      "in; man is the; man is if; man is obedient; man is truly; man is to;\n",
      "man is fitted; man is ever; man is as; man is to; man is great; man is\n",
      "bipolar; man is an; man is a; man is better; man is he; man is an; man\n",
      "is seldom; man is a; man is gauged; man is forced; man is great; man\n",
      "is more; man is then; man is to; man is good; man is a; man is the;\n",
      "man is only; man is so; man is inflamed; man is the; man is like; man\n",
      "is a; man is an; man is a; man is always; man is guided; man is\n",
      "fortunate; man is a; man is a; man is benefaction; man is reality; man\n",
      "is but; man is fallen; man is quite; man is the; man is only; man is\n",
      "fit; man is a; man is wanted; man is wanted; man is a; man is a; man\n",
      "is a; man is more; man is ,; man is a; man is equal; man is wonted;\n",
      "man is the; man is startled; man is not; man is to; man is .; man is\n",
      ",; man is graceful; man is seeking; man is a; man is an; man is\n",
      "provided; man is once; man is more; man is not; man is violated; man\n",
      "is praise; man is a; man is a; man is spent; man is unrelated; man is\n",
      "man; man is born; man is bitter; man is to; man is not; man is to; man\n",
      "is spoken; man is sent; man is entitled; man is a; man is his; man is\n",
      "a; man is made; man is to; man is trained; man is made; man is a; man\n",
      "is allowed; man is rich; man is not; man is priest; man is thus; man\n",
      "is entitled; man is one; man is surprised; man is related; man is all;\n",
      "man is his; man is relieved; man is ,; man is to; man is he; man is\n",
      "coming; man is a; man is timid; man is the; man is at; man is first;\n",
      "man is a; man is does; man is always; man is all; man is greater; man\n",
      "is imprisoned; man is fed; man is served; man is in; man is a; man is\n",
      "a; man is a; man is a; man is conscious; man is an; man is that; man\n",
      "is followed; man is as; man is greater; man is never; man is hereby;\n",
      "man is its; man is harbored; man is he; man is all; man is one; man is\n",
      "a; man is happily; man is an; man is disunited; man is not; man is\n",
      "priest; man is thus; man is entitled; man is one; man is surprised;\n",
      "man is related; man is all; man is at; man is made; man is made; man\n",
      "is ashamed; man is the; man is nothing; man is a; man is so; man is\n",
      "to; man is the; man is to; man is a; man is cheap; man is at; man is\n",
      "gone; man is imprisoned; man is fed; man is served; man is in; man is\n",
      "a; man is a; man is a; man is a; man is conscious; man is an; man is\n",
      "followed; man is as; man is greater; man is never; man is hereby; man\n",
      "is its; man is harbored; man is he; man is all; man is one; man is a;\n",
      "man is the; man is happily; man is an; man is disunited; man is not;\n",
      "man is priest; man is thus; man is entitled; man is one; man is\n",
      "surprised; man is related; man is all; man is at; man is made; man is\n",
      "made; man is ashamed; man is the; man is nothing; man is a; man is so;\n",
      "man is to; man is the; man is ,; man is a; man is cheap; man is\n",
      "measured; man is thinking; man is a; man is conscious; man is a; man\n",
      "is furnished; man is a; man is at; man is intellectual; man is right;\n",
      "man is broken; man is great; man is twofold; man is in; man is .; man\n",
      "is to; man is lodged; man is a; man is suddenly; man is asked; man is\n",
      "the; man is reflected; man is by; man is for; man is the; man is not;\n",
      "man is a; man is paramount; man is not; man is not; man is centred;\n",
      "man is a; man is happily; man is an; man is a; man is he; man is he;\n",
      "man is right; man is ,; man is ,; man is an; man is explicable; man is\n",
      "the; man is one; man is the; man is truly; man is true; man is a; man\n",
      "is his; man is relieved; man is as; man is to; man is he; man is\n",
      "coming; man is a; man is timid; man is the; man is at; man is first;\n",
      "man is a; man is ,; man is always; man is all; man is greater; man is\n",
      "imprisoned; man is not; man is lost; man is a; man is all; man is\n",
      "contented; man is not; man is reputed; man is not; man is actually;\n",
      "man is a; man is the; man is not; man is the; man is at; man is\n",
      "already; man is his; man is a; man is not; man is not; man is as; man\n",
      "is a; man is a; man is at; man is never; man is but; man is a; man is\n",
      "at; man is made; man is diviner; man is made; man is ashamed; man is\n",
      "the; man is the; man is sent; man is of; man is a; man is born; man is\n",
      "the; man is not; man is not; man is weak; man is hunted; man is the;\n",
      "man is made; man is as; man is efficient; man is a; man is a; man is\n",
      "only; man is the; man is sent; man is of; man is a; man is off; man is\n",
      "repulsive; man is self-possessed; man is irresistibly; man is a; man\n",
      "is right; man is made; man is made; man is a; man is to; man is a; man\n",
      "is physically; man is ,\n",
      "\n",
      "man is a sadly; man is a very; man is a wonder; man is a system; man\n",
      "is a golden; man is a sliding; man is a doll; man is a poor; man is a\n",
      "whole; man is a channel; man is a partialist; man is a universalist;\n",
      "man is a lover; man is a mover; man is a hero; man is a key; man is a\n",
      "cause; man is a centre; man is a shrewd; man is a cause; man is a\n",
      "unique; man is a lion; man is a fox; man is a rock; man is a torch;\n",
      "man is a god; man is a fruit; man is a poor; man is a lion; man is a\n",
      "fox; man is a rock; man is a torch; man is a god; man is a fruit; man\n",
      "is a poor; man is a continuation; man is a new; man is a new; man is a\n",
      "natural; man is a frugal; man is a series; man is a man; man is a\n",
      "bundle; man is a cause; man is a unique; man is a method; man is a\n",
      "stream; man is a self-evolving; man is a receiver; man is a new; man\n",
      "is a man; man is a beggar; man is a consumer; man is a being; man is a\n",
      "beggar; man is a state; man is a rascal; man is a fagot\n",
      "\n",
      "\n",
      "\n",
      "men are a bridge\n",
      "\n"
     ]
    }
   ],
   "source": [
    "# process each pattern\n",
    "for pattern in PATTERNS :\n",
    "    \n",
    "    # do the work and delimit\n",
    "    model.findall( pattern )\n",
    "    print()"
   ]
  }
 ],
 "metadata": {
  "kernelspec": {
   "display_name": "Python 3 (ipykernel)",
   "language": "python",
   "name": "python3"
  },
  "language_info": {
   "codemirror_mode": {
    "name": "ipython",
    "version": 3
   },
   "file_extension": ".py",
   "mimetype": "text/x-python",
   "name": "python",
   "nbconvert_exporter": "python",
   "pygments_lexer": "ipython3",
   "version": "3.9.13"
  }
 },
 "nbformat": 4,
 "nbformat_minor": 5
}
