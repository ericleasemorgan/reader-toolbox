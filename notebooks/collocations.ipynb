{
 "cells": [
  {
   "cell_type": "markdown",
   "id": "04836529",
   "metadata": {},
   "source": [
    "# Collocations"
   ]
  },
  {
   "cell_type": "markdown",
   "id": "c978b707",
   "metadata": {},
   "source": [
    "Use this notebook to output statistically significant collocations, initially bigrams, from a carrel."
   ]
  },
  {
   "cell_type": "code",
   "execution_count": 1,
   "id": "8caccdea",
   "metadata": {},
   "outputs": [],
   "source": [
    "# configure\n",
    "CARREL = 'homer'\n",
    "LIMIT  = 16"
   ]
  },
  {
   "cell_type": "code",
   "execution_count": 2,
   "id": "4a524402",
   "metadata": {},
   "outputs": [],
   "source": [
    "# require\n",
    "import rdr"
   ]
  },
  {
   "cell_type": "code",
   "execution_count": 3,
   "id": "e11e6ac1",
   "metadata": {},
   "outputs": [],
   "source": [
    "# initialize\n",
    "model = rdr.getNLTKText( CARREL )"
   ]
  },
  {
   "cell_type": "code",
   "execution_count": 4,
   "id": "f568cd24",
   "metadata": {},
   "outputs": [],
   "source": [
    "# get the collocations\n",
    "collocations = model.collocation_list( num=LIMIT )"
   ]
  },
  {
   "cell_type": "code",
   "execution_count": 5,
   "id": "3e11de02",
   "metadata": {},
   "outputs": [
    {
     "name": "stdout",
     "output_type": "stream",
     "text": [
      "one\tanother\n",
      "old\tman\n",
      "father\tjove\n",
      "phoebus\tapollo\n",
      "king\tagamemnon\n",
      "every\tone\n",
      "aegisbearing\tjove\n",
      "every\tman\n",
      "outer\tcourt\n",
      "rosyfingered\tdawn\n",
      "went\tback\n",
      "fell\theavily\n",
      "one\telse\n",
      "pallas\tminerva\n",
      "two\tajaxes\n",
      "noble\tson\n"
     ]
    }
   ],
   "source": [
    "# process each collocation, outputing them along the way\n",
    "for collocation in collocations : print( '\\t'.join( collocation ) )"
   ]
  }
 ],
 "metadata": {
  "kernelspec": {
   "display_name": "Python 3 (ipykernel)",
   "language": "python",
   "name": "python3"
  },
  "language_info": {
   "codemirror_mode": {
    "name": "ipython",
    "version": 3
   },
   "file_extension": ".py",
   "mimetype": "text/x-python",
   "name": "python",
   "nbconvert_exporter": "python",
   "pygments_lexer": "ipython3",
   "version": "3.9.7"
  }
 },
 "nbformat": 4,
 "nbformat_minor": 5
}
