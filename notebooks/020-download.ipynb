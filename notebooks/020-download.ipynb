{
 "cells": [
  {
   "cell_type": "markdown",
   "id": "c5d64b0f",
   "metadata": {},
   "source": [
    "# Download"
   ]
  },
  {
   "cell_type": "markdown",
   "id": "deea9293",
   "metadata": {},
   "source": [
    "Given the name of a study carrel saved in the Distant Reader Library, this notebook will add the carrel to your local library.\n",
    "\n",
    "A set of approximately 3,000 previously-created study carrels is available from the Distant Reader Library. They are mostly on the topics of COVID-19 or \"great ideas\" (love, honor, truth, justice, etc.). After perusing the content of the Library and identifying a carrel of interest, you can use this notebook to download the carrel and add it to your collection. Once it is downloaded, you can learn more about whence it came and its extent.\n"
   ]
  },
  {
   "cell_type": "code",
   "execution_count": 1,
   "id": "af9411cc",
   "metadata": {},
   "outputs": [],
   "source": [
    "# configure\n",
    "CARREL = 'homer'\n"
   ]
  },
  {
   "cell_type": "code",
   "execution_count": 2,
   "id": "f56597a9",
   "metadata": {},
   "outputs": [],
   "source": [
    "# require\n",
    "import rdr\n"
   ]
  },
  {
   "cell_type": "code",
   "execution_count": 3,
   "id": "b55644c8",
   "metadata": {},
   "outputs": [
    {
     "name": "stderr",
     "output_type": "stream",
     "text": [
      "\n",
      "  INFO: Downloading remote study carrel...\n",
      "  INFO: Saving study carrel...\n",
      "  INFO: Unziping study carrel...\n",
      "  INFO: Done.\n"
     ]
    }
   ],
   "source": [
    "# cache the given carrel\n",
    "rdr.download( CARREL )"
   ]
  },
  {
   "cell_type": "code",
   "execution_count": 4,
   "id": "3e40094d",
   "metadata": {},
   "outputs": [
    {
     "name": "stdout",
     "output_type": "stream",
     "text": [
      "  creator: eric\n",
      "    title: homer\n",
      "     date: 2023-03-17\n"
     ]
    }
   ],
   "source": [
    "# read provenance\n",
    "creator = rdr.provenance( CARREL, 'creator' )\n",
    "title   = rdr.provenance( CARREL, 'originalID' )\n",
    "date    = rdr.provenance( CARREL, 'dateCreated' )\n",
    "\n",
    "# output\n",
    "print( '  creator:', creator )\n",
    "print( '    title:', title )\n",
    "print( '     date:', date )\n"
   ]
  },
  {
   "cell_type": "code",
   "execution_count": 5,
   "id": "d8f33aca",
   "metadata": {},
   "outputs": [
    {
     "name": "stdout",
     "output_type": "stream",
     "text": [
      "   items: 48\n",
      "   words: 272735\n",
      "  flesch: 76\n"
     ]
    }
   ],
   "source": [
    "# read extents\n",
    "items  = rdr.extents( CARREL, 'items' )\n",
    "words  = rdr.extents( CARREL, 'words' )\n",
    "flesch = rdr.extents( CARREL, 'flesch' )\n",
    "\n",
    "# output\n",
    "print( '   items:', str( items ) )\n",
    "print( '   words:', str( words ) )\n",
    "print( '  flesch:', str( flesch ) )\n"
   ]
  },
  {
   "cell_type": "code",
   "execution_count": null,
   "id": "f32271e6",
   "metadata": {},
   "outputs": [],
   "source": []
  }
 ],
 "metadata": {
  "kernelspec": {
   "display_name": "Python 3 (ipykernel)",
   "language": "python",
   "name": "python3"
  },
  "language_info": {
   "codemirror_mode": {
    "name": "ipython",
    "version": 3
   },
   "file_extension": ".py",
   "mimetype": "text/x-python",
   "name": "python",
   "nbconvert_exporter": "python",
   "pygments_lexer": "ipython3",
   "version": "3.9.13"
  }
 },
 "nbformat": 4,
 "nbformat_minor": 5
}
