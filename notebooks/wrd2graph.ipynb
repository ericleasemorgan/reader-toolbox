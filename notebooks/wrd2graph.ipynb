{
 "cells": [
  {
   "cell_type": "markdown",
   "id": "d74c79c5",
   "metadata": {},
   "source": [
    "# Beginning network graphs"
   ]
  },
  {
   "cell_type": "markdown",
   "id": "e4cac1af",
   "metadata": {},
   "source": [
    "How to create a rudimentary network graph"
   ]
  },
  {
   "cell_type": "code",
   "execution_count": 1,
   "id": "53622717",
   "metadata": {},
   "outputs": [],
   "source": [
    "# pre-configure\n",
    "LIBRARY = '/Users/eric/Documents/reader-library'\n",
    "CARREL  = 'homer'\n",
    "CSV     = '/Users/eric/edges.csv'\n"
   ]
  },
  {
   "cell_type": "code",
   "execution_count": 2,
   "id": "43db7727",
   "metadata": {},
   "outputs": [],
   "source": [
    "# configure\n",
    "ETC      = 'etc'\n",
    "DATABASE = 'reader.db'\n",
    "QUERY    = 'SELECT id FROM bib ORDER by id'\n",
    "SUBQUERY = 'SELECT keyword FROM wrd WHERE id IS \"%s\" ORDER BY keyword'\n",
    "COLUMNS  = [ 'source', 'target' ]\n"
   ]
  },
  {
   "cell_type": "code",
   "execution_count": 3,
   "id": "b93e7dc9",
   "metadata": {},
   "outputs": [],
   "source": [
    "# require\n",
    "from pathlib import Path\n",
    "import sqlite3\n",
    "import pandas as pd\n"
   ]
  },
  {
   "cell_type": "code",
   "execution_count": 4,
   "id": "ae22840f",
   "metadata": {},
   "outputs": [],
   "source": [
    "# initialize\n",
    "library                = Path( LIBRARY )\n",
    "connection             = sqlite3.connect( str( library/CARREL/ETC/DATABASE )  )\n",
    "connection.row_factory = sqlite3.Row\n"
   ]
  },
  {
   "cell_type": "code",
   "execution_count": 5,
   "id": "2bb8ec2b",
   "metadata": {},
   "outputs": [],
   "source": [
    "# find and process each identifier\n",
    "edges       = []\n",
    "identifiers = connection.execute( QUERY )\n",
    "for record in identifiers :\n",
    "    \n",
    "    # parse\n",
    "    id = record[ 'id' ]\n",
    "    \n",
    "    # create a subquery\n",
    "    subquery = ( SUBQUERY % id )\n",
    "    \n",
    "    # find and process each keyword\n",
    "    keywords = connection.execute( subquery )\n",
    "    for keyword in keywords :\n",
    "        \n",
    "        # parse\n",
    "        word = keyword[ 'keyword' ]\n",
    "        \n",
    "        # update\n",
    "        edge = [ id, word ]\n",
    "        edges.append( edge )\n",
    "    "
   ]
  },
  {
   "cell_type": "code",
   "execution_count": 6,
   "id": "1c5e0a25",
   "metadata": {},
   "outputs": [],
   "source": [
    "# create a dataframe from the result and output\n",
    "edges = pd.DataFrame( edges, columns=COLUMNS )\n",
    "edges.to_csv( CSV, index=False )\n"
   ]
  }
 ],
 "metadata": {
  "kernelspec": {
   "display_name": "Python 3 (ipykernel)",
   "language": "python",
   "name": "python3"
  },
  "language_info": {
   "codemirror_mode": {
    "name": "ipython",
    "version": 3
   },
   "file_extension": ".py",
   "mimetype": "text/x-python",
   "name": "python",
   "nbconvert_exporter": "python",
   "pygments_lexer": "ipython3",
   "version": "3.9.7"
  }
 },
 "nbformat": 4,
 "nbformat_minor": 5
}
