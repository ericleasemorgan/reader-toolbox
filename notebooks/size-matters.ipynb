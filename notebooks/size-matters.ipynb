{
 "cells": [
  {
   "cell_type": "markdown",
   "id": "82ab0f9f",
   "metadata": {},
   "source": [
    "# Size Matters"
   ]
  },
  {
   "cell_type": "markdown",
   "id": "bc5d4ee7",
   "metadata": {},
   "source": [
    "In this notebook, the sum of your carrels will be read and listed according to the number of words they contain. This is important because the various analysis (\"modeling\") processes only work or scale well when the number of words in a corpus is between different ranges. Thus, size matters."
   ]
  },
  {
   "cell_type": "code",
   "execution_count": 1,
   "id": "98cdaba0",
   "metadata": {},
   "outputs": [],
   "source": [
    "# require\n",
    "import rdr"
   ]
  },
  {
   "cell_type": "code",
   "execution_count": 2,
   "id": "4dff18a6",
   "metadata": {},
   "outputs": [],
   "source": [
    "# initialize\n",
    "catalog = {}"
   ]
  },
  {
   "cell_type": "code",
   "execution_count": 3,
   "id": "142d48bf",
   "metadata": {},
   "outputs": [
    {
     "ename": "OperationalError",
     "evalue": "no such table: bib",
     "output_type": "error",
     "traceback": [
      "\u001b[0;31m---------------------------------------------------------------------------\u001b[0m",
      "\u001b[0;31mOperationalError\u001b[0m                          Traceback (most recent call last)",
      "\u001b[0;32m/var/folders/0_/ff91zkcx2_jb77p4c8_9kndc0000gn/T/ipykernel_2986/3436307146.py\u001b[0m in \u001b[0;36m<module>\u001b[0;34m\u001b[0m\n\u001b[1;32m      4\u001b[0m \u001b[0;34m\u001b[0m\u001b[0m\n\u001b[1;32m      5\u001b[0m     \u001b[0;31m# update the catalog with the size (measured in words) of each carrel\u001b[0m\u001b[0;34m\u001b[0m\u001b[0;34m\u001b[0m\u001b[0m\n\u001b[0;32m----> 6\u001b[0;31m     \u001b[0mcatalog\u001b[0m\u001b[0;34m[\u001b[0m \u001b[0mcarrel\u001b[0m \u001b[0;34m]\u001b[0m \u001b[0;34m=\u001b[0m \u001b[0mrdr\u001b[0m\u001b[0;34m.\u001b[0m\u001b[0mextents\u001b[0m\u001b[0;34m(\u001b[0m \u001b[0mcarrel\u001b[0m\u001b[0;34m,\u001b[0m \u001b[0;34m'words'\u001b[0m \u001b[0;34m)\u001b[0m\u001b[0;34m\u001b[0m\u001b[0;34m\u001b[0m\u001b[0m\n\u001b[0m",
      "\u001b[0;32m~/Library/Mobile Documents/com~apple~CloudDocs/Documents/reader-toolbox/rdr/__init__.py\u001b[0m in \u001b[0;36mextents\u001b[0;34m(carrel, type)\u001b[0m\n\u001b[1;32m    591\u001b[0m         \u001b[0;31m# get extents\u001b[0m\u001b[0;34m\u001b[0m\u001b[0;34m\u001b[0m\u001b[0m\n\u001b[1;32m    592\u001b[0m         \u001b[0msql\u001b[0m \u001b[0;34m=\u001b[0m \u001b[0;34m'SELECT COUNT( id ) AS items, SUM( words ) AS words, AVG( flesch ) AS flesch FROM bib;'\u001b[0m\u001b[0;34m\u001b[0m\u001b[0;34m\u001b[0m\u001b[0m\n\u001b[0;32m--> 593\u001b[0;31m         \u001b[0mrows\u001b[0m \u001b[0;34m=\u001b[0m \u001b[0mconnection\u001b[0m\u001b[0;34m.\u001b[0m\u001b[0mexecute\u001b[0m\u001b[0;34m(\u001b[0m \u001b[0msql\u001b[0m \u001b[0;34m)\u001b[0m\u001b[0;34m\u001b[0m\u001b[0;34m\u001b[0m\u001b[0m\n\u001b[0m\u001b[1;32m    594\u001b[0m         \u001b[0;32mfor\u001b[0m \u001b[0mrow\u001b[0m \u001b[0;32min\u001b[0m \u001b[0mrows\u001b[0m \u001b[0;34m:\u001b[0m\u001b[0;34m\u001b[0m\u001b[0;34m\u001b[0m\u001b[0m\n\u001b[1;32m    595\u001b[0m \u001b[0;34m\u001b[0m\u001b[0m\n",
      "\u001b[0;31mOperationalError\u001b[0m: no such table: bib"
     ]
    }
   ],
   "source": [
    "# get and process each carrel\n",
    "carrels = rdr.catalog().split( '\\n' )\n",
    "for carrel in carrels :\n",
    "    \n",
    "    # update the catalog with the size (measured in words) of each carrel\n",
    "    catalog[ carrel ] = rdr.extents( carrel, 'words' )"
   ]
  },
  {
   "cell_type": "code",
   "execution_count": null,
   "id": "49595e68",
   "metadata": {},
   "outputs": [],
   "source": [
    "# sort the result\n",
    "catalog = dict( sorted( catalog.items(), key=lambda x:x[ 1 ], reverse=True ) )"
   ]
  },
  {
   "cell_type": "code",
   "execution_count": null,
   "id": "d00cc05b",
   "metadata": {},
   "outputs": [],
   "source": [
    "# loop through each carrel in the catalog\n",
    "for carrel in catalog :\n",
    "    \n",
    "    # extract the size and output\n",
    "    size = catalog[ carrel ]\n",
    "    print( '\\t'.join( [ carrel, str( size ) ] ) )"
   ]
  }
 ],
 "metadata": {
  "kernelspec": {
   "display_name": "Python 3 (ipykernel)",
   "language": "python",
   "name": "python3"
  },
  "language_info": {
   "codemirror_mode": {
    "name": "ipython",
    "version": 3
   },
   "file_extension": ".py",
   "mimetype": "text/x-python",
   "name": "python",
   "nbconvert_exporter": "python",
   "pygments_lexer": "ipython3",
   "version": "3.9.13"
  }
 },
 "nbformat": 4,
 "nbformat_minor": 5
}
