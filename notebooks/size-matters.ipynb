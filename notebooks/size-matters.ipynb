{
 "cells": [
  {
   "cell_type": "markdown",
   "id": "82ab0f9f",
   "metadata": {},
   "source": [
    "# Size Matters"
   ]
  },
  {
   "cell_type": "markdown",
   "id": "bc5d4ee7",
   "metadata": {},
   "source": [
    "In this notebook, the sum of your carrels will be read and listed according to the number of words they contain. This is important because the various analysis (\"modeling\") processes only work or scale well when the number of words in a corpus is between different ranges. Thus, size matters."
   ]
  },
  {
   "cell_type": "code",
   "execution_count": 1,
   "id": "98cdaba0",
   "metadata": {},
   "outputs": [],
   "source": [
    "# require\n",
    "import rdr"
   ]
  },
  {
   "cell_type": "code",
   "execution_count": 2,
   "id": "4dff18a6",
   "metadata": {},
   "outputs": [],
   "source": [
    "# initialize\n",
    "catalog = {}"
   ]
  },
  {
   "cell_type": "code",
   "execution_count": 3,
   "id": "142d48bf",
   "metadata": {},
   "outputs": [],
   "source": [
    "# get and process each carrel\n",
    "carrels = rdr.catalog().split( '\\n' )\n",
    "for carrel in carrels :\n",
    "    \n",
    "    # update the catalog with the size (measured in words) of each carrel\n",
    "    catalog[ carrel ] = rdr.extents( carrel, type='words' )"
   ]
  },
  {
   "cell_type": "code",
   "execution_count": 4,
   "id": "49595e68",
   "metadata": {},
   "outputs": [],
   "source": [
    "# sort the result\n",
    "catalog = dict( sorted( catalog.items(), key=lambda x:x[ 1 ], reverse=True ) )"
   ]
  },
  {
   "cell_type": "code",
   "execution_count": 5,
   "id": "d00cc05b",
   "metadata": {},
   "outputs": [
    {
     "name": "stdout",
     "output_type": "stream",
     "text": [
      "keough\t16025282\n",
      "truth-and-beauty\t10957895\n",
      "aesthetics\t8322156\n",
      "beauty\t5661820\n",
      "ital\t3413132\n",
      "dhq\t3381884\n",
      "love-honor-truth-justice\t3186951\n",
      "morgan-links-2022\t3035185\n",
      "gargano-migrants-2022\t2136174\n",
      "code4lib-journal\t2110541\n",
      "hakluyt\t1795468\n",
      "emerson-works\t1703710\n",
      "victorian\t1685786\n",
      "art-is\t1632820\n",
      "lead-pipe\t1624174\n",
      "morgan-reading-2022\t1427448\n",
      "code4lib-mailinglist-2011\t989969.0\n",
      "shakespeare-works\t959681\n",
      "shakespeare-plays\t940379\n",
      "plague-literature\t840490\n",
      "morgan-writing-2022\t757752\n",
      "code4lib-mailinglist-2021\t550460.0\n",
      "mukhopadhyay-2021\t490149\n",
      "ideas\t428790\n",
      "wooley-works\t374921\n",
      "boccaccio-decameron-1348\t295171\n",
      "homer\t272735\n",
      "melville-moby-1851\t217965\n",
      "austen-pride\t122638\n",
      "austen-sense-1811\t120722\n",
      "librarylab\t110550\n",
      "defoe-history-1722\t86750\n",
      "bode-world-2018\t82352\n",
      "email-2021\t54416\n",
      "issue-053\t45218\n",
      "ital-v41n02\t43348\n",
      "dsh\t40341\n",
      "baum-wizard-1900\t39623\n",
      "shakespeare-sonnets\t19222\n",
      "constitution-rights\t5047\n"
     ]
    }
   ],
   "source": [
    "# loop through each carrel in the catalog\n",
    "for carrel in catalog :\n",
    "    \n",
    "    # extract the size and output\n",
    "    size = catalog[ carrel ]\n",
    "    print( '\\t'.join( [ carrel, str( size ) ] ) )"
   ]
  }
 ],
 "metadata": {
  "kernelspec": {
   "display_name": "Python 3 (ipykernel)",
   "language": "python",
   "name": "python3"
  },
  "language_info": {
   "codemirror_mode": {
    "name": "ipython",
    "version": 3
   },
   "file_extension": ".py",
   "mimetype": "text/x-python",
   "name": "python",
   "nbconvert_exporter": "python",
   "pygments_lexer": "ipython3",
   "version": "3.9.7"
  }
 },
 "nbformat": 4,
 "nbformat_minor": 5
}
