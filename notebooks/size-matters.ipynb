{
 "cells": [
  {
   "cell_type": "markdown",
   "id": "82ab0f9f",
   "metadata": {},
   "source": [
    "# Size Matters"
   ]
  },
  {
   "cell_type": "markdown",
   "id": "bc5d4ee7",
   "metadata": {},
   "source": [
    "In this notebook, the sum of your carrels will be read and listed according to the number of words they contain. This is important because the various analysis (\"modeling\") processes only work or scale well when the number of words in a corpus is between different ranges. Thus, size matters."
   ]
  },
  {
   "cell_type": "code",
   "execution_count": null,
   "id": "98cdaba0",
   "metadata": {},
   "outputs": [],
   "source": [
    "# require\n",
    "import rdr"
   ]
  },
  {
   "cell_type": "code",
   "execution_count": null,
   "id": "4dff18a6",
   "metadata": {},
   "outputs": [],
   "source": [
    "# initialize\n",
    "catalog = {}"
   ]
  },
  {
   "cell_type": "code",
   "execution_count": null,
   "id": "142d48bf",
   "metadata": {},
   "outputs": [],
   "source": [
    "# get and process each carrel\n",
    "carrels = rdr.catalog().split( '\\n' )\n",
    "for carrel in carrels :\n",
    "    \n",
    "    # update the catalog with the size (measured in words) of each carrel\n",
    "    catalog[ carrel ] = rdr.extents( carrel, type='words' )"
   ]
  },
  {
   "cell_type": "code",
   "execution_count": null,
   "id": "49595e68",
   "metadata": {},
   "outputs": [],
   "source": [
    "# sort the result\n",
    "catalog = dict( sorted( catalog.items(), key=lambda x:x[ 1 ], reverse=True ) )"
   ]
  },
  {
   "cell_type": "code",
   "execution_count": null,
   "id": "d00cc05b",
   "metadata": {},
   "outputs": [],
   "source": [
    "# loop through each carrel in the catalog\n",
    "for carrel in catalog :\n",
    "    \n",
    "    # extract the size and output\n",
    "    size = catalog[ carrel ]\n",
    "    print( '\\t'.join( [ carrel, str( size ) ] ) )"
   ]
  }
 ],
 "metadata": {
  "kernelspec": {
   "display_name": "Python 3 (ipykernel)",
   "language": "python",
   "name": "python3"
  },
  "language_info": {
   "codemirror_mode": {
    "name": "ipython",
    "version": 3
   },
   "file_extension": ".py",
   "mimetype": "text/x-python",
   "name": "python",
   "nbconvert_exporter": "python",
   "pygments_lexer": "ipython3",
   "version": "3.9.7"
  }
 },
 "nbformat": 4,
 "nbformat_minor": 5
}
